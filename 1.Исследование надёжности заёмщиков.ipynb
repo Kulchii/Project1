{
 "cells": [
  {
   "cell_type": "markdown",
   "metadata": {},
   "source": [
    "# Исследование надёжности заёмщиков\n",
    "\n",
    "Заказчик — кредитный отдел банка. Нужно разобраться, влияет ли семейное положение и количество детей клиента на факт погашения кредита в срок. Входные данные от банка — статистика о платёжеспособности клиентов.\n",
    "\n",
    "Результаты исследования будут учтены при построении модели **кредитного скоринга** — специальной системы, которая оценивает способность потенциального заёмщика вернуть кредит банку.\n",
    "# Описание данных\n",
    "children — количество детей в семье\n",
    "days_employed — общий трудовой стаж в днях\n",
    "dob_years — возраст клиента в годах\n",
    "education — уровень образования клиента\n",
    "education_id — идентификатор уровня образования\n",
    "family_status — семейное положение\n",
    "family_status_id — идентификатор семейного положения\n",
    "gender — пол клиента\n",
    "income_type — тип занятости\n",
    "debt — имел ли задолженность по возврату кредитов\n",
    "total_income — ежемесячный доход\n",
    "purpose — цель получения кредита"
   ]
  },
  {
   "cell_type": "markdown",
   "metadata": {},
   "source": [
    "## Шаг 1. Откройте файл с данными и изучите общую информацию\n",
    "Импортируем библиотеку pandas и прочитаем файл с исходными данными"
   ]
  },
  {
   "cell_type": "code",
   "execution_count": 1,
   "metadata": {},
   "outputs": [],
   "source": [
    "import pandas as pd \n",
    "from pymystem3 import Mystem \n",
    "m = Mystem()\n",
    "from collections import Counter \n",
    "import warnings\n",
    "warnings.filterwarnings('ignore')"
   ]
  },
  {
   "cell_type": "code",
   "execution_count": 2,
   "metadata": {},
   "outputs": [],
   "source": [
    "data = pd.read_csv('/datasets/data.csv')"
   ]
  },
  {
   "cell_type": "markdown",
   "metadata": {},
   "source": [
    "Изучим общую информацию о данных"
   ]
  },
  {
   "cell_type": "code",
   "execution_count": 3,
   "metadata": {},
   "outputs": [
    {
     "name": "stdout",
     "output_type": "stream",
     "text": [
      "<class 'pandas.core.frame.DataFrame'>\n",
      "RangeIndex: 21525 entries, 0 to 21524\n",
      "Data columns (total 12 columns):\n",
      "children            21525 non-null int64\n",
      "days_employed       19351 non-null float64\n",
      "dob_years           21525 non-null int64\n",
      "education           21525 non-null object\n",
      "education_id        21525 non-null int64\n",
      "family_status       21525 non-null object\n",
      "family_status_id    21525 non-null int64\n",
      "gender              21525 non-null object\n",
      "income_type         21525 non-null object\n",
      "debt                21525 non-null int64\n",
      "total_income        19351 non-null float64\n",
      "purpose             21525 non-null object\n",
      "dtypes: float64(2), int64(5), object(5)\n",
      "memory usage: 2.0+ MB\n"
     ]
    }
   ],
   "source": [
    "data.info() "
   ]
  },
  {
   "cell_type": "markdown",
   "metadata": {},
   "source": [
    "Выведем название столбцов"
   ]
  },
  {
   "cell_type": "code",
   "execution_count": 4,
   "metadata": {},
   "outputs": [
    {
     "data": {
      "text/plain": [
       "Index(['children', 'days_employed', 'dob_years', 'education', 'education_id',\n",
       "       'family_status', 'family_status_id', 'gender', 'income_type', 'debt',\n",
       "       'total_income', 'purpose'],\n",
       "      dtype='object')"
      ]
     },
     "execution_count": 4,
     "metadata": {},
     "output_type": "execute_result"
    }
   ],
   "source": [
    "data.columns "
   ]
  },
  {
   "cell_type": "code",
   "execution_count": 5,
   "metadata": {},
   "outputs": [
    {
     "data": {
      "text/html": [
       "<div>\n",
       "<style scoped>\n",
       "    .dataframe tbody tr th:only-of-type {\n",
       "        vertical-align: middle;\n",
       "    }\n",
       "\n",
       "    .dataframe tbody tr th {\n",
       "        vertical-align: top;\n",
       "    }\n",
       "\n",
       "    .dataframe thead th {\n",
       "        text-align: right;\n",
       "    }\n",
       "</style>\n",
       "<table border=\"1\" class=\"dataframe\">\n",
       "  <thead>\n",
       "    <tr style=\"text-align: right;\">\n",
       "      <th></th>\n",
       "      <th>children</th>\n",
       "      <th>days_employed</th>\n",
       "      <th>dob_years</th>\n",
       "      <th>education</th>\n",
       "      <th>education_id</th>\n",
       "      <th>family_status</th>\n",
       "      <th>family_status_id</th>\n",
       "      <th>gender</th>\n",
       "      <th>income_type</th>\n",
       "      <th>debt</th>\n",
       "      <th>total_income</th>\n",
       "      <th>purpose</th>\n",
       "    </tr>\n",
       "  </thead>\n",
       "  <tbody>\n",
       "    <tr>\n",
       "      <td>0</td>\n",
       "      <td>1</td>\n",
       "      <td>-8437.673028</td>\n",
       "      <td>42</td>\n",
       "      <td>высшее</td>\n",
       "      <td>0</td>\n",
       "      <td>женат / замужем</td>\n",
       "      <td>0</td>\n",
       "      <td>F</td>\n",
       "      <td>сотрудник</td>\n",
       "      <td>0</td>\n",
       "      <td>253875.639453</td>\n",
       "      <td>покупка жилья</td>\n",
       "    </tr>\n",
       "    <tr>\n",
       "      <td>1</td>\n",
       "      <td>1</td>\n",
       "      <td>-4024.803754</td>\n",
       "      <td>36</td>\n",
       "      <td>среднее</td>\n",
       "      <td>1</td>\n",
       "      <td>женат / замужем</td>\n",
       "      <td>0</td>\n",
       "      <td>F</td>\n",
       "      <td>сотрудник</td>\n",
       "      <td>0</td>\n",
       "      <td>112080.014102</td>\n",
       "      <td>приобретение автомобиля</td>\n",
       "    </tr>\n",
       "    <tr>\n",
       "      <td>2</td>\n",
       "      <td>0</td>\n",
       "      <td>-5623.422610</td>\n",
       "      <td>33</td>\n",
       "      <td>Среднее</td>\n",
       "      <td>1</td>\n",
       "      <td>женат / замужем</td>\n",
       "      <td>0</td>\n",
       "      <td>M</td>\n",
       "      <td>сотрудник</td>\n",
       "      <td>0</td>\n",
       "      <td>145885.952297</td>\n",
       "      <td>покупка жилья</td>\n",
       "    </tr>\n",
       "    <tr>\n",
       "      <td>3</td>\n",
       "      <td>3</td>\n",
       "      <td>-4124.747207</td>\n",
       "      <td>32</td>\n",
       "      <td>среднее</td>\n",
       "      <td>1</td>\n",
       "      <td>женат / замужем</td>\n",
       "      <td>0</td>\n",
       "      <td>M</td>\n",
       "      <td>сотрудник</td>\n",
       "      <td>0</td>\n",
       "      <td>267628.550329</td>\n",
       "      <td>дополнительное образование</td>\n",
       "    </tr>\n",
       "    <tr>\n",
       "      <td>4</td>\n",
       "      <td>0</td>\n",
       "      <td>340266.072047</td>\n",
       "      <td>53</td>\n",
       "      <td>среднее</td>\n",
       "      <td>1</td>\n",
       "      <td>гражданский брак</td>\n",
       "      <td>1</td>\n",
       "      <td>F</td>\n",
       "      <td>пенсионер</td>\n",
       "      <td>0</td>\n",
       "      <td>158616.077870</td>\n",
       "      <td>сыграть свадьбу</td>\n",
       "    </tr>\n",
       "  </tbody>\n",
       "</table>\n",
       "</div>"
      ],
      "text/plain": [
       "   children  days_employed  dob_years education  education_id  \\\n",
       "0         1   -8437.673028         42    высшее             0   \n",
       "1         1   -4024.803754         36   среднее             1   \n",
       "2         0   -5623.422610         33   Среднее             1   \n",
       "3         3   -4124.747207         32   среднее             1   \n",
       "4         0  340266.072047         53   среднее             1   \n",
       "\n",
       "      family_status  family_status_id gender income_type  debt   total_income  \\\n",
       "0   женат / замужем                 0      F   сотрудник     0  253875.639453   \n",
       "1   женат / замужем                 0      F   сотрудник     0  112080.014102   \n",
       "2   женат / замужем                 0      M   сотрудник     0  145885.952297   \n",
       "3   женат / замужем                 0      M   сотрудник     0  267628.550329   \n",
       "4  гражданский брак                 1      F   пенсионер     0  158616.077870   \n",
       "\n",
       "                      purpose  \n",
       "0               покупка жилья  \n",
       "1     приобретение автомобиля  \n",
       "2               покупка жилья  \n",
       "3  дополнительное образование  \n",
       "4             сыграть свадьбу  "
      ]
     },
     "execution_count": 5,
     "metadata": {},
     "output_type": "execute_result"
    }
   ],
   "source": [
    "data.head()"
   ]
  },
  {
   "cell_type": "markdown",
   "metadata": {},
   "source": [
    "Посмотрим пропуски"
   ]
  },
  {
   "cell_type": "code",
   "execution_count": 6,
   "metadata": {},
   "outputs": [
    {
     "data": {
      "text/plain": [
       "children               0\n",
       "days_employed       2174\n",
       "dob_years              0\n",
       "education              0\n",
       "education_id           0\n",
       "family_status          0\n",
       "family_status_id       0\n",
       "gender                 0\n",
       "income_type            0\n",
       "debt                   0\n",
       "total_income        2174\n",
       "purpose                0\n",
       "dtype: int64"
      ]
     },
     "execution_count": 6,
     "metadata": {},
     "output_type": "execute_result"
    }
   ],
   "source": [
    "data.isnull().sum()"
   ]
  },
  {
   "cell_type": "markdown",
   "metadata": {},
   "source": [
    "Посмотрим полные дубликаты"
   ]
  },
  {
   "cell_type": "code",
   "execution_count": 7,
   "metadata": {},
   "outputs": [
    {
     "data": {
      "text/plain": [
       "54"
      ]
     },
     "execution_count": 7,
     "metadata": {},
     "output_type": "execute_result"
    }
   ],
   "source": [
    "data.duplicated().sum()"
   ]
  },
  {
   "cell_type": "markdown",
   "metadata": {},
   "source": [
    "Рассмотрим уникальные значения данных для каждого столбца"
   ]
  },
  {
   "cell_type": "code",
   "execution_count": 8,
   "metadata": {
    "scrolled": true
   },
   "outputs": [
    {
     "name": "stdout",
     "output_type": "stream",
     "text": [
      " 0     14149\n",
      " 1      4818\n",
      " 2      2055\n",
      " 3       330\n",
      " 20       76\n",
      "-1        47\n",
      " 4        41\n",
      " 5         9\n",
      "Name: children, dtype: int64\n",
      "-986.927316     1\n",
      "-7026.359174    1\n",
      "-4236.274243    1\n",
      "-6620.396473    1\n",
      "-1238.560080    1\n",
      "               ..\n",
      "-2849.351119    1\n",
      "-5619.328204    1\n",
      "-448.829898     1\n",
      "-1687.038672    1\n",
      "-582.538413     1\n",
      "Name: days_employed, Length: 19351, dtype: int64\n",
      "35    617\n",
      "40    609\n",
      "41    607\n",
      "34    603\n",
      "38    598\n",
      "42    597\n",
      "33    581\n",
      "39    573\n",
      "31    560\n",
      "36    555\n",
      "44    547\n",
      "29    545\n",
      "30    540\n",
      "48    538\n",
      "37    537\n",
      "50    514\n",
      "43    513\n",
      "32    510\n",
      "49    508\n",
      "28    503\n",
      "45    497\n",
      "27    493\n",
      "56    487\n",
      "52    484\n",
      "47    480\n",
      "54    479\n",
      "46    475\n",
      "58    461\n",
      "57    460\n",
      "53    459\n",
      "51    448\n",
      "59    444\n",
      "55    443\n",
      "26    408\n",
      "60    377\n",
      "25    357\n",
      "61    355\n",
      "62    352\n",
      "63    269\n",
      "64    265\n",
      "24    264\n",
      "23    254\n",
      "65    194\n",
      "66    183\n",
      "22    183\n",
      "67    167\n",
      "21    111\n",
      "0     101\n",
      "68     99\n",
      "69     85\n",
      "70     65\n",
      "71     58\n",
      "20     51\n",
      "72     33\n",
      "19     14\n",
      "73      8\n",
      "74      6\n",
      "75      1\n",
      "Name: dob_years, dtype: int64\n",
      "среднее                13750\n",
      "высшее                  4718\n",
      "СРЕДНЕЕ                  772\n",
      "Среднее                  711\n",
      "неоконченное высшее      668\n",
      "ВЫСШЕЕ                   274\n",
      "Высшее                   268\n",
      "начальное                250\n",
      "Неоконченное высшее       47\n",
      "НЕОКОНЧЕННОЕ ВЫСШЕЕ       29\n",
      "НАЧАЛЬНОЕ                 17\n",
      "Начальное                 15\n",
      "ученая степень             4\n",
      "УЧЕНАЯ СТЕПЕНЬ             1\n",
      "Ученая степень             1\n",
      "Name: education, dtype: int64\n",
      "1    15233\n",
      "0     5260\n",
      "2      744\n",
      "3      282\n",
      "4        6\n",
      "Name: education_id, dtype: int64\n",
      "женат / замужем          12380\n",
      "гражданский брак          4177\n",
      "Не женат / не замужем     2813\n",
      "в разводе                 1195\n",
      "вдовец / вдова             960\n",
      "Name: family_status, dtype: int64\n",
      "0    12380\n",
      "1     4177\n",
      "4     2813\n",
      "3     1195\n",
      "2      960\n",
      "Name: family_status_id, dtype: int64\n",
      "F      14236\n",
      "M       7288\n",
      "XNA        1\n",
      "Name: gender, dtype: int64\n",
      "сотрудник          11119\n",
      "компаньон           5085\n",
      "пенсионер           3856\n",
      "госслужащий         1459\n",
      "безработный            2\n",
      "предприниматель        2\n",
      "студент                1\n",
      "в декрете              1\n",
      "Name: income_type, dtype: int64\n",
      "0    19784\n",
      "1     1741\n",
      "Name: debt, dtype: int64\n",
      "112874.418757    1\n",
      "133912.272223    1\n",
      "182036.676828    1\n",
      "122421.963500    1\n",
      "198271.837248    1\n",
      "                ..\n",
      "133299.194693    1\n",
      "115080.782380    1\n",
      "84896.781597     1\n",
      "153838.839212    1\n",
      "150014.128510    1\n",
      "Name: total_income, Length: 19351, dtype: int64\n",
      "свадьба                                   797\n",
      "на проведение свадьбы                     777\n",
      "сыграть свадьбу                           774\n",
      "операции с недвижимостью                  676\n",
      "покупка коммерческой недвижимости         664\n",
      "покупка жилья для сдачи                   653\n",
      "операции с жильем                         653\n",
      "операции с коммерческой недвижимостью     651\n",
      "жилье                                     647\n",
      "покупка жилья                             647\n",
      "покупка жилья для семьи                   641\n",
      "строительство собственной недвижимости    635\n",
      "недвижимость                              634\n",
      "операции со своей недвижимостью           630\n",
      "строительство жилой недвижимости          626\n",
      "покупка недвижимости                      624\n",
      "покупка своего жилья                      620\n",
      "строительство недвижимости                620\n",
      "ремонт жилью                              612\n",
      "покупка жилой недвижимости                607\n",
      "на покупку своего автомобиля              505\n",
      "заняться высшим образованием              496\n",
      "автомобиль                                495\n",
      "сделка с подержанным автомобилем          489\n",
      "свой автомобиль                           480\n",
      "на покупку подержанного автомобиля        479\n",
      "автомобили                                478\n",
      "на покупку автомобиля                     472\n",
      "приобретение автомобиля                   462\n",
      "дополнительное образование                462\n",
      "сделка с автомобилем                      455\n",
      "высшее образование                        453\n",
      "получение дополнительного образования     447\n",
      "образование                               447\n",
      "получение образования                     443\n",
      "профильное образование                    436\n",
      "получение высшего образования             426\n",
      "заняться образованием                     412\n",
      "Name: purpose, dtype: int64\n"
     ]
    }
   ],
   "source": [
    "for row in data: \n",
    "    print(data[row].value_counts())"
   ]
  },
  {
   "cell_type": "markdown",
   "metadata": {},
   "source": [
    "**Вывод** "
   ]
  },
  {
   "cell_type": "markdown",
   "metadata": {},
   "source": [
    "Общее количество значений в данных 21525. В таблице 12 столбцов.\n",
    "В столбце children опечатки (-1 и 20 детей);\n",
    "В столбце days_employed отрицательные значения и пропуски;\n",
    "dob_years-нулевые значения;\n",
    "education-дубликаты;\n",
    "gender-пропуск;\n",
    "total_income-пропуски;\n",
    "purpose-дубликаты.\n",
    "Наша задача исправить эти недочеты,не теряя информацию."
   ]
  },
  {
   "cell_type": "markdown",
   "metadata": {},
   "source": [
    "## Шаг 2. Предобработка данных"
   ]
  },
  {
   "cell_type": "markdown",
   "metadata": {},
   "source": [
    "### Обработка пропусков\n",
    "Меняем 20 детей на 2 и -1 ребенка на 1"
   ]
  },
  {
   "cell_type": "code",
   "execution_count": 9,
   "metadata": {},
   "outputs": [],
   "source": [
    "data['children'] = data['children'].replace(20, 2) \n",
    "data['children'] = data['children'].replace(-1, 1) "
   ]
  },
  {
   "cell_type": "markdown",
   "metadata": {},
   "source": [
    "Удаляем 'XNA' "
   ]
  },
  {
   "cell_type": "code",
   "execution_count": 10,
   "metadata": {},
   "outputs": [],
   "source": [
    "data = data[data['gender'] != 'XNA'] "
   ]
  },
  {
   "cell_type": "markdown",
   "metadata": {},
   "source": [
    "Высчитываем медиану в столбце dob_years"
   ]
  },
  {
   "cell_type": "code",
   "execution_count": 11,
   "metadata": {},
   "outputs": [
    {
     "data": {
      "text/plain": [
       "42.0"
      ]
     },
     "execution_count": 11,
     "metadata": {},
     "output_type": "execute_result"
    }
   ],
   "source": [
    "median_years = data['dob_years'].median() \n",
    "median_years"
   ]
  },
  {
   "cell_type": "markdown",
   "metadata": {},
   "source": [
    "Меняем нули на высчитанную медиану"
   ]
  },
  {
   "cell_type": "code",
   "execution_count": 12,
   "metadata": {},
   "outputs": [],
   "source": [
    "data['dob_years'] = data['dob_years'].replace(0, 42) "
   ]
  },
  {
   "cell_type": "code",
   "execution_count": 13,
   "metadata": {},
   "outputs": [
    {
     "data": {
      "text/plain": [
       "children               0\n",
       "days_employed       2174\n",
       "dob_years              0\n",
       "education              0\n",
       "education_id           0\n",
       "family_status          0\n",
       "family_status_id       0\n",
       "gender                 0\n",
       "income_type            0\n",
       "debt                   0\n",
       "total_income        2174\n",
       "purpose                0\n",
       "dtype: int64"
      ]
     },
     "execution_count": 13,
     "metadata": {},
     "output_type": "execute_result"
    }
   ],
   "source": [
    "data.isna().sum() "
   ]
  },
  {
   "cell_type": "markdown",
   "metadata": {},
   "source": [
    "Меняем пропуски на нули"
   ]
  },
  {
   "cell_type": "code",
   "execution_count": 14,
   "metadata": {},
   "outputs": [],
   "source": [
    "data['total_income'] = data['total_income'].fillna(0) "
   ]
  },
  {
   "cell_type": "markdown",
   "metadata": {},
   "source": [
    "Выведем уникальные значения"
   ]
  },
  {
   "cell_type": "code",
   "execution_count": 15,
   "metadata": {},
   "outputs": [
    {
     "data": {
      "text/plain": [
       "сотрудник          11119\n",
       "компаньон           5084\n",
       "пенсионер           3856\n",
       "госслужащий         1459\n",
       "безработный            2\n",
       "предприниматель        2\n",
       "студент                1\n",
       "в декрете              1\n",
       "Name: income_type, dtype: int64"
      ]
     },
     "execution_count": 15,
     "metadata": {},
     "output_type": "execute_result"
    }
   ],
   "source": [
    "data['income_type'].value_counts() "
   ]
  },
  {
   "cell_type": "markdown",
   "metadata": {},
   "source": [
    "Медиана для total_income по столбцу income_type"
   ]
  },
  {
   "cell_type": "code",
   "execution_count": 16,
   "metadata": {},
   "outputs": [
    {
     "data": {
      "text/plain": [
       "income_type\n",
       "безработный        131339.751676\n",
       "в декрете           53829.130729\n",
       "госслужащий        139034.452386\n",
       "компаньон          162379.674930\n",
       "пенсионер          110179.690761\n",
       "предприниматель    249581.572474\n",
       "сотрудник          133546.457238\n",
       "студент             98201.625314\n",
       "Name: total_income, dtype: float64"
      ]
     },
     "execution_count": 16,
     "metadata": {},
     "output_type": "execute_result"
    }
   ],
   "source": [
    "data.groupby('income_type')['total_income'].median() "
   ]
  },
  {
   "cell_type": "markdown",
   "metadata": {},
   "source": [
    "Расчитаем медиану в total_income по категориям в income_type"
   ]
  },
  {
   "cell_type": "code",
   "execution_count": 17,
   "metadata": {},
   "outputs": [
    {
     "data": {
      "text/html": [
       "<div>\n",
       "<style scoped>\n",
       "    .dataframe tbody tr th:only-of-type {\n",
       "        vertical-align: middle;\n",
       "    }\n",
       "\n",
       "    .dataframe tbody tr th {\n",
       "        vertical-align: top;\n",
       "    }\n",
       "\n",
       "    .dataframe thead th {\n",
       "        text-align: right;\n",
       "    }\n",
       "</style>\n",
       "<table border=\"1\" class=\"dataframe\">\n",
       "  <thead>\n",
       "    <tr style=\"text-align: right;\">\n",
       "      <th></th>\n",
       "      <th>children</th>\n",
       "      <th>days_employed</th>\n",
       "      <th>dob_years</th>\n",
       "      <th>education</th>\n",
       "      <th>education_id</th>\n",
       "      <th>family_status</th>\n",
       "      <th>family_status_id</th>\n",
       "      <th>gender</th>\n",
       "      <th>income_type</th>\n",
       "      <th>debt</th>\n",
       "      <th>total_income</th>\n",
       "      <th>purpose</th>\n",
       "    </tr>\n",
       "  </thead>\n",
       "  <tbody>\n",
       "    <tr>\n",
       "      <td>0</td>\n",
       "      <td>1</td>\n",
       "      <td>-8437.673028</td>\n",
       "      <td>42</td>\n",
       "      <td>высшее</td>\n",
       "      <td>0</td>\n",
       "      <td>женат / замужем</td>\n",
       "      <td>0</td>\n",
       "      <td>F</td>\n",
       "      <td>сотрудник</td>\n",
       "      <td>0</td>\n",
       "      <td>253875.639453</td>\n",
       "      <td>покупка жилья</td>\n",
       "    </tr>\n",
       "    <tr>\n",
       "      <td>1</td>\n",
       "      <td>1</td>\n",
       "      <td>-4024.803754</td>\n",
       "      <td>36</td>\n",
       "      <td>среднее</td>\n",
       "      <td>1</td>\n",
       "      <td>женат / замужем</td>\n",
       "      <td>0</td>\n",
       "      <td>F</td>\n",
       "      <td>сотрудник</td>\n",
       "      <td>0</td>\n",
       "      <td>112080.014102</td>\n",
       "      <td>приобретение автомобиля</td>\n",
       "    </tr>\n",
       "    <tr>\n",
       "      <td>2</td>\n",
       "      <td>0</td>\n",
       "      <td>-5623.422610</td>\n",
       "      <td>33</td>\n",
       "      <td>Среднее</td>\n",
       "      <td>1</td>\n",
       "      <td>женат / замужем</td>\n",
       "      <td>0</td>\n",
       "      <td>M</td>\n",
       "      <td>сотрудник</td>\n",
       "      <td>0</td>\n",
       "      <td>145885.952297</td>\n",
       "      <td>покупка жилья</td>\n",
       "    </tr>\n",
       "    <tr>\n",
       "      <td>3</td>\n",
       "      <td>3</td>\n",
       "      <td>-4124.747207</td>\n",
       "      <td>32</td>\n",
       "      <td>среднее</td>\n",
       "      <td>1</td>\n",
       "      <td>женат / замужем</td>\n",
       "      <td>0</td>\n",
       "      <td>M</td>\n",
       "      <td>сотрудник</td>\n",
       "      <td>0</td>\n",
       "      <td>267628.550329</td>\n",
       "      <td>дополнительное образование</td>\n",
       "    </tr>\n",
       "    <tr>\n",
       "      <td>4</td>\n",
       "      <td>0</td>\n",
       "      <td>340266.072047</td>\n",
       "      <td>53</td>\n",
       "      <td>среднее</td>\n",
       "      <td>1</td>\n",
       "      <td>гражданский брак</td>\n",
       "      <td>1</td>\n",
       "      <td>F</td>\n",
       "      <td>пенсионер</td>\n",
       "      <td>0</td>\n",
       "      <td>158616.077870</td>\n",
       "      <td>сыграть свадьбу</td>\n",
       "    </tr>\n",
       "  </tbody>\n",
       "</table>\n",
       "</div>"
      ],
      "text/plain": [
       "   children  days_employed  dob_years education  education_id  \\\n",
       "0         1   -8437.673028         42    высшее             0   \n",
       "1         1   -4024.803754         36   среднее             1   \n",
       "2         0   -5623.422610         33   Среднее             1   \n",
       "3         3   -4124.747207         32   среднее             1   \n",
       "4         0  340266.072047         53   среднее             1   \n",
       "\n",
       "      family_status  family_status_id gender income_type  debt   total_income  \\\n",
       "0   женат / замужем                 0      F   сотрудник     0  253875.639453   \n",
       "1   женат / замужем                 0      F   сотрудник     0  112080.014102   \n",
       "2   женат / замужем                 0      M   сотрудник     0  145885.952297   \n",
       "3   женат / замужем                 0      M   сотрудник     0  267628.550329   \n",
       "4  гражданский брак                 1      F   пенсионер     0  158616.077870   \n",
       "\n",
       "                      purpose  \n",
       "0               покупка жилья  \n",
       "1     приобретение автомобиля  \n",
       "2               покупка жилья  \n",
       "3  дополнительное образование  \n",
       "4             сыграть свадьбу  "
      ]
     },
     "execution_count": 17,
     "metadata": {},
     "output_type": "execute_result"
    }
   ],
   "source": [
    "data.loc[(data['total_income'] == 0) & (data['income_type'] == 'безработный'), 'total_income'] = \\\n",
    "                                        data.groupby('income_type')['total_income'].median()[0]\n",
    "\n",
    "data.loc[(data['total_income'] == 0) & (data['income_type'] == 'в декрете'), 'total_income'] = \\\n",
    "                                        data.groupby('income_type')['total_income'].median()[1]\n",
    "\n",
    "data.loc[(data['total_income'] == 0) & (data['income_type'] == 'госслужащий'), 'total_income'] = \\\n",
    "                                        data.groupby('income_type')['total_income'].median()[2]\n",
    "\n",
    "data.loc[(data['total_income'] == 0) & (data['income_type'] == 'компаньон'), 'total_income'] = \\\n",
    "                                        data.groupby('income_type')['total_income'].median()[3]\n",
    "\n",
    "data.loc[(data['total_income'] == 0) & (data['income_type'] == 'пенсионер'), 'total_income'] = \\\n",
    "                                        data.groupby('income_type')['total_income'].median()[4]\n",
    "\n",
    "data.loc[(data['total_income'] == 0) & (data['income_type'] == 'предприниматель'), 'total_income'] = \\\n",
    "                                        data.groupby('income_type')['total_income'].median()[5]\n",
    "\n",
    "data.loc[(data['total_income'] == 0) & (data['income_type'] == 'сотрудник'), 'total_income'] = \\\n",
    "                                        data.groupby('income_type')['total_income'].median()[6]\n",
    "\n",
    "data.loc[(data['total_income'] == 0) & (data['income_type'] == 'студент'), 'total_income'] = \\\n",
    "                                        data.groupby('income_type')['total_income'].median()[7]\n",
    "data.head() "
   ]
  },
  {
   "cell_type": "markdown",
   "metadata": {},
   "source": [
    "Меняем пропуски на нули"
   ]
  },
  {
   "cell_type": "code",
   "execution_count": 18,
   "metadata": {},
   "outputs": [],
   "source": [
    "data['days_employed'] = data['days_employed'].fillna(0) "
   ]
  },
  {
   "cell_type": "markdown",
   "metadata": {},
   "source": [
    "Выведем уникальные значения"
   ]
  },
  {
   "cell_type": "code",
   "execution_count": 19,
   "metadata": {},
   "outputs": [
    {
     "data": {
      "text/plain": [
       "0    14148\n",
       "1     4865\n",
       "2     2131\n",
       "3      330\n",
       "4       41\n",
       "5        9\n",
       "Name: children, dtype: int64"
      ]
     },
     "execution_count": 19,
     "metadata": {},
     "output_type": "execute_result"
    }
   ],
   "source": [
    "data['children'].value_counts() "
   ]
  },
  {
   "cell_type": "markdown",
   "metadata": {},
   "source": [
    "Медиана для days_employed по столбцу children"
   ]
  },
  {
   "cell_type": "code",
   "execution_count": 20,
   "metadata": {},
   "outputs": [
    {
     "data": {
      "text/plain": [
       "children\n",
       "0    -795.578884\n",
       "1   -1206.986715\n",
       "2   -1382.477400\n",
       "3   -1344.473971\n",
       "4   -1696.862177\n",
       "5    -773.124856\n",
       "Name: days_employed, dtype: float64"
      ]
     },
     "execution_count": 20,
     "metadata": {},
     "output_type": "execute_result"
    }
   ],
   "source": [
    "data.groupby('children')['days_employed'].median() "
   ]
  },
  {
   "cell_type": "markdown",
   "metadata": {},
   "source": [
    "Расчитаем медиану в days_employed по категориям в children"
   ]
  },
  {
   "cell_type": "code",
   "execution_count": 21,
   "metadata": {
    "scrolled": true
   },
   "outputs": [
    {
     "data": {
      "text/html": [
       "<div>\n",
       "<style scoped>\n",
       "    .dataframe tbody tr th:only-of-type {\n",
       "        vertical-align: middle;\n",
       "    }\n",
       "\n",
       "    .dataframe tbody tr th {\n",
       "        vertical-align: top;\n",
       "    }\n",
       "\n",
       "    .dataframe thead th {\n",
       "        text-align: right;\n",
       "    }\n",
       "</style>\n",
       "<table border=\"1\" class=\"dataframe\">\n",
       "  <thead>\n",
       "    <tr style=\"text-align: right;\">\n",
       "      <th></th>\n",
       "      <th>children</th>\n",
       "      <th>days_employed</th>\n",
       "      <th>dob_years</th>\n",
       "      <th>education</th>\n",
       "      <th>education_id</th>\n",
       "      <th>family_status</th>\n",
       "      <th>family_status_id</th>\n",
       "      <th>gender</th>\n",
       "      <th>income_type</th>\n",
       "      <th>debt</th>\n",
       "      <th>total_income</th>\n",
       "      <th>purpose</th>\n",
       "    </tr>\n",
       "  </thead>\n",
       "  <tbody>\n",
       "    <tr>\n",
       "      <td>0</td>\n",
       "      <td>1</td>\n",
       "      <td>-8437.673028</td>\n",
       "      <td>42</td>\n",
       "      <td>высшее</td>\n",
       "      <td>0</td>\n",
       "      <td>женат / замужем</td>\n",
       "      <td>0</td>\n",
       "      <td>F</td>\n",
       "      <td>сотрудник</td>\n",
       "      <td>0</td>\n",
       "      <td>253875.639453</td>\n",
       "      <td>покупка жилья</td>\n",
       "    </tr>\n",
       "    <tr>\n",
       "      <td>1</td>\n",
       "      <td>1</td>\n",
       "      <td>-4024.803754</td>\n",
       "      <td>36</td>\n",
       "      <td>среднее</td>\n",
       "      <td>1</td>\n",
       "      <td>женат / замужем</td>\n",
       "      <td>0</td>\n",
       "      <td>F</td>\n",
       "      <td>сотрудник</td>\n",
       "      <td>0</td>\n",
       "      <td>112080.014102</td>\n",
       "      <td>приобретение автомобиля</td>\n",
       "    </tr>\n",
       "    <tr>\n",
       "      <td>2</td>\n",
       "      <td>0</td>\n",
       "      <td>-5623.422610</td>\n",
       "      <td>33</td>\n",
       "      <td>Среднее</td>\n",
       "      <td>1</td>\n",
       "      <td>женат / замужем</td>\n",
       "      <td>0</td>\n",
       "      <td>M</td>\n",
       "      <td>сотрудник</td>\n",
       "      <td>0</td>\n",
       "      <td>145885.952297</td>\n",
       "      <td>покупка жилья</td>\n",
       "    </tr>\n",
       "    <tr>\n",
       "      <td>3</td>\n",
       "      <td>3</td>\n",
       "      <td>-4124.747207</td>\n",
       "      <td>32</td>\n",
       "      <td>среднее</td>\n",
       "      <td>1</td>\n",
       "      <td>женат / замужем</td>\n",
       "      <td>0</td>\n",
       "      <td>M</td>\n",
       "      <td>сотрудник</td>\n",
       "      <td>0</td>\n",
       "      <td>267628.550329</td>\n",
       "      <td>дополнительное образование</td>\n",
       "    </tr>\n",
       "    <tr>\n",
       "      <td>4</td>\n",
       "      <td>0</td>\n",
       "      <td>340266.072047</td>\n",
       "      <td>53</td>\n",
       "      <td>среднее</td>\n",
       "      <td>1</td>\n",
       "      <td>гражданский брак</td>\n",
       "      <td>1</td>\n",
       "      <td>F</td>\n",
       "      <td>пенсионер</td>\n",
       "      <td>0</td>\n",
       "      <td>158616.077870</td>\n",
       "      <td>сыграть свадьбу</td>\n",
       "    </tr>\n",
       "  </tbody>\n",
       "</table>\n",
       "</div>"
      ],
      "text/plain": [
       "   children  days_employed  dob_years education  education_id  \\\n",
       "0         1   -8437.673028         42    высшее             0   \n",
       "1         1   -4024.803754         36   среднее             1   \n",
       "2         0   -5623.422610         33   Среднее             1   \n",
       "3         3   -4124.747207         32   среднее             1   \n",
       "4         0  340266.072047         53   среднее             1   \n",
       "\n",
       "      family_status  family_status_id gender income_type  debt   total_income  \\\n",
       "0   женат / замужем                 0      F   сотрудник     0  253875.639453   \n",
       "1   женат / замужем                 0      F   сотрудник     0  112080.014102   \n",
       "2   женат / замужем                 0      M   сотрудник     0  145885.952297   \n",
       "3   женат / замужем                 0      M   сотрудник     0  267628.550329   \n",
       "4  гражданский брак                 1      F   пенсионер     0  158616.077870   \n",
       "\n",
       "                      purpose  \n",
       "0               покупка жилья  \n",
       "1     приобретение автомобиля  \n",
       "2               покупка жилья  \n",
       "3  дополнительное образование  \n",
       "4             сыграть свадьбу  "
      ]
     },
     "execution_count": 21,
     "metadata": {},
     "output_type": "execute_result"
    }
   ],
   "source": [
    "data.loc[(data['days_employed'] == 0) & (data['children'] == '0'), 'days_employed'] = \\\n",
    "                                        data.groupby('children')['days_employed'].median()[0]\n",
    "\n",
    "data.loc[(data['days_employed'] == 0) & (data['children'] == '1'), 'days_employed'] = \\\n",
    "                                        data.groupby('children')['days_employed'].median()[1]\n",
    "\n",
    "data.loc[(data['days_employed'] == 0) & (data['children'] == '2'), 'days_employed'] = \\\n",
    "                                        data.groupby('children')['days_employed'].median()[2]\n",
    "\n",
    "data.loc[(data['days_employed'] == 0) & (data['children'] == '3'), 'days_employed'] = \\\n",
    "                                        data.groupby('children')['days_employed'].median()[3]\n",
    "\n",
    "data.loc[(data['days_employed'] == 0) & (data['children'] == '4'), 'days_employed'] = \\\n",
    "                                        data.groupby('children')['days_employed'].median()[4]\n",
    "\n",
    "data.loc[(data['days_employed'] == 0) & (data['children'] == '5'), 'days_employed'] = \\\n",
    "                                        data.groupby('children')['days_employed'].median()[5]\n",
    "data.head() "
   ]
  },
  {
   "cell_type": "markdown",
   "metadata": {},
   "source": [
    "**Вывод** "
   ]
  },
  {
   "cell_type": "markdown",
   "metadata": {},
   "source": [
    "Поменяли значения в столбце дети,так как скорей всего это просто опечатки или \"заглушки\".В столбце gender убрали пропущенное значение,так как оно одно и ни на что не повлияет.В столбце dob_years 101 нулевые значения(это не существенно) заменили на медиану.Что бы заменить нули в столбце total_income взяли медиану для каждой категории по столбцу income_type.Взяли по этому столбцу,потому что доход на прямую зависит от типа занятости.Заменили нулевые значения в days_employed на медиану категорий в children.Предположили,что стаж может зависить от детей и их количества(декреты,больничные)."
   ]
  },
  {
   "cell_type": "markdown",
   "metadata": {},
   "source": [
    "### Замена типа данных"
   ]
  },
  {
   "cell_type": "code",
   "execution_count": 22,
   "metadata": {},
   "outputs": [],
   "source": [
    "data['total_income'] = data['total_income'].astype('int') \n",
    "data['days_employed'] = data['days_employed'].astype('int') "
   ]
  },
  {
   "cell_type": "markdown",
   "metadata": {},
   "source": [
    "Переводим в положительные"
   ]
  },
  {
   "cell_type": "code",
   "execution_count": 23,
   "metadata": {
    "scrolled": true
   },
   "outputs": [
    {
     "data": {
      "text/html": [
       "<div>\n",
       "<style scoped>\n",
       "    .dataframe tbody tr th:only-of-type {\n",
       "        vertical-align: middle;\n",
       "    }\n",
       "\n",
       "    .dataframe tbody tr th {\n",
       "        vertical-align: top;\n",
       "    }\n",
       "\n",
       "    .dataframe thead th {\n",
       "        text-align: right;\n",
       "    }\n",
       "</style>\n",
       "<table border=\"1\" class=\"dataframe\">\n",
       "  <thead>\n",
       "    <tr style=\"text-align: right;\">\n",
       "      <th></th>\n",
       "      <th>children</th>\n",
       "      <th>days_employed</th>\n",
       "      <th>dob_years</th>\n",
       "      <th>education</th>\n",
       "      <th>education_id</th>\n",
       "      <th>family_status</th>\n",
       "      <th>family_status_id</th>\n",
       "      <th>gender</th>\n",
       "      <th>income_type</th>\n",
       "      <th>debt</th>\n",
       "      <th>total_income</th>\n",
       "      <th>purpose</th>\n",
       "    </tr>\n",
       "  </thead>\n",
       "  <tbody>\n",
       "    <tr>\n",
       "      <td>0</td>\n",
       "      <td>1</td>\n",
       "      <td>8437</td>\n",
       "      <td>42</td>\n",
       "      <td>высшее</td>\n",
       "      <td>0</td>\n",
       "      <td>женат / замужем</td>\n",
       "      <td>0</td>\n",
       "      <td>F</td>\n",
       "      <td>сотрудник</td>\n",
       "      <td>0</td>\n",
       "      <td>253875</td>\n",
       "      <td>покупка жилья</td>\n",
       "    </tr>\n",
       "    <tr>\n",
       "      <td>1</td>\n",
       "      <td>1</td>\n",
       "      <td>4024</td>\n",
       "      <td>36</td>\n",
       "      <td>среднее</td>\n",
       "      <td>1</td>\n",
       "      <td>женат / замужем</td>\n",
       "      <td>0</td>\n",
       "      <td>F</td>\n",
       "      <td>сотрудник</td>\n",
       "      <td>0</td>\n",
       "      <td>112080</td>\n",
       "      <td>приобретение автомобиля</td>\n",
       "    </tr>\n",
       "    <tr>\n",
       "      <td>2</td>\n",
       "      <td>0</td>\n",
       "      <td>5623</td>\n",
       "      <td>33</td>\n",
       "      <td>Среднее</td>\n",
       "      <td>1</td>\n",
       "      <td>женат / замужем</td>\n",
       "      <td>0</td>\n",
       "      <td>M</td>\n",
       "      <td>сотрудник</td>\n",
       "      <td>0</td>\n",
       "      <td>145885</td>\n",
       "      <td>покупка жилья</td>\n",
       "    </tr>\n",
       "    <tr>\n",
       "      <td>3</td>\n",
       "      <td>3</td>\n",
       "      <td>4124</td>\n",
       "      <td>32</td>\n",
       "      <td>среднее</td>\n",
       "      <td>1</td>\n",
       "      <td>женат / замужем</td>\n",
       "      <td>0</td>\n",
       "      <td>M</td>\n",
       "      <td>сотрудник</td>\n",
       "      <td>0</td>\n",
       "      <td>267628</td>\n",
       "      <td>дополнительное образование</td>\n",
       "    </tr>\n",
       "    <tr>\n",
       "      <td>4</td>\n",
       "      <td>0</td>\n",
       "      <td>340266</td>\n",
       "      <td>53</td>\n",
       "      <td>среднее</td>\n",
       "      <td>1</td>\n",
       "      <td>гражданский брак</td>\n",
       "      <td>1</td>\n",
       "      <td>F</td>\n",
       "      <td>пенсионер</td>\n",
       "      <td>0</td>\n",
       "      <td>158616</td>\n",
       "      <td>сыграть свадьбу</td>\n",
       "    </tr>\n",
       "  </tbody>\n",
       "</table>\n",
       "</div>"
      ],
      "text/plain": [
       "   children  days_employed  dob_years education  education_id  \\\n",
       "0         1           8437         42    высшее             0   \n",
       "1         1           4024         36   среднее             1   \n",
       "2         0           5623         33   Среднее             1   \n",
       "3         3           4124         32   среднее             1   \n",
       "4         0         340266         53   среднее             1   \n",
       "\n",
       "      family_status  family_status_id gender income_type  debt  total_income  \\\n",
       "0   женат / замужем                 0      F   сотрудник     0        253875   \n",
       "1   женат / замужем                 0      F   сотрудник     0        112080   \n",
       "2   женат / замужем                 0      M   сотрудник     0        145885   \n",
       "3   женат / замужем                 0      M   сотрудник     0        267628   \n",
       "4  гражданский брак                 1      F   пенсионер     0        158616   \n",
       "\n",
       "                      purpose  \n",
       "0               покупка жилья  \n",
       "1     приобретение автомобиля  \n",
       "2               покупка жилья  \n",
       "3  дополнительное образование  \n",
       "4             сыграть свадьбу  "
      ]
     },
     "execution_count": 23,
     "metadata": {},
     "output_type": "execute_result"
    }
   ],
   "source": [
    "data['days_employed'] = abs(data['days_employed']) \n",
    "data.head() "
   ]
  },
  {
   "cell_type": "markdown",
   "metadata": {},
   "source": [
    "**Вывод** "
   ]
  },
  {
   "cell_type": "markdown",
   "metadata": {},
   "source": [
    "В столбце total_income значения принимают Length: 19351, dtype: int64.Переведем в int64,так как они нам нужны в дальнейшем для подсчетов.И в столбце days_employed были минусовые и дробные значения,перевели их в целые и положительные.Теперь такие числа можно считать,чем мы и займемся при выяснениях зависимости возврата кредита в срок."
   ]
  },
  {
   "cell_type": "markdown",
   "metadata": {},
   "source": [
    "### Обработка дубликатов"
   ]
  },
  {
   "cell_type": "markdown",
   "metadata": {},
   "source": [
    "Привели все значения к одному регистру"
   ]
  },
  {
   "cell_type": "code",
   "execution_count": 24,
   "metadata": {},
   "outputs": [],
   "source": [
    "data['education'] = data['education'].str.lower() "
   ]
  },
  {
   "cell_type": "markdown",
   "metadata": {},
   "source": [
    "Посмотрим сколько значений в каких категориях"
   ]
  },
  {
   "cell_type": "code",
   "execution_count": 25,
   "metadata": {},
   "outputs": [
    {
     "data": {
      "text/plain": [
       "среднее                15233\n",
       "высшее                  5260\n",
       "неоконченное высшее      743\n",
       "начальное                282\n",
       "ученая степень             6\n",
       "Name: education, dtype: int64"
      ]
     },
     "execution_count": 25,
     "metadata": {},
     "output_type": "execute_result"
    }
   ],
   "source": [
    "data['education'].value_counts()"
   ]
  },
  {
   "cell_type": "markdown",
   "metadata": {},
   "source": [
    "Полные дубликаты таблицы"
   ]
  },
  {
   "cell_type": "code",
   "execution_count": 26,
   "metadata": {},
   "outputs": [
    {
     "data": {
      "text/plain": [
       "72"
      ]
     },
     "execution_count": 26,
     "metadata": {},
     "output_type": "execute_result"
    }
   ],
   "source": [
    "data.duplicated().sum()"
   ]
  },
  {
   "cell_type": "markdown",
   "metadata": {},
   "source": [
    "Посмотрим сколько дубликатов в столбце"
   ]
  },
  {
   "cell_type": "code",
   "execution_count": 27,
   "metadata": {},
   "outputs": [
    {
     "data": {
      "text/plain": [
       "21519"
      ]
     },
     "execution_count": 27,
     "metadata": {},
     "output_type": "execute_result"
    }
   ],
   "source": [
    "data.duplicated('education').sum()"
   ]
  },
  {
   "cell_type": "markdown",
   "metadata": {},
   "source": [
    "Удаляем дубликаты в таблице"
   ]
  },
  {
   "cell_type": "code",
   "execution_count": 28,
   "metadata": {
    "scrolled": false
   },
   "outputs": [
    {
     "data": {
      "text/plain": [
       "0"
      ]
     },
     "execution_count": 28,
     "metadata": {},
     "output_type": "execute_result"
    }
   ],
   "source": [
    "data = data.drop_duplicates().reset_index(drop=True) \n",
    "data.duplicated().sum()"
   ]
  },
  {
   "cell_type": "markdown",
   "metadata": {},
   "source": [
    "**Вывод**"
   ]
  },
  {
   "cell_type": "markdown",
   "metadata": {},
   "source": [
    "Убрали дубликаты в столбце education с помощью нижнего регистра,так как категории-СРЕДНЕЕ=среднее=Среднее(по аналогии:высшее,неоконченное высшее,ученая степень,начальное)- обозначают одно и тоже. Иначе таблица не смогла бы нам передать достоверную информацию при анализе.Еще обнаружили 72 полных дубликата в таблице,после исправления дубликатов в столбце education,они не ушли,поэтому мы их удалили."
   ]
  },
  {
   "cell_type": "markdown",
   "metadata": {},
   "source": [
    "### Лемматизация\n",
    "Леммантизируем слова в столбце purpose и убираем перенос в конце.Создаем столбец с леммами"
   ]
  },
  {
   "cell_type": "code",
   "execution_count": 29,
   "metadata": {
    "scrolled": true
   },
   "outputs": [
    {
     "data": {
      "text/plain": [
       "автомобиль                                972\n",
       "свадьба                                   791\n",
       "на проведение свадьба                     767\n",
       "сыграть свадьба                           765\n",
       "операция с недвижимость                   675\n",
       "покупка коммерческий недвижимость         661\n",
       "операция с жилье                          652\n",
       "покупка жилье для сдача                   651\n",
       "операция с коммерческий недвижимость      650\n",
       "жилье                                     646\n",
       "покупка жилье                             646\n",
       "покупка жилье для семья                   638\n",
       "строительство собственный недвижимость    635\n",
       "недвижимость                              633\n",
       "операция со свой недвижимость             627\n",
       "строительство жилой недвижимость          624\n",
       "покупка свой жилье                        620\n",
       "покупка недвижимость                      620\n",
       "строительство недвижимость                619\n",
       "ремонт жилье                              607\n",
       "покупка жилой недвижимость                606\n",
       "на покупка свой автомобиль                505\n",
       "заниматься высокий образование            496\n",
       "сделка с подержанный автомобиль           486\n",
       "свой автомобиль                           478\n",
       "на покупка подержать автомобиль           478\n",
       "на покупка автомобиль                     471\n",
       "приобретение автомобиль                   461\n",
       "дополнительный образование                460\n",
       "сделка с автомобиль                       455\n",
       "высокий образование                       452\n",
       "образование                               447\n",
       "получение дополнительный образование      446\n",
       "получение образование                     442\n",
       "профильный образование                    436\n",
       "получение высокий образование             426\n",
       "заниматься образование                    408\n",
       "Name: lem_purpose, dtype: int64"
      ]
     },
     "execution_count": 29,
     "metadata": {},
     "output_type": "execute_result"
    }
   ],
   "source": [
    "def lem_purpose(purpose):\n",
    "    lem = ''.join(m.lemmatize(purpose)[:-1]) \n",
    "    return lem\n",
    "data['lem_purpose'] = data['purpose'].apply(lem_purpose)\n",
    "data['lem_purpose'].value_counts()"
   ]
  },
  {
   "cell_type": "markdown",
   "metadata": {},
   "source": [
    "Считает буквы"
   ]
  },
  {
   "cell_type": "code",
   "execution_count": 30,
   "metadata": {
    "scrolled": true
   },
   "outputs": [
    {
     "data": {
      "text/plain": [
       "Counter({'п': 19244,\n",
       "         'о': 49012,\n",
       "         'к': 16729,\n",
       "         'у': 7210,\n",
       "         'а': 33479,\n",
       "         ' ': 33567,\n",
       "         'ж': 13004,\n",
       "         'и': 39125,\n",
       "         'л': 17666,\n",
       "         'ь': 23444,\n",
       "         'е': 32930,\n",
       "         'р': 14267,\n",
       "         'б': 11738,\n",
       "         'т': 21046,\n",
       "         'н': 21127,\n",
       "         'в': 23876,\n",
       "         'м': 15427,\n",
       "         'д': 14191,\n",
       "         'ы': 4602,\n",
       "         'й': 8608,\n",
       "         'з': 4917,\n",
       "         'с': 26058,\n",
       "         'г': 765,\n",
       "         'ц': 2604,\n",
       "         'я': 5435,\n",
       "         'ч': 3276,\n",
       "         'ф': 436})"
      ]
     },
     "execution_count": 30,
     "metadata": {},
     "output_type": "execute_result"
    }
   ],
   "source": [
    "Counter(data['lem_purpose'].sum())"
   ]
  },
  {
   "cell_type": "markdown",
   "metadata": {},
   "source": [
    "Считает словосочетания"
   ]
  },
  {
   "cell_type": "code",
   "execution_count": 31,
   "metadata": {
    "scrolled": true
   },
   "outputs": [
    {
     "data": {
      "text/plain": [
       "Counter({'покупка жилье': 646,\n",
       "         'приобретение автомобиль': 461,\n",
       "         'дополнительный образование': 460,\n",
       "         'сыграть свадьба': 765,\n",
       "         'операция с жилье': 652,\n",
       "         'образование': 447,\n",
       "         'на проведение свадьба': 767,\n",
       "         'покупка жилье для семья': 638,\n",
       "         'покупка недвижимость': 620,\n",
       "         'покупка коммерческий недвижимость': 661,\n",
       "         'покупка жилой недвижимость': 606,\n",
       "         'строительство собственный недвижимость': 635,\n",
       "         'недвижимость': 633,\n",
       "         'строительство недвижимость': 619,\n",
       "         'на покупка подержать автомобиль': 478,\n",
       "         'на покупка свой автомобиль': 505,\n",
       "         'операция с коммерческий недвижимость': 650,\n",
       "         'строительство жилой недвижимость': 624,\n",
       "         'жилье': 646,\n",
       "         'операция со свой недвижимость': 627,\n",
       "         'автомобиль': 972,\n",
       "         'заниматься образование': 408,\n",
       "         'сделка с подержанный автомобиль': 486,\n",
       "         'получение образование': 442,\n",
       "         'свадьба': 791,\n",
       "         'получение дополнительный образование': 446,\n",
       "         'покупка свой жилье': 620,\n",
       "         'операция с недвижимость': 675,\n",
       "         'получение высокий образование': 426,\n",
       "         'свой автомобиль': 478,\n",
       "         'сделка с автомобиль': 455,\n",
       "         'профильный образование': 436,\n",
       "         'высокий образование': 452,\n",
       "         'покупка жилье для сдача': 651,\n",
       "         'на покупка автомобиль': 471,\n",
       "         'ремонт жилье': 607,\n",
       "         'заниматься высокий образование': 496})"
      ]
     },
     "execution_count": 31,
     "metadata": {},
     "output_type": "execute_result"
    }
   ],
   "source": [
    "Counter(data['lem_purpose'])"
   ]
  },
  {
   "cell_type": "markdown",
   "metadata": {},
   "source": [
    "Разбиваем на категории.Создадим новый столбец category с категориями на основании результатов лемматизации"
   ]
  },
  {
   "cell_type": "code",
   "execution_count": 32,
   "metadata": {
    "scrolled": true
   },
   "outputs": [
    {
     "data": {
      "text/plain": [
       "операции с недвижимостью    10810\n",
       "автомобиль                   4306\n",
       "образование                  4013\n",
       "свадьба                      2323\n",
       "Name: category, dtype: int64"
      ]
     },
     "execution_count": 32,
     "metadata": {},
     "output_type": "execute_result"
    }
   ],
   "source": [
    "def categorizer(lem_purpose): \n",
    "    if 'свадьба' in lem_purpose:\n",
    "        return 'свадьба'\n",
    "    elif ('жилье' in lem_purpose) or ('недвижимость' in lem_purpose):\n",
    "        return 'операции с недвижимостью'\n",
    "    elif 'автомобиль' in lem_purpose:\n",
    "        return 'автомобиль'\n",
    "    else:\n",
    "        return 'образование'\n",
    "data['category'] = data['lem_purpose'].apply(categorizer) \n",
    "data['category'].value_counts()"
   ]
  },
  {
   "cell_type": "code",
   "execution_count": 33,
   "metadata": {},
   "outputs": [
    {
     "data": {
      "text/html": [
       "<div>\n",
       "<style scoped>\n",
       "    .dataframe tbody tr th:only-of-type {\n",
       "        vertical-align: middle;\n",
       "    }\n",
       "\n",
       "    .dataframe tbody tr th {\n",
       "        vertical-align: top;\n",
       "    }\n",
       "\n",
       "    .dataframe thead th {\n",
       "        text-align: right;\n",
       "    }\n",
       "</style>\n",
       "<table border=\"1\" class=\"dataframe\">\n",
       "  <thead>\n",
       "    <tr style=\"text-align: right;\">\n",
       "      <th></th>\n",
       "      <th>children</th>\n",
       "      <th>days_employed</th>\n",
       "      <th>dob_years</th>\n",
       "      <th>education</th>\n",
       "      <th>education_id</th>\n",
       "      <th>family_status</th>\n",
       "      <th>family_status_id</th>\n",
       "      <th>gender</th>\n",
       "      <th>income_type</th>\n",
       "      <th>debt</th>\n",
       "      <th>total_income</th>\n",
       "      <th>purpose</th>\n",
       "      <th>lem_purpose</th>\n",
       "      <th>category</th>\n",
       "    </tr>\n",
       "  </thead>\n",
       "  <tbody>\n",
       "    <tr>\n",
       "      <td>0</td>\n",
       "      <td>1</td>\n",
       "      <td>8437</td>\n",
       "      <td>42</td>\n",
       "      <td>высшее</td>\n",
       "      <td>0</td>\n",
       "      <td>женат / замужем</td>\n",
       "      <td>0</td>\n",
       "      <td>F</td>\n",
       "      <td>сотрудник</td>\n",
       "      <td>0</td>\n",
       "      <td>253875</td>\n",
       "      <td>покупка жилья</td>\n",
       "      <td>покупка жилье</td>\n",
       "      <td>операции с недвижимостью</td>\n",
       "    </tr>\n",
       "    <tr>\n",
       "      <td>1</td>\n",
       "      <td>1</td>\n",
       "      <td>4024</td>\n",
       "      <td>36</td>\n",
       "      <td>среднее</td>\n",
       "      <td>1</td>\n",
       "      <td>женат / замужем</td>\n",
       "      <td>0</td>\n",
       "      <td>F</td>\n",
       "      <td>сотрудник</td>\n",
       "      <td>0</td>\n",
       "      <td>112080</td>\n",
       "      <td>приобретение автомобиля</td>\n",
       "      <td>приобретение автомобиль</td>\n",
       "      <td>автомобиль</td>\n",
       "    </tr>\n",
       "    <tr>\n",
       "      <td>2</td>\n",
       "      <td>0</td>\n",
       "      <td>5623</td>\n",
       "      <td>33</td>\n",
       "      <td>среднее</td>\n",
       "      <td>1</td>\n",
       "      <td>женат / замужем</td>\n",
       "      <td>0</td>\n",
       "      <td>M</td>\n",
       "      <td>сотрудник</td>\n",
       "      <td>0</td>\n",
       "      <td>145885</td>\n",
       "      <td>покупка жилья</td>\n",
       "      <td>покупка жилье</td>\n",
       "      <td>операции с недвижимостью</td>\n",
       "    </tr>\n",
       "    <tr>\n",
       "      <td>3</td>\n",
       "      <td>3</td>\n",
       "      <td>4124</td>\n",
       "      <td>32</td>\n",
       "      <td>среднее</td>\n",
       "      <td>1</td>\n",
       "      <td>женат / замужем</td>\n",
       "      <td>0</td>\n",
       "      <td>M</td>\n",
       "      <td>сотрудник</td>\n",
       "      <td>0</td>\n",
       "      <td>267628</td>\n",
       "      <td>дополнительное образование</td>\n",
       "      <td>дополнительный образование</td>\n",
       "      <td>образование</td>\n",
       "    </tr>\n",
       "    <tr>\n",
       "      <td>4</td>\n",
       "      <td>0</td>\n",
       "      <td>340266</td>\n",
       "      <td>53</td>\n",
       "      <td>среднее</td>\n",
       "      <td>1</td>\n",
       "      <td>гражданский брак</td>\n",
       "      <td>1</td>\n",
       "      <td>F</td>\n",
       "      <td>пенсионер</td>\n",
       "      <td>0</td>\n",
       "      <td>158616</td>\n",
       "      <td>сыграть свадьбу</td>\n",
       "      <td>сыграть свадьба</td>\n",
       "      <td>свадьба</td>\n",
       "    </tr>\n",
       "  </tbody>\n",
       "</table>\n",
       "</div>"
      ],
      "text/plain": [
       "   children  days_employed  dob_years education  education_id  \\\n",
       "0         1           8437         42    высшее             0   \n",
       "1         1           4024         36   среднее             1   \n",
       "2         0           5623         33   среднее             1   \n",
       "3         3           4124         32   среднее             1   \n",
       "4         0         340266         53   среднее             1   \n",
       "\n",
       "      family_status  family_status_id gender income_type  debt  total_income  \\\n",
       "0   женат / замужем                 0      F   сотрудник     0        253875   \n",
       "1   женат / замужем                 0      F   сотрудник     0        112080   \n",
       "2   женат / замужем                 0      M   сотрудник     0        145885   \n",
       "3   женат / замужем                 0      M   сотрудник     0        267628   \n",
       "4  гражданский брак                 1      F   пенсионер     0        158616   \n",
       "\n",
       "                      purpose                 lem_purpose  \\\n",
       "0               покупка жилья               покупка жилье   \n",
       "1     приобретение автомобиля     приобретение автомобиль   \n",
       "2               покупка жилья               покупка жилье   \n",
       "3  дополнительное образование  дополнительный образование   \n",
       "4             сыграть свадьбу             сыграть свадьба   \n",
       "\n",
       "                   category  \n",
       "0  операции с недвижимостью  \n",
       "1                автомобиль  \n",
       "2  операции с недвижимостью  \n",
       "3               образование  \n",
       "4                   свадьба  "
      ]
     },
     "execution_count": 33,
     "metadata": {},
     "output_type": "execute_result"
    }
   ],
   "source": [
    "data.head()"
   ]
  },
  {
   "cell_type": "markdown",
   "metadata": {},
   "source": [
    "**Вывод**"
   ]
  },
  {
   "cell_type": "markdown",
   "metadata": {},
   "source": [
    "Создаём столбец lem_purpose, в котором каждая ячейка — это список лемматизированных слов из столбца purpose.И по нему отбираем наши цели на кредит по 4 категориям.В эти категории выбрали самые встречаемые словосочетания."
   ]
  },
  {
   "cell_type": "markdown",
   "metadata": {},
   "source": [
    "### Категоризация данных"
   ]
  },
  {
   "cell_type": "code",
   "execution_count": 34,
   "metadata": {},
   "outputs": [
    {
     "data": {
      "text/plain": [
       "0    14089\n",
       "1     4855\n",
       "2     2128\n",
       "3      330\n",
       "4       41\n",
       "5        9\n",
       "Name: children, dtype: int64"
      ]
     },
     "execution_count": 34,
     "metadata": {},
     "output_type": "execute_result"
    }
   ],
   "source": [
    "data['children'].value_counts()"
   ]
  },
  {
   "cell_type": "markdown",
   "metadata": {},
   "source": [
    "Разобьем на категории.Создадим столбец children_group,где дети разбиты на категории"
   ]
  },
  {
   "cell_type": "code",
   "execution_count": 35,
   "metadata": {},
   "outputs": [
    {
     "data": {
      "text/plain": [
       "без детей    14089\n",
       "1 ребенок     4855\n",
       "2 ребенка     2128\n",
       "3 ребенка      330\n",
       "4 ребенка       41\n",
       "5 детей          9\n",
       "Name: children_group, dtype: int64"
      ]
     },
     "execution_count": 35,
     "metadata": {},
     "output_type": "execute_result"
    }
   ],
   "source": [
    "def children_group(children): \n",
    "    if children == 0:\n",
    "        return 'без детей'\n",
    "    if children == 1:\n",
    "        return '1 ребенок'\n",
    "    if children == 2:\n",
    "        return '2 ребенка'\n",
    "    if children == 3:\n",
    "        return '3 ребенка'\n",
    "    if children == 4:\n",
    "        return '4 ребенка'\n",
    "    return '5 детей'\n",
    "data['children_group'] = data['children'].apply(children_group)\n",
    "data['children_group'].value_counts()"
   ]
  },
  {
   "cell_type": "code",
   "execution_count": 36,
   "metadata": {},
   "outputs": [
    {
     "data": {
      "text/plain": [
       "0    12339\n",
       "1     4149\n",
       "4     2810\n",
       "3     1195\n",
       "2      959\n",
       "Name: family_status_id, dtype: int64"
      ]
     },
     "execution_count": 36,
     "metadata": {},
     "output_type": "execute_result"
    }
   ],
   "source": [
    "data['family_status_id'].value_counts()"
   ]
  },
  {
   "cell_type": "markdown",
   "metadata": {},
   "source": [
    "Разобьем на категории.Создадим столбец family_status_id_group,где данные разбиты на категории"
   ]
  },
  {
   "cell_type": "code",
   "execution_count": 37,
   "metadata": {},
   "outputs": [
    {
     "data": {
      "text/plain": [
       "полная семья      16488\n",
       "неполная семья     4964\n",
       "Name: family_status_id_group, dtype: int64"
      ]
     },
     "execution_count": 37,
     "metadata": {},
     "output_type": "execute_result"
    }
   ],
   "source": [
    "def family_status_id_group(family_status_id): \n",
    "    if family_status_id <= 1:\n",
    "        return 'полная семья'\n",
    "    return 'неполная семья'\n",
    "data['family_status_id_group'] = data['family_status_id'].apply(family_status_id_group)\n",
    "data['family_status_id_group'].value_counts()"
   ]
  },
  {
   "cell_type": "code",
   "execution_count": 38,
   "metadata": {},
   "outputs": [
    {
     "data": {
      "text/plain": [
       "0    19711\n",
       "1     1741\n",
       "Name: debt, dtype: int64"
      ]
     },
     "execution_count": 38,
     "metadata": {},
     "output_type": "execute_result"
    }
   ],
   "source": [
    "data['debt'].value_counts()"
   ]
  },
  {
   "cell_type": "markdown",
   "metadata": {},
   "source": [
    "Разобьем на категории.Создадим столбец debt_group,где данные разбиты на категории"
   ]
  },
  {
   "cell_type": "code",
   "execution_count": 39,
   "metadata": {},
   "outputs": [
    {
     "data": {
      "text/plain": [
       "задолжность        19711\n",
       "нет задолжности     1741\n",
       "Name: debt_group, dtype: int64"
      ]
     },
     "execution_count": 39,
     "metadata": {},
     "output_type": "execute_result"
    }
   ],
   "source": [
    "def debt_group(debt): \n",
    "    if debt == 0:\n",
    "        return 'задолжность'\n",
    "    return 'нет задолжности'\n",
    "data['debt_group'] = data['debt'].apply(debt_group)\n",
    "data['debt_group'].value_counts()"
   ]
  },
  {
   "cell_type": "markdown",
   "metadata": {},
   "source": [
    "Количество задолжности по каждой группе"
   ]
  },
  {
   "cell_type": "code",
   "execution_count": 40,
   "metadata": {},
   "outputs": [
    {
     "data": {
      "text/plain": [
       "children_group\n",
       "1 ребенок     445\n",
       "2 ребенка     202\n",
       "3 ребенка      27\n",
       "4 ребенка       4\n",
       "5 детей         0\n",
       "без детей    1063\n",
       "Name: debt, dtype: int64"
      ]
     },
     "execution_count": 40,
     "metadata": {},
     "output_type": "execute_result"
    }
   ],
   "source": [
    "data.groupby('children_group')['debt'].sum()"
   ]
  },
  {
   "cell_type": "code",
   "execution_count": 41,
   "metadata": {},
   "outputs": [
    {
     "data": {
      "text/plain": [
       "family_status_id_group\n",
       "неполная семья     422\n",
       "полная семья      1319\n",
       "Name: debt, dtype: int64"
      ]
     },
     "execution_count": 41,
     "metadata": {},
     "output_type": "execute_result"
    }
   ],
   "source": [
    "data.groupby('family_status_id_group')['debt'].sum()"
   ]
  },
  {
   "cell_type": "markdown",
   "metadata": {},
   "source": [
    "Посмотрим минимальное,максимальное,медиану и среднее значения"
   ]
  },
  {
   "cell_type": "code",
   "execution_count": 42,
   "metadata": {},
   "outputs": [
    {
     "name": "stdout",
     "output_type": "stream",
     "text": [
      "20667\n",
      "2265604\n",
      "140215.5\n",
      "164396.1652992728\n"
     ]
    }
   ],
   "source": [
    "print(data['total_income'].min())\n",
    "print(data['total_income'].max())\n",
    "print(data['total_income'].median())\n",
    "print(data['total_income'].mean())"
   ]
  },
  {
   "cell_type": "markdown",
   "metadata": {},
   "source": [
    "Разобьем на категории.Создадим столбец total_income_group,где доходы разбиты на категории"
   ]
  },
  {
   "cell_type": "code",
   "execution_count": 43,
   "metadata": {
    "scrolled": false
   },
   "outputs": [
    {
     "data": {
      "text/plain": [
       "Доход 140-200       5681\n",
       "Доход меньше 110    5642\n",
       "Доход больше 200    5066\n",
       "Доход 110-140       5063\n",
       "Name: total_income_group, dtype: int64"
      ]
     },
     "execution_count": 43,
     "metadata": {},
     "output_type": "execute_result"
    }
   ],
   "source": [
    "def total_income_group(total_income): \n",
    "    if total_income <= 110000:\n",
    "        return 'Доход меньше 110'\n",
    "    if total_income <= 140000 and total_income > 110000:\n",
    "        return 'Доход 110-140'\n",
    "    if total_income <= 200000 and total_income > 140000:\n",
    "        return 'Доход 140-200'\n",
    "    if total_income > 200000:\n",
    "        return 'Доход больше 200'\n",
    "data['total_income_group'] = data['total_income'].apply(total_income_group) \n",
    "data['total_income_group'].value_counts()"
   ]
  },
  {
   "cell_type": "code",
   "execution_count": 44,
   "metadata": {},
   "outputs": [
    {
     "data": {
      "text/html": [
       "<div>\n",
       "<style scoped>\n",
       "    .dataframe tbody tr th:only-of-type {\n",
       "        vertical-align: middle;\n",
       "    }\n",
       "\n",
       "    .dataframe tbody tr th {\n",
       "        vertical-align: top;\n",
       "    }\n",
       "\n",
       "    .dataframe thead th {\n",
       "        text-align: right;\n",
       "    }\n",
       "</style>\n",
       "<table border=\"1\" class=\"dataframe\">\n",
       "  <thead>\n",
       "    <tr style=\"text-align: right;\">\n",
       "      <th></th>\n",
       "      <th>children</th>\n",
       "      <th>days_employed</th>\n",
       "      <th>dob_years</th>\n",
       "      <th>education</th>\n",
       "      <th>education_id</th>\n",
       "      <th>family_status</th>\n",
       "      <th>family_status_id</th>\n",
       "      <th>gender</th>\n",
       "      <th>income_type</th>\n",
       "      <th>debt</th>\n",
       "      <th>total_income</th>\n",
       "      <th>purpose</th>\n",
       "      <th>lem_purpose</th>\n",
       "      <th>category</th>\n",
       "      <th>children_group</th>\n",
       "      <th>family_status_id_group</th>\n",
       "      <th>debt_group</th>\n",
       "      <th>total_income_group</th>\n",
       "    </tr>\n",
       "  </thead>\n",
       "  <tbody>\n",
       "    <tr>\n",
       "      <td>0</td>\n",
       "      <td>1</td>\n",
       "      <td>8437</td>\n",
       "      <td>42</td>\n",
       "      <td>высшее</td>\n",
       "      <td>0</td>\n",
       "      <td>женат / замужем</td>\n",
       "      <td>0</td>\n",
       "      <td>F</td>\n",
       "      <td>сотрудник</td>\n",
       "      <td>0</td>\n",
       "      <td>253875</td>\n",
       "      <td>покупка жилья</td>\n",
       "      <td>покупка жилье</td>\n",
       "      <td>операции с недвижимостью</td>\n",
       "      <td>1 ребенок</td>\n",
       "      <td>полная семья</td>\n",
       "      <td>задолжность</td>\n",
       "      <td>Доход больше 200</td>\n",
       "    </tr>\n",
       "    <tr>\n",
       "      <td>1</td>\n",
       "      <td>1</td>\n",
       "      <td>4024</td>\n",
       "      <td>36</td>\n",
       "      <td>среднее</td>\n",
       "      <td>1</td>\n",
       "      <td>женат / замужем</td>\n",
       "      <td>0</td>\n",
       "      <td>F</td>\n",
       "      <td>сотрудник</td>\n",
       "      <td>0</td>\n",
       "      <td>112080</td>\n",
       "      <td>приобретение автомобиля</td>\n",
       "      <td>приобретение автомобиль</td>\n",
       "      <td>автомобиль</td>\n",
       "      <td>1 ребенок</td>\n",
       "      <td>полная семья</td>\n",
       "      <td>задолжность</td>\n",
       "      <td>Доход 110-140</td>\n",
       "    </tr>\n",
       "    <tr>\n",
       "      <td>2</td>\n",
       "      <td>0</td>\n",
       "      <td>5623</td>\n",
       "      <td>33</td>\n",
       "      <td>среднее</td>\n",
       "      <td>1</td>\n",
       "      <td>женат / замужем</td>\n",
       "      <td>0</td>\n",
       "      <td>M</td>\n",
       "      <td>сотрудник</td>\n",
       "      <td>0</td>\n",
       "      <td>145885</td>\n",
       "      <td>покупка жилья</td>\n",
       "      <td>покупка жилье</td>\n",
       "      <td>операции с недвижимостью</td>\n",
       "      <td>без детей</td>\n",
       "      <td>полная семья</td>\n",
       "      <td>задолжность</td>\n",
       "      <td>Доход 140-200</td>\n",
       "    </tr>\n",
       "    <tr>\n",
       "      <td>3</td>\n",
       "      <td>3</td>\n",
       "      <td>4124</td>\n",
       "      <td>32</td>\n",
       "      <td>среднее</td>\n",
       "      <td>1</td>\n",
       "      <td>женат / замужем</td>\n",
       "      <td>0</td>\n",
       "      <td>M</td>\n",
       "      <td>сотрудник</td>\n",
       "      <td>0</td>\n",
       "      <td>267628</td>\n",
       "      <td>дополнительное образование</td>\n",
       "      <td>дополнительный образование</td>\n",
       "      <td>образование</td>\n",
       "      <td>3 ребенка</td>\n",
       "      <td>полная семья</td>\n",
       "      <td>задолжность</td>\n",
       "      <td>Доход больше 200</td>\n",
       "    </tr>\n",
       "    <tr>\n",
       "      <td>4</td>\n",
       "      <td>0</td>\n",
       "      <td>340266</td>\n",
       "      <td>53</td>\n",
       "      <td>среднее</td>\n",
       "      <td>1</td>\n",
       "      <td>гражданский брак</td>\n",
       "      <td>1</td>\n",
       "      <td>F</td>\n",
       "      <td>пенсионер</td>\n",
       "      <td>0</td>\n",
       "      <td>158616</td>\n",
       "      <td>сыграть свадьбу</td>\n",
       "      <td>сыграть свадьба</td>\n",
       "      <td>свадьба</td>\n",
       "      <td>без детей</td>\n",
       "      <td>полная семья</td>\n",
       "      <td>задолжность</td>\n",
       "      <td>Доход 140-200</td>\n",
       "    </tr>\n",
       "  </tbody>\n",
       "</table>\n",
       "</div>"
      ],
      "text/plain": [
       "   children  days_employed  dob_years education  education_id  \\\n",
       "0         1           8437         42    высшее             0   \n",
       "1         1           4024         36   среднее             1   \n",
       "2         0           5623         33   среднее             1   \n",
       "3         3           4124         32   среднее             1   \n",
       "4         0         340266         53   среднее             1   \n",
       "\n",
       "      family_status  family_status_id gender income_type  debt  total_income  \\\n",
       "0   женат / замужем                 0      F   сотрудник     0        253875   \n",
       "1   женат / замужем                 0      F   сотрудник     0        112080   \n",
       "2   женат / замужем                 0      M   сотрудник     0        145885   \n",
       "3   женат / замужем                 0      M   сотрудник     0        267628   \n",
       "4  гражданский брак                 1      F   пенсионер     0        158616   \n",
       "\n",
       "                      purpose                 lem_purpose  \\\n",
       "0               покупка жилья               покупка жилье   \n",
       "1     приобретение автомобиля     приобретение автомобиль   \n",
       "2               покупка жилья               покупка жилье   \n",
       "3  дополнительное образование  дополнительный образование   \n",
       "4             сыграть свадьбу             сыграть свадьба   \n",
       "\n",
       "                   category children_group family_status_id_group  \\\n",
       "0  операции с недвижимостью      1 ребенок           полная семья   \n",
       "1                автомобиль      1 ребенок           полная семья   \n",
       "2  операции с недвижимостью      без детей           полная семья   \n",
       "3               образование      3 ребенка           полная семья   \n",
       "4                   свадьба      без детей           полная семья   \n",
       "\n",
       "    debt_group total_income_group  \n",
       "0  задолжность   Доход больше 200  \n",
       "1  задолжность      Доход 110-140  \n",
       "2  задолжность      Доход 140-200  \n",
       "3  задолжность   Доход больше 200  \n",
       "4  задолжность      Доход 140-200  "
      ]
     },
     "execution_count": 44,
     "metadata": {},
     "output_type": "execute_result"
    }
   ],
   "source": [
    "data.head()"
   ]
  },
  {
   "cell_type": "markdown",
   "metadata": {},
   "source": [
    "**Вывод**"
   ]
  },
  {
   "cell_type": "markdown",
   "metadata": {},
   "source": [
    "Разбили на категории(children_group, family_status_id_group, debt_group) по которым надо выяснить взаимосвязь возрата кредита в срок.Детей разбили по количеству,статус семьи на полные и неполные,зодолжность на была и не была. Видим,что у кредиторов с детьми реже возможность просрочки и в неполных семьях долгов меньше,чем в полных семьях.Разбили столбец total_income на категории так,что бы в каждой было приблизительно равное количество показателей для того,что бы аналитика была правдоподобнее.Клиенты с меньшим доходом берут реже кредит и у них реже просрочка по нему.Больше всего клиентов с доходом 100-150."
   ]
  },
  {
   "cell_type": "markdown",
   "metadata": {},
   "source": [
    "## Шаг 3. Ответьте на вопросы"
   ]
  },
  {
   "cell_type": "markdown",
   "metadata": {},
   "source": [
    "- Есть ли зависимость между наличием детей и возвратом кредита в срок?"
   ]
  },
  {
   "cell_type": "markdown",
   "metadata": {},
   "source": [
    "Количество задолжности по каждой группе"
   ]
  },
  {
   "cell_type": "code",
   "execution_count": 45,
   "metadata": {},
   "outputs": [
    {
     "data": {
      "text/plain": [
       "children_group\n",
       "1 ребенок     445\n",
       "2 ребенка     202\n",
       "3 ребенка      27\n",
       "4 ребенка       4\n",
       "5 детей         0\n",
       "без детей    1063\n",
       "Name: debt, dtype: int64"
      ]
     },
     "execution_count": 45,
     "metadata": {},
     "output_type": "execute_result"
    }
   ],
   "source": [
    "children_count_delay = data.groupby('children_group')['debt'].sum() \n",
    "children_count_delay"
   ]
  },
  {
   "cell_type": "markdown",
   "metadata": {},
   "source": [
    "Посчитаем уникальные значения в столбце children_group и присвоим к ним переменную children_total"
   ]
  },
  {
   "cell_type": "code",
   "execution_count": 46,
   "metadata": {},
   "outputs": [
    {
     "data": {
      "text/plain": [
       "без детей    14089\n",
       "1 ребенок     4855\n",
       "2 ребенка     2128\n",
       "3 ребенка      330\n",
       "4 ребенка       41\n",
       "5 детей          9\n",
       "Name: children_group, dtype: int64"
      ]
     },
     "execution_count": 46,
     "metadata": {},
     "output_type": "execute_result"
    }
   ],
   "source": [
    "children_total = data['children_group'].value_counts() \n",
    "children_total"
   ]
  },
  {
   "cell_type": "markdown",
   "metadata": {},
   "source": [
    "Считаем зависимость между наличием детей и возвратом кредита в срок"
   ]
  },
  {
   "cell_type": "code",
   "execution_count": 47,
   "metadata": {
    "scrolled": true
   },
   "outputs": [
    {
     "data": {
      "text/plain": [
       "1 ребенок    9.165808\n",
       "2 ребенка    9.492481\n",
       "3 ребенка    8.181818\n",
       "4 ребенка    9.756098\n",
       "5 детей      0.000000\n",
       "без детей    7.544893\n",
       "dtype: float64"
      ]
     },
     "execution_count": 47,
     "metadata": {},
     "output_type": "execute_result"
    }
   ],
   "source": [
    "children_debt_norm = children_count_delay / children_total *100 \n",
    "children_debt_norm "
   ]
  },
  {
   "cell_type": "markdown",
   "metadata": {},
   "source": [
    "**Вывод**"
   ]
  },
  {
   "cell_type": "markdown",
   "metadata": {},
   "source": [
    "Наблюдаем,что чем больше детей,тем выше шанс просрочки. Однако у тех клиентов у которых 5 детей просрочка равна нули.Это исключение,так как таких клиентов всего 9.Так же видем,что клиенты без детей чаще отдают кредит во время,чем с детьми."
   ]
  },
  {
   "cell_type": "markdown",
   "metadata": {},
   "source": [
    "- Есть ли зависимость между семейным положением и возвратом кредита в срок?"
   ]
  },
  {
   "cell_type": "markdown",
   "metadata": {},
   "source": [
    "Количество задолжности по каждой группе"
   ]
  },
  {
   "cell_type": "code",
   "execution_count": 48,
   "metadata": {},
   "outputs": [
    {
     "data": {
      "text/plain": [
       "family_status_id_group\n",
       "неполная семья     422\n",
       "полная семья      1319\n",
       "Name: debt, dtype: int64"
      ]
     },
     "execution_count": 48,
     "metadata": {},
     "output_type": "execute_result"
    }
   ],
   "source": [
    "family_status_count_delay = data.groupby('family_status_id_group')['debt'].sum() \n",
    "family_status_count_delay"
   ]
  },
  {
   "cell_type": "markdown",
   "metadata": {},
   "source": [
    "Посчитаем уникальные значения в столбце family_status_id_group и присвоим к ним переменную family_status_total"
   ]
  },
  {
   "cell_type": "code",
   "execution_count": 49,
   "metadata": {},
   "outputs": [
    {
     "data": {
      "text/plain": [
       "полная семья      16488\n",
       "неполная семья     4964\n",
       "Name: family_status_id_group, dtype: int64"
      ]
     },
     "execution_count": 49,
     "metadata": {},
     "output_type": "execute_result"
    }
   ],
   "source": [
    "family_status_total = data['family_status_id_group'].value_counts()\n",
    "family_status_total"
   ]
  },
  {
   "cell_type": "markdown",
   "metadata": {},
   "source": [
    "Считаем зависимость между семейным положением и возвратом кредита в срок"
   ]
  },
  {
   "cell_type": "code",
   "execution_count": 50,
   "metadata": {
    "scrolled": true
   },
   "outputs": [
    {
     "data": {
      "text/plain": [
       "неполная семья    8.501209\n",
       "полная семья      7.999757\n",
       "dtype: float64"
      ]
     },
     "execution_count": 50,
     "metadata": {},
     "output_type": "execute_result"
    }
   ],
   "source": [
    "family_status_debt_norm = family_status_count_delay / family_status_total *100 \n",
    "family_status_debt_norm"
   ]
  },
  {
   "cell_type": "markdown",
   "metadata": {},
   "source": [
    "**Вывод**"
   ]
  },
  {
   "cell_type": "markdown",
   "metadata": {},
   "source": [
    "В неполных семьях долгов по кредиту меньше,чем в полных,хотя разрыв между ними не большой,но даже такая небольшая разница может быть важной для банка."
   ]
  },
  {
   "cell_type": "markdown",
   "metadata": {},
   "source": [
    "- Есть ли зависимость между уровнем дохода и возвратом кредита в срок?"
   ]
  },
  {
   "cell_type": "markdown",
   "metadata": {},
   "source": [
    "Количество задолжности по каждой группе"
   ]
  },
  {
   "cell_type": "code",
   "execution_count": 51,
   "metadata": {},
   "outputs": [
    {
     "data": {
      "text/plain": [
       "total_income_group\n",
       "Доход 110-140       431\n",
       "Доход 140-200       497\n",
       "Доход больше 200    358\n",
       "Доход меньше 110    455\n",
       "Name: debt, dtype: int64"
      ]
     },
     "execution_count": 51,
     "metadata": {},
     "output_type": "execute_result"
    }
   ],
   "source": [
    "total_income_count_delay = data.groupby('total_income_group')['debt'].sum() \n",
    "total_income_count_delay"
   ]
  },
  {
   "cell_type": "markdown",
   "metadata": {},
   "source": [
    "Посчитаем уникальные значения в столбце total_income_group и присвоим к ним переменную total_income_new"
   ]
  },
  {
   "cell_type": "code",
   "execution_count": 52,
   "metadata": {},
   "outputs": [
    {
     "data": {
      "text/plain": [
       "Доход 140-200       5681\n",
       "Доход меньше 110    5642\n",
       "Доход больше 200    5066\n",
       "Доход 110-140       5063\n",
       "Name: total_income_group, dtype: int64"
      ]
     },
     "execution_count": 52,
     "metadata": {},
     "output_type": "execute_result"
    }
   ],
   "source": [
    "total_income_new = data['total_income_group'].value_counts() \n",
    "total_income_new"
   ]
  },
  {
   "cell_type": "markdown",
   "metadata": {},
   "source": [
    "Считаем зависимость между уровнем дохода и возвратом кредита в срок"
   ]
  },
  {
   "cell_type": "code",
   "execution_count": 53,
   "metadata": {
    "scrolled": true
   },
   "outputs": [
    {
     "data": {
      "text/plain": [
       "Доход 110-140       8.512739\n",
       "Доход 140-200       8.748460\n",
       "Доход больше 200    7.066719\n",
       "Доход меньше 110    8.064516\n",
       "dtype: float64"
      ]
     },
     "execution_count": 53,
     "metadata": {},
     "output_type": "execute_result"
    }
   ],
   "source": [
    "total_income_norm = total_income_count_delay / total_income_new * 100 \n",
    "total_income_norm "
   ]
  },
  {
   "cell_type": "markdown",
   "metadata": {},
   "source": [
    "**Вывод**"
   ]
  },
  {
   "cell_type": "markdown",
   "metadata": {},
   "source": [
    "Клиенты с доходом 140-200 чаще всего имеют долги.А с доходом больше 200 - меньше просрочки.Клиенты с доходом меньше 110 показатель просрочки выше,чем у клиентов с доход больше 200,но меньше,чем с доходом 140-200."
   ]
  },
  {
   "cell_type": "markdown",
   "metadata": {},
   "source": [
    "- Как разные цели кредита влияют на его возврат в срок?"
   ]
  },
  {
   "cell_type": "markdown",
   "metadata": {},
   "source": [
    "Количество задолжности по каждой группе"
   ]
  },
  {
   "cell_type": "code",
   "execution_count": 54,
   "metadata": {},
   "outputs": [
    {
     "data": {
      "text/plain": [
       "category\n",
       "автомобиль                  403\n",
       "образование                 370\n",
       "операции с недвижимостью    782\n",
       "свадьба                     186\n",
       "Name: debt, dtype: int64"
      ]
     },
     "execution_count": 54,
     "metadata": {},
     "output_type": "execute_result"
    }
   ],
   "source": [
    "category_count_delay = data.groupby('category')['debt'].sum()\n",
    "category_count_delay"
   ]
  },
  {
   "cell_type": "markdown",
   "metadata": {},
   "source": [
    "Посчитаем уникальные значения в столбце category и присвоим к ним переменную category_total"
   ]
  },
  {
   "cell_type": "code",
   "execution_count": 55,
   "metadata": {},
   "outputs": [
    {
     "data": {
      "text/plain": [
       "операции с недвижимостью    10810\n",
       "автомобиль                   4306\n",
       "образование                  4013\n",
       "свадьба                      2323\n",
       "Name: category, dtype: int64"
      ]
     },
     "execution_count": 55,
     "metadata": {},
     "output_type": "execute_result"
    }
   ],
   "source": [
    "category_total = data['category'].value_counts()\n",
    "category_total"
   ]
  },
  {
   "cell_type": "markdown",
   "metadata": {},
   "source": [
    "Считаем зависимость,как разные цели кредита влияют на его возврат в срок"
   ]
  },
  {
   "cell_type": "code",
   "execution_count": 56,
   "metadata": {
    "scrolled": true
   },
   "outputs": [
    {
     "data": {
      "text/plain": [
       "автомобиль                  9.359034\n",
       "образование                 9.220035\n",
       "операции с недвижимостью    7.234043\n",
       "свадьба                     8.006888\n",
       "dtype: float64"
      ]
     },
     "execution_count": 56,
     "metadata": {},
     "output_type": "execute_result"
    }
   ],
   "source": [
    "category_debt_norm = category_count_delay / category_total * 100 \n",
    "category_debt_norm"
   ]
  },
  {
   "cell_type": "markdown",
   "metadata": {},
   "source": [
    "**Вывод**"
   ]
  },
  {
   "cell_type": "markdown",
   "metadata": {},
   "source": [
    "Клиенты чаще возвращают кредит в срок,если он взят на операции с недвижимостью и на свадьбу.А на покупку авто и образования - просрочка чаще."
   ]
  },
  {
   "cell_type": "markdown",
   "metadata": {},
   "source": [
    "## Шаг 4. Общий вывод"
   ]
  },
  {
   "cell_type": "markdown",
   "metadata": {},
   "source": [
    "Исправили таблицу,разбили на категории,которые могут влиять на вероятность выплаты кредита в срок и посмотрели какие критерии влияют на это. Клиенты с неполной семьей, без детей,с доходом больше 200 тысяч отличный вариант для банка.И лучше выдавать кредиты на такие цели,как 'операции с недвижемостью' и 'свадьба' так как они чаще возвращаются в срок."
   ]
  }
 ],
 "metadata": {
  "ExecuteTimeLog": [
   {
    "duration": 858,
    "start_time": "2021-07-29T18:30:59.669Z"
   },
   {
    "duration": 87,
    "start_time": "2021-07-29T18:31:06.593Z"
   },
   {
    "duration": 1179,
    "start_time": "2021-07-29T18:40:11.169Z"
   },
   {
    "duration": 70,
    "start_time": "2021-07-29T18:46:24.391Z"
   },
   {
    "duration": 76,
    "start_time": "2021-07-29T18:47:08.579Z"
   },
   {
    "duration": 76,
    "start_time": "2021-07-29T19:03:06.117Z"
   },
   {
    "duration": 85,
    "start_time": "2021-07-29T19:03:59.265Z"
   },
   {
    "duration": 73,
    "start_time": "2021-07-29T19:04:43.601Z"
   },
   {
    "duration": 75,
    "start_time": "2021-07-29T19:09:02.626Z"
   },
   {
    "duration": 5,
    "start_time": "2021-07-29T19:17:08.588Z"
   },
   {
    "duration": 86,
    "start_time": "2021-07-29T19:17:33.960Z"
   },
   {
    "duration": 13,
    "start_time": "2021-07-29T19:20:53.840Z"
   },
   {
    "duration": 13,
    "start_time": "2021-07-29T19:21:18.060Z"
   },
   {
    "duration": 321,
    "start_time": "2021-07-29T19:37:42.571Z"
   },
   {
    "duration": 13,
    "start_time": "2021-07-29T19:38:23.675Z"
   },
   {
    "duration": 13,
    "start_time": "2021-07-29T19:40:33.628Z"
   },
   {
    "duration": 14,
    "start_time": "2021-07-29T19:41:23.995Z"
   },
   {
    "duration": 17,
    "start_time": "2021-07-29T19:42:55.944Z"
   },
   {
    "duration": 17,
    "start_time": "2021-07-29T19:43:02.976Z"
   },
   {
    "duration": 23,
    "start_time": "2021-07-29T19:43:24.028Z"
   },
   {
    "duration": 14,
    "start_time": "2021-07-29T20:04:43.579Z"
   },
   {
    "duration": 564,
    "start_time": "2021-07-29T20:12:47.433Z"
   },
   {
    "duration": 56,
    "start_time": "2021-07-30T08:48:52.188Z"
   },
   {
    "duration": 221,
    "start_time": "2021-07-30T08:49:05.004Z"
   },
   {
    "duration": 240,
    "start_time": "2021-07-30T09:18:07.848Z"
   },
   {
    "duration": 179,
    "start_time": "2021-07-30T09:21:59.017Z"
   },
   {
    "duration": 171,
    "start_time": "2021-07-30T09:26:32.590Z"
   },
   {
    "duration": 174,
    "start_time": "2021-07-30T09:27:57.250Z"
   },
   {
    "duration": 169,
    "start_time": "2021-07-30T09:52:44.495Z"
   },
   {
    "duration": 188,
    "start_time": "2021-07-30T09:52:56.362Z"
   },
   {
    "duration": 168,
    "start_time": "2021-07-30T09:53:10.862Z"
   },
   {
    "duration": 632,
    "start_time": "2021-07-30T09:55:34.591Z"
   },
   {
    "duration": 64,
    "start_time": "2021-07-30T09:57:16.131Z"
   },
   {
    "duration": 22,
    "start_time": "2021-07-30T09:57:21.831Z"
   },
   {
    "duration": 28,
    "start_time": "2021-07-30T09:58:36.779Z"
   },
   {
    "duration": 28,
    "start_time": "2021-07-30T09:58:53.627Z"
   },
   {
    "duration": 62,
    "start_time": "2021-07-30T10:41:45.507Z"
   },
   {
    "duration": 64,
    "start_time": "2021-07-30T10:42:38.159Z"
   },
   {
    "duration": 64,
    "start_time": "2021-07-30T10:43:38.686Z"
   },
   {
    "duration": 64,
    "start_time": "2021-07-30T10:45:45.115Z"
   },
   {
    "duration": 63,
    "start_time": "2021-07-30T10:46:43.738Z"
   },
   {
    "duration": 86,
    "start_time": "2021-07-30T10:53:21.603Z"
   },
   {
    "duration": 16,
    "start_time": "2021-07-30T10:54:53.668Z"
   },
   {
    "duration": 18,
    "start_time": "2021-07-30T10:55:15.219Z"
   },
   {
    "duration": 30,
    "start_time": "2021-07-30T11:08:37.193Z"
   },
   {
    "duration": 15,
    "start_time": "2021-07-30T11:10:52.319Z"
   },
   {
    "duration": 13,
    "start_time": "2021-07-30T11:11:00.794Z"
   },
   {
    "duration": 81,
    "start_time": "2021-07-30T11:11:14.326Z"
   },
   {
    "duration": 15,
    "start_time": "2021-07-30T11:11:23.462Z"
   },
   {
    "duration": 4136,
    "start_time": "2021-07-30T11:12:51.473Z"
   },
   {
    "duration": 80,
    "start_time": "2021-07-30T11:14:15.905Z"
   },
   {
    "duration": 4282,
    "start_time": "2021-07-30T11:14:28.797Z"
   },
   {
    "duration": 4618,
    "start_time": "2021-07-30T11:15:09.816Z"
   },
   {
    "duration": 81,
    "start_time": "2021-07-30T11:15:18.913Z"
   },
   {
    "duration": 182,
    "start_time": "2021-07-30T11:22:03.388Z"
   },
   {
    "duration": 182,
    "start_time": "2021-07-30T11:23:43.346Z"
   },
   {
    "duration": 15,
    "start_time": "2021-07-30T11:59:40.376Z"
   },
   {
    "duration": 4244,
    "start_time": "2021-07-30T12:05:23.726Z"
   },
   {
    "duration": 4131,
    "start_time": "2021-07-30T12:05:49.729Z"
   },
   {
    "duration": 188,
    "start_time": "2021-07-30T12:06:17.080Z"
   },
   {
    "duration": 201,
    "start_time": "2021-07-30T12:06:26.018Z"
   },
   {
    "duration": 190,
    "start_time": "2021-07-30T12:06:51.965Z"
   },
   {
    "duration": 10,
    "start_time": "2021-07-30T12:26:17.453Z"
   },
   {
    "duration": 15,
    "start_time": "2021-07-30T12:32:36.162Z"
   },
   {
    "duration": 36,
    "start_time": "2021-07-30T12:38:43.302Z"
   },
   {
    "duration": 220,
    "start_time": "2021-07-30T12:43:08.240Z"
   },
   {
    "duration": 55,
    "start_time": "2021-07-30T12:43:29.924Z"
   },
   {
    "duration": 35,
    "start_time": "2021-07-30T12:57:27.894Z"
   },
   {
    "duration": 34,
    "start_time": "2021-07-30T12:58:29.702Z"
   },
   {
    "duration": 37,
    "start_time": "2021-07-30T13:03:42.921Z"
   },
   {
    "duration": 99,
    "start_time": "2021-07-30T13:06:30.312Z"
   },
   {
    "duration": 49,
    "start_time": "2021-07-30T13:06:43.058Z"
   },
   {
    "duration": 47,
    "start_time": "2021-07-30T13:07:25.110Z"
   },
   {
    "duration": 14,
    "start_time": "2021-07-30T13:08:48.219Z"
   },
   {
    "duration": 17,
    "start_time": "2021-07-30T13:08:53.304Z"
   },
   {
    "duration": 20,
    "start_time": "2021-07-30T13:09:58.136Z"
   },
   {
    "duration": 185,
    "start_time": "2021-07-30T13:21:12.135Z"
   },
   {
    "duration": 440,
    "start_time": "2021-07-30T13:23:34.738Z"
   },
   {
    "duration": 442,
    "start_time": "2021-07-30T13:23:46.382Z"
   },
   {
    "duration": 253,
    "start_time": "2021-07-30T13:24:11.658Z"
   },
   {
    "duration": 20,
    "start_time": "2021-07-30T13:28:06.224Z"
   },
   {
    "duration": 21,
    "start_time": "2021-07-30T13:29:30.659Z"
   },
   {
    "duration": 82,
    "start_time": "2021-07-30T13:29:54.572Z"
   },
   {
    "duration": 21,
    "start_time": "2021-07-30T13:29:59.299Z"
   },
   {
    "duration": 21,
    "start_time": "2021-07-30T13:30:02.819Z"
   },
   {
    "duration": 253,
    "start_time": "2021-07-30T13:30:27.871Z"
   },
   {
    "duration": 15,
    "start_time": "2021-07-30T13:30:40.651Z"
   },
   {
    "duration": 80,
    "start_time": "2021-07-30T13:32:10.956Z"
   },
   {
    "duration": 79,
    "start_time": "2021-07-30T13:33:46.656Z"
   },
   {
    "duration": 81,
    "start_time": "2021-07-30T13:34:01.784Z"
   },
   {
    "duration": 84,
    "start_time": "2021-07-30T13:34:20.888Z"
   },
   {
    "duration": 18,
    "start_time": "2021-07-30T13:34:45.088Z"
   },
   {
    "duration": 20,
    "start_time": "2021-07-30T13:34:49.904Z"
   },
   {
    "duration": 17,
    "start_time": "2021-07-30T13:34:54.570Z"
   },
   {
    "duration": 67,
    "start_time": "2021-07-30T14:22:33.852Z"
   },
   {
    "duration": 73,
    "start_time": "2021-07-30T14:23:59.294Z"
   },
   {
    "duration": 67,
    "start_time": "2021-07-30T14:24:34.457Z"
   },
   {
    "duration": 66,
    "start_time": "2021-07-30T14:25:24.184Z"
   },
   {
    "duration": 94,
    "start_time": "2021-07-30T14:26:36.209Z"
   },
   {
    "duration": 80,
    "start_time": "2021-07-30T14:30:13.345Z"
   },
   {
    "duration": 251,
    "start_time": "2021-07-30T14:30:21.173Z"
   },
   {
    "duration": 91,
    "start_time": "2021-07-30T14:31:06.146Z"
   },
   {
    "duration": 253,
    "start_time": "2021-07-30T14:31:32.974Z"
   },
   {
    "duration": 23,
    "start_time": "2021-07-30T14:31:56.866Z"
   },
   {
    "duration": 17,
    "start_time": "2021-07-30T14:32:04.781Z"
   },
   {
    "duration": 281,
    "start_time": "2021-07-30T14:33:32.474Z"
   },
   {
    "duration": 16,
    "start_time": "2021-07-30T14:33:38.082Z"
   },
   {
    "duration": 264,
    "start_time": "2021-07-30T14:34:21.374Z"
   },
   {
    "duration": 16,
    "start_time": "2021-07-30T14:34:26.742Z"
   },
   {
    "duration": 210,
    "start_time": "2021-07-30T14:35:33.538Z"
   },
   {
    "duration": 23,
    "start_time": "2021-07-30T14:35:38.231Z"
   },
   {
    "duration": 23,
    "start_time": "2021-07-30T14:36:15.986Z"
   },
   {
    "duration": 16,
    "start_time": "2021-07-30T14:36:27.426Z"
   },
   {
    "duration": 4883,
    "start_time": "2021-07-30T14:38:18.786Z"
   },
   {
    "duration": 36,
    "start_time": "2021-07-30T14:44:24.936Z"
   },
   {
    "duration": 38,
    "start_time": "2021-07-30T14:45:01.680Z"
   },
   {
    "duration": 75,
    "start_time": "2021-07-30T14:46:42.052Z"
   },
   {
    "duration": 37,
    "start_time": "2021-07-30T14:46:44.668Z"
   },
   {
    "duration": 83,
    "start_time": "2021-07-30T14:46:54.648Z"
   },
   {
    "duration": 63,
    "start_time": "2021-07-30T14:47:26.284Z"
   },
   {
    "duration": 56,
    "start_time": "2021-07-30T14:47:41.508Z"
   },
   {
    "duration": 57,
    "start_time": "2021-07-30T14:47:57.728Z"
   },
   {
    "duration": 61,
    "start_time": "2021-07-30T14:48:29.172Z"
   },
   {
    "duration": 76,
    "start_time": "2021-07-30T15:07:34.927Z"
   },
   {
    "duration": 45,
    "start_time": "2021-07-30T15:07:38.266Z"
   },
   {
    "duration": 78,
    "start_time": "2021-07-30T15:09:00.715Z"
   },
   {
    "duration": 14,
    "start_time": "2021-07-30T15:09:05.359Z"
   },
   {
    "duration": 75,
    "start_time": "2021-07-30T15:10:31.708Z"
   },
   {
    "duration": 4468,
    "start_time": "2021-07-30T15:10:34.752Z"
   },
   {
    "duration": 79,
    "start_time": "2021-07-30T15:11:35.308Z"
   },
   {
    "duration": 4216,
    "start_time": "2021-07-30T15:11:37.856Z"
   },
   {
    "duration": 79,
    "start_time": "2021-07-30T15:15:08.597Z"
   },
   {
    "duration": 33,
    "start_time": "2021-07-30T15:15:11.401Z"
   },
   {
    "duration": 4,
    "start_time": "2021-07-30T15:18:13.273Z"
   },
   {
    "duration": 10,
    "start_time": "2021-07-30T15:18:45.125Z"
   },
   {
    "duration": 11,
    "start_time": "2021-07-30T15:30:54.799Z"
   },
   {
    "duration": 4633,
    "start_time": "2021-07-30T15:31:27.643Z"
   },
   {
    "duration": 11,
    "start_time": "2021-07-30T15:32:00.343Z"
   },
   {
    "duration": 32,
    "start_time": "2021-07-30T15:32:12.031Z"
   },
   {
    "duration": 11,
    "start_time": "2021-07-30T15:32:17.687Z"
   },
   {
    "duration": 183,
    "start_time": "2021-07-30T15:32:47.379Z"
   },
   {
    "duration": 59,
    "start_time": "2021-07-30T15:33:06.807Z"
   },
   {
    "duration": 200,
    "start_time": "2021-07-30T15:33:18.519Z"
   },
   {
    "duration": 10,
    "start_time": "2021-07-30T15:33:39.891Z"
   },
   {
    "duration": 215,
    "start_time": "2021-07-30T15:59:23.440Z"
   },
   {
    "duration": 63,
    "start_time": "2021-07-30T16:15:32.502Z"
   },
   {
    "duration": 62,
    "start_time": "2021-07-30T16:16:01.274Z"
   },
   {
    "duration": 68,
    "start_time": "2021-07-30T16:16:25.126Z"
   },
   {
    "duration": 68,
    "start_time": "2021-07-30T16:16:39.486Z"
   },
   {
    "duration": 66,
    "start_time": "2021-07-30T16:17:07.994Z"
   },
   {
    "duration": 72,
    "start_time": "2021-07-30T16:17:24.902Z"
   },
   {
    "duration": 74,
    "start_time": "2021-07-30T16:17:41.335Z"
   },
   {
    "duration": 68,
    "start_time": "2021-07-30T16:17:51.747Z"
   },
   {
    "duration": 1553,
    "start_time": "2021-07-30T16:18:03.307Z"
   },
   {
    "duration": 36,
    "start_time": "2021-07-30T16:18:42.272Z"
   },
   {
    "duration": 59,
    "start_time": "2021-07-30T16:19:51.452Z"
   },
   {
    "duration": 238,
    "start_time": "2021-07-30T16:20:04.199Z"
   },
   {
    "duration": 67,
    "start_time": "2021-07-30T16:23:13.084Z"
   },
   {
    "duration": 182,
    "start_time": "2021-07-30T16:23:18.711Z"
   },
   {
    "duration": 12,
    "start_time": "2021-07-30T16:33:51.674Z"
   },
   {
    "duration": 11,
    "start_time": "2021-07-30T16:34:13.654Z"
   },
   {
    "duration": 12,
    "start_time": "2021-07-30T16:34:28.220Z"
   },
   {
    "duration": 129,
    "start_time": "2021-07-30T16:34:41.697Z"
   },
   {
    "duration": 11,
    "start_time": "2021-07-30T16:35:14.254Z"
   },
   {
    "duration": 14,
    "start_time": "2021-07-30T16:35:35.151Z"
   },
   {
    "duration": 12,
    "start_time": "2021-07-30T16:36:15.006Z"
   },
   {
    "duration": 11,
    "start_time": "2021-07-30T16:36:27.002Z"
   },
   {
    "duration": 19,
    "start_time": "2021-07-30T16:43:23.283Z"
   },
   {
    "duration": 24,
    "start_time": "2021-07-30T16:44:04.807Z"
   },
   {
    "duration": 25,
    "start_time": "2021-07-30T16:44:50.718Z"
   },
   {
    "duration": 24,
    "start_time": "2021-07-30T17:07:13.221Z"
   },
   {
    "duration": 26,
    "start_time": "2021-07-30T17:08:19.667Z"
   },
   {
    "duration": 25,
    "start_time": "2021-07-30T17:08:49.928Z"
   },
   {
    "duration": 26,
    "start_time": "2021-07-30T17:09:12.563Z"
   },
   {
    "duration": 27,
    "start_time": "2021-07-30T17:09:23.192Z"
   },
   {
    "duration": 20,
    "start_time": "2021-07-30T17:09:52.695Z"
   },
   {
    "duration": 18,
    "start_time": "2021-07-30T17:10:21.944Z"
   },
   {
    "duration": 18,
    "start_time": "2021-07-30T17:11:36.412Z"
   },
   {
    "duration": 37,
    "start_time": "2021-07-30T17:11:44.820Z"
   },
   {
    "duration": 73,
    "start_time": "2021-07-30T17:11:56.423Z"
   },
   {
    "duration": 39,
    "start_time": "2021-07-30T17:12:01.220Z"
   },
   {
    "duration": 25,
    "start_time": "2021-07-30T17:12:08.336Z"
   },
   {
    "duration": 71,
    "start_time": "2021-07-30T17:12:44.099Z"
   },
   {
    "duration": 36,
    "start_time": "2021-07-30T17:12:45.801Z"
   },
   {
    "duration": 25,
    "start_time": "2021-07-30T17:12:49.540Z"
   },
   {
    "duration": 27,
    "start_time": "2021-07-30T17:13:11.327Z"
   },
   {
    "duration": 28,
    "start_time": "2021-07-30T17:13:19.564Z"
   },
   {
    "duration": 27,
    "start_time": "2021-07-30T17:13:29.808Z"
   },
   {
    "duration": 28,
    "start_time": "2021-07-30T17:16:25.965Z"
   },
   {
    "duration": 69,
    "start_time": "2021-07-30T17:16:36.406Z"
   },
   {
    "duration": 41,
    "start_time": "2021-07-30T17:16:38.233Z"
   },
   {
    "duration": 29,
    "start_time": "2021-07-30T17:16:44.841Z"
   },
   {
    "duration": 89,
    "start_time": "2021-07-30T17:17:06.618Z"
   },
   {
    "duration": 37,
    "start_time": "2021-07-30T17:17:07.469Z"
   },
   {
    "duration": 27,
    "start_time": "2021-07-30T17:17:14.121Z"
   },
   {
    "duration": 69,
    "start_time": "2021-07-30T17:18:04.937Z"
   },
   {
    "duration": 37,
    "start_time": "2021-07-30T17:18:06.338Z"
   },
   {
    "duration": 198,
    "start_time": "2021-07-30T17:18:10.697Z"
   },
   {
    "duration": 13,
    "start_time": "2021-07-30T17:18:32.597Z"
   },
   {
    "duration": 72,
    "start_time": "2021-07-30T17:18:58.789Z"
   },
   {
    "duration": 38,
    "start_time": "2021-07-30T17:18:59.915Z"
   },
   {
    "duration": 14,
    "start_time": "2021-07-30T17:19:01.090Z"
   },
   {
    "duration": 69,
    "start_time": "2021-07-30T17:25:54.691Z"
   },
   {
    "duration": 249,
    "start_time": "2021-07-30T17:26:02.498Z"
   },
   {
    "duration": 267,
    "start_time": "2021-07-30T17:26:43.510Z"
   },
   {
    "duration": 67,
    "start_time": "2021-07-30T17:26:56.366Z"
   },
   {
    "duration": 271,
    "start_time": "2021-07-30T17:26:59.947Z"
   },
   {
    "duration": 66,
    "start_time": "2021-07-30T17:28:50.518Z"
   },
   {
    "duration": 64,
    "start_time": "2021-07-30T17:29:04.670Z"
   },
   {
    "duration": 30,
    "start_time": "2021-07-30T17:29:07.731Z"
   },
   {
    "duration": 14,
    "start_time": "2021-07-30T17:29:35.103Z"
   },
   {
    "duration": 163,
    "start_time": "2021-07-30T17:36:44.060Z"
   },
   {
    "duration": 63,
    "start_time": "2021-07-30T17:37:06.964Z"
   },
   {
    "duration": 29,
    "start_time": "2021-07-30T17:37:08.536Z"
   },
   {
    "duration": 165,
    "start_time": "2021-07-30T17:37:13.095Z"
   },
   {
    "duration": 63,
    "start_time": "2021-07-30T17:46:04.917Z"
   },
   {
    "duration": 29,
    "start_time": "2021-07-30T17:46:10.209Z"
   },
   {
    "duration": 1201,
    "start_time": "2021-07-30T17:46:13.401Z"
   },
   {
    "duration": 62,
    "start_time": "2021-07-30T17:47:09.221Z"
   },
   {
    "duration": 29,
    "start_time": "2021-07-30T17:47:13.209Z"
   },
   {
    "duration": 167,
    "start_time": "2021-07-30T17:47:20.042Z"
   },
   {
    "duration": 61,
    "start_time": "2021-07-30T17:47:48.257Z"
   },
   {
    "duration": 31,
    "start_time": "2021-07-30T17:47:50.030Z"
   },
   {
    "duration": 166,
    "start_time": "2021-07-30T17:47:51.513Z"
   },
   {
    "duration": 62,
    "start_time": "2021-07-30T17:49:42.446Z"
   },
   {
    "duration": 29,
    "start_time": "2021-07-30T17:49:43.166Z"
   },
   {
    "duration": 162,
    "start_time": "2021-07-30T17:49:45.706Z"
   },
   {
    "duration": 65,
    "start_time": "2021-07-30T18:03:33.149Z"
   },
   {
    "duration": 62,
    "start_time": "2021-07-30T18:08:47.542Z"
   },
   {
    "duration": 31,
    "start_time": "2021-07-30T18:08:50.545Z"
   },
   {
    "duration": 7,
    "start_time": "2021-07-30T18:09:26.050Z"
   },
   {
    "duration": 16,
    "start_time": "2021-07-30T18:09:54.881Z"
   },
   {
    "duration": 22,
    "start_time": "2021-07-30T18:12:47.406Z"
   },
   {
    "duration": 24,
    "start_time": "2021-07-30T18:13:07.422Z"
   },
   {
    "duration": 15,
    "start_time": "2021-07-30T18:13:46.394Z"
   },
   {
    "duration": 81,
    "start_time": "2021-07-30T18:27:06.917Z"
   },
   {
    "duration": 33,
    "start_time": "2021-07-30T19:01:29.255Z"
   },
   {
    "duration": 28,
    "start_time": "2021-07-30T19:03:13.871Z"
   },
   {
    "duration": 38,
    "start_time": "2021-07-30T19:12:22.869Z"
   },
   {
    "duration": 87,
    "start_time": "2021-07-30T19:12:25.896Z"
   },
   {
    "duration": 33,
    "start_time": "2021-07-30T19:12:32.181Z"
   },
   {
    "duration": 201,
    "start_time": "2021-07-30T19:24:51.911Z"
   },
   {
    "duration": 10,
    "start_time": "2021-07-30T19:25:09.911Z"
   },
   {
    "duration": 6,
    "start_time": "2021-07-30T19:25:31.559Z"
   },
   {
    "duration": 79,
    "start_time": "2021-07-30T19:25:40.379Z"
   },
   {
    "duration": 33,
    "start_time": "2021-07-30T19:25:41.891Z"
   },
   {
    "duration": 23,
    "start_time": "2021-07-30T19:25:43.575Z"
   },
   {
    "duration": 7,
    "start_time": "2021-07-30T19:25:46.187Z"
   },
   {
    "duration": 9,
    "start_time": "2021-07-30T19:25:57.343Z"
   },
   {
    "duration": 9,
    "start_time": "2021-07-30T19:27:47.600Z"
   },
   {
    "duration": 4135,
    "start_time": "2021-07-30T19:36:00.861Z"
   },
   {
    "duration": 10,
    "start_time": "2021-07-30T19:39:35.329Z"
   },
   {
    "duration": 13,
    "start_time": "2021-07-30T19:41:27.898Z"
   },
   {
    "duration": 14,
    "start_time": "2021-07-30T19:41:44.433Z"
   },
   {
    "duration": 10,
    "start_time": "2021-07-30T19:42:01.706Z"
   },
   {
    "duration": 5,
    "start_time": "2021-07-30T19:43:36.473Z"
   },
   {
    "duration": 219,
    "start_time": "2021-07-30T19:46:43.159Z"
   },
   {
    "duration": 174,
    "start_time": "2021-07-30T19:47:13.015Z"
   },
   {
    "duration": 12,
    "start_time": "2021-07-30T19:49:35.483Z"
   },
   {
    "duration": 13,
    "start_time": "2021-07-30T19:49:41.431Z"
   },
   {
    "duration": 12,
    "start_time": "2021-07-30T19:50:03.936Z"
   },
   {
    "duration": 16,
    "start_time": "2021-07-30T19:50:39.327Z"
   },
   {
    "duration": 29,
    "start_time": "2021-07-30T19:51:06.036Z"
   },
   {
    "duration": 27,
    "start_time": "2021-07-30T19:51:55.043Z"
   },
   {
    "duration": 27,
    "start_time": "2021-07-30T19:53:16.884Z"
   },
   {
    "duration": 17,
    "start_time": "2021-07-30T19:54:59.000Z"
   },
   {
    "duration": 26,
    "start_time": "2021-07-30T19:58:48.353Z"
   },
   {
    "duration": 7,
    "start_time": "2021-07-30T19:59:58.717Z"
   },
   {
    "duration": 1083,
    "start_time": "2021-07-30T20:11:56.731Z"
   },
   {
    "duration": 25,
    "start_time": "2021-07-30T20:12:06.259Z"
   },
   {
    "duration": 25,
    "start_time": "2021-07-30T20:13:12.772Z"
   },
   {
    "duration": 78,
    "start_time": "2021-07-30T20:16:41.604Z"
   },
   {
    "duration": 34,
    "start_time": "2021-07-30T20:16:43.044Z"
   },
   {
    "duration": 25,
    "start_time": "2021-07-30T20:16:44.476Z"
   },
   {
    "duration": 61,
    "start_time": "2021-07-30T20:16:47.252Z"
   },
   {
    "duration": 987,
    "start_time": "2021-07-30T20:17:01.268Z"
   },
   {
    "duration": 499,
    "start_time": "2021-07-31T07:59:12.301Z"
   },
   {
    "duration": 885,
    "start_time": "2021-07-31T07:59:30.462Z"
   },
   {
    "duration": 335,
    "start_time": "2021-07-31T07:59:31.351Z"
   },
   {
    "duration": 324,
    "start_time": "2021-07-31T07:59:32.174Z"
   },
   {
    "duration": 108,
    "start_time": "2021-07-31T08:00:28.550Z"
   },
   {
    "duration": 331,
    "start_time": "2021-07-31T08:00:31.132Z"
   },
   {
    "duration": 301,
    "start_time": "2021-07-31T08:00:45.822Z"
   },
   {
    "duration": 94,
    "start_time": "2021-07-31T08:01:13.929Z"
   },
   {
    "duration": 366,
    "start_time": "2021-07-31T08:01:21.965Z"
   },
   {
    "duration": 82,
    "start_time": "2021-07-31T08:02:21.744Z"
   },
   {
    "duration": 53,
    "start_time": "2021-07-31T08:02:30.644Z"
   },
   {
    "duration": 39,
    "start_time": "2021-07-31T08:02:40.876Z"
   },
   {
    "duration": 109,
    "start_time": "2021-07-31T08:03:00.948Z"
   },
   {
    "duration": 52,
    "start_time": "2021-07-31T08:03:02.212Z"
   },
   {
    "duration": 39,
    "start_time": "2021-07-31T08:03:06.924Z"
   },
   {
    "duration": 44,
    "start_time": "2021-07-31T08:03:11.720Z"
   },
   {
    "duration": 113,
    "start_time": "2021-07-31T08:04:23.275Z"
   },
   {
    "duration": 52,
    "start_time": "2021-07-31T08:04:25.132Z"
   },
   {
    "duration": 41,
    "start_time": "2021-07-31T08:04:27.996Z"
   },
   {
    "duration": 1522,
    "start_time": "2021-07-31T08:04:39.736Z"
   },
   {
    "duration": 109,
    "start_time": "2021-07-31T08:05:12.832Z"
   },
   {
    "duration": 55,
    "start_time": "2021-07-31T08:05:15.729Z"
   },
   {
    "duration": 40,
    "start_time": "2021-07-31T08:05:18.476Z"
   },
   {
    "duration": 1451,
    "start_time": "2021-07-31T08:05:21.860Z"
   },
   {
    "duration": 109,
    "start_time": "2021-07-31T08:06:10.462Z"
   },
   {
    "duration": 51,
    "start_time": "2021-07-31T08:06:12.550Z"
   },
   {
    "duration": 40,
    "start_time": "2021-07-31T08:06:13.634Z"
   },
   {
    "duration": 1502,
    "start_time": "2021-07-31T08:06:15.095Z"
   },
   {
    "duration": 1464,
    "start_time": "2021-07-31T08:06:28.606Z"
   },
   {
    "duration": 153,
    "start_time": "2021-07-31T09:04:12.421Z"
   },
   {
    "duration": 80,
    "start_time": "2021-07-31T09:04:13.672Z"
   },
   {
    "duration": 62,
    "start_time": "2021-07-31T09:04:15.138Z"
   },
   {
    "duration": 45,
    "start_time": "2021-07-31T09:04:17.740Z"
   },
   {
    "duration": 319,
    "start_time": "2021-07-31T09:09:20.473Z"
   },
   {
    "duration": 65,
    "start_time": "2021-07-31T09:09:30.296Z"
   },
   {
    "duration": 72,
    "start_time": "2021-07-31T09:12:19.766Z"
   },
   {
    "duration": 43,
    "start_time": "2021-07-31T09:13:13.507Z"
   },
   {
    "duration": 339,
    "start_time": "2021-07-31T09:13:48.789Z"
   },
   {
    "duration": 322,
    "start_time": "2021-07-31T09:14:04.689Z"
   },
   {
    "duration": 62,
    "start_time": "2021-07-31T09:17:00.135Z"
   },
   {
    "duration": 324,
    "start_time": "2021-07-31T09:17:46.793Z"
   },
   {
    "duration": 56,
    "start_time": "2021-07-31T09:22:16.451Z"
   },
   {
    "duration": 7223,
    "start_time": "2021-07-31T09:25:07.093Z"
   },
   {
    "duration": 101,
    "start_time": "2021-07-31T09:26:58.606Z"
   },
   {
    "duration": 115,
    "start_time": "2021-07-31T09:27:32.210Z"
   },
   {
    "duration": 109,
    "start_time": "2021-07-31T09:27:47.798Z"
   },
   {
    "duration": 52,
    "start_time": "2021-07-31T09:27:48.746Z"
   },
   {
    "duration": 40,
    "start_time": "2021-07-31T09:27:50.086Z"
   },
   {
    "duration": 104,
    "start_time": "2021-07-31T09:27:59.802Z"
   },
   {
    "duration": 108,
    "start_time": "2021-07-31T10:58:11.227Z"
   },
   {
    "duration": 54,
    "start_time": "2021-07-31T10:58:18.209Z"
   },
   {
    "duration": 42,
    "start_time": "2021-07-31T10:58:21.841Z"
   },
   {
    "duration": 54,
    "start_time": "2021-07-31T10:58:25.751Z"
   },
   {
    "duration": 152,
    "start_time": "2021-07-31T11:18:32.361Z"
   },
   {
    "duration": 15,
    "start_time": "2021-07-31T11:19:13.310Z"
   },
   {
    "duration": 111,
    "start_time": "2021-07-31T11:29:32.679Z"
   },
   {
    "duration": 355,
    "start_time": "2021-07-31T11:29:39.211Z"
   },
   {
    "duration": 121,
    "start_time": "2021-07-31T11:30:17.100Z"
   },
   {
    "duration": 56,
    "start_time": "2021-07-31T11:30:22.475Z"
   },
   {
    "duration": 52,
    "start_time": "2021-07-31T11:31:20.925Z"
   },
   {
    "duration": 41,
    "start_time": "2021-07-31T11:31:23.430Z"
   },
   {
    "duration": 49,
    "start_time": "2021-07-31T11:31:28.295Z"
   },
   {
    "duration": 37,
    "start_time": "2021-07-31T11:52:51.390Z"
   },
   {
    "duration": 34,
    "start_time": "2021-07-31T11:53:01.030Z"
   },
   {
    "duration": 330,
    "start_time": "2021-07-31T11:53:21.978Z"
   },
   {
    "duration": 106,
    "start_time": "2021-07-31T11:53:46.586Z"
   },
   {
    "duration": 33,
    "start_time": "2021-07-31T11:53:49.950Z"
   },
   {
    "duration": 41,
    "start_time": "2021-07-31T11:54:00.748Z"
   },
   {
    "duration": 66,
    "start_time": "2021-07-31T11:54:33.866Z"
   },
   {
    "duration": 108,
    "start_time": "2021-07-31T11:55:11.007Z"
   },
   {
    "duration": 53,
    "start_time": "2021-07-31T11:55:15.978Z"
   },
   {
    "duration": 333,
    "start_time": "2021-07-31T11:56:46.338Z"
   },
   {
    "duration": 316,
    "start_time": "2021-07-31T11:57:01.771Z"
   },
   {
    "duration": 39,
    "start_time": "2021-07-31T11:57:16.819Z"
   },
   {
    "duration": 43,
    "start_time": "2021-07-31T12:00:20.840Z"
   },
   {
    "duration": 147,
    "start_time": "2021-07-31T12:00:40.810Z"
   },
   {
    "duration": 57,
    "start_time": "2021-07-31T12:00:43.436Z"
   },
   {
    "duration": 42,
    "start_time": "2021-07-31T12:00:58.867Z"
   },
   {
    "duration": 343,
    "start_time": "2021-07-31T12:07:46.531Z"
   },
   {
    "duration": 119,
    "start_time": "2021-07-31T12:07:54.394Z"
   },
   {
    "duration": 344,
    "start_time": "2021-07-31T12:07:56.690Z"
   },
   {
    "duration": 37,
    "start_time": "2021-07-31T12:08:47.153Z"
   },
   {
    "duration": 106,
    "start_time": "2021-07-31T12:10:41.566Z"
   },
   {
    "duration": 55,
    "start_time": "2021-07-31T12:10:43.976Z"
   },
   {
    "duration": 77,
    "start_time": "2021-07-31T12:11:12.800Z"
   },
   {
    "duration": 75,
    "start_time": "2021-07-31T12:14:18.085Z"
   },
   {
    "duration": 110,
    "start_time": "2021-07-31T12:14:25.130Z"
   },
   {
    "duration": 74,
    "start_time": "2021-07-31T12:14:26.417Z"
   },
   {
    "duration": 109,
    "start_time": "2021-07-31T12:15:30.826Z"
   },
   {
    "duration": 76,
    "start_time": "2021-07-31T12:15:33.064Z"
   },
   {
    "duration": 111,
    "start_time": "2021-07-31T12:15:59.018Z"
   },
   {
    "duration": 74,
    "start_time": "2021-07-31T12:16:05.685Z"
   },
   {
    "duration": 112,
    "start_time": "2021-07-31T12:19:49.711Z"
   },
   {
    "duration": 111,
    "start_time": "2021-07-31T12:19:57.426Z"
   },
   {
    "duration": 124,
    "start_time": "2021-07-31T12:19:58.974Z"
   },
   {
    "duration": 80,
    "start_time": "2021-07-31T12:23:09.247Z"
   },
   {
    "duration": 36,
    "start_time": "2021-07-31T12:23:28.431Z"
   },
   {
    "duration": 47,
    "start_time": "2021-07-31T12:30:03.299Z"
   },
   {
    "duration": 35,
    "start_time": "2021-07-31T12:30:33.226Z"
   },
   {
    "duration": 105,
    "start_time": "2021-07-31T12:39:33.065Z"
   },
   {
    "duration": 74,
    "start_time": "2021-07-31T12:39:35.642Z"
   },
   {
    "duration": 109,
    "start_time": "2021-07-31T12:40:07.218Z"
   },
   {
    "duration": 38,
    "start_time": "2021-07-31T12:40:08.123Z"
   },
   {
    "duration": 28,
    "start_time": "2021-07-31T12:40:08.875Z"
   },
   {
    "duration": 63,
    "start_time": "2021-07-31T12:40:09.621Z"
   },
   {
    "duration": 37,
    "start_time": "2021-07-31T12:40:38.854Z"
   },
   {
    "duration": 34,
    "start_time": "2021-07-31T12:40:45.366Z"
   },
   {
    "duration": 37,
    "start_time": "2021-07-31T12:40:56.100Z"
   },
   {
    "duration": 73,
    "start_time": "2021-07-31T12:41:49.615Z"
   },
   {
    "duration": 71,
    "start_time": "2021-07-31T12:43:19.445Z"
   },
   {
    "duration": 107,
    "start_time": "2021-07-31T12:44:10.581Z"
   },
   {
    "duration": 73,
    "start_time": "2021-07-31T12:44:11.815Z"
   },
   {
    "duration": 109,
    "start_time": "2021-07-31T13:01:26.438Z"
   },
   {
    "duration": 110,
    "start_time": "2021-07-31T13:11:11.116Z"
   },
   {
    "duration": 73,
    "start_time": "2021-07-31T13:11:24.035Z"
   },
   {
    "duration": 76,
    "start_time": "2021-07-31T13:12:28.498Z"
   },
   {
    "duration": 28,
    "start_time": "2021-07-31T13:12:29.327Z"
   },
   {
    "duration": 49,
    "start_time": "2021-07-31T13:12:31.232Z"
   },
   {
    "duration": 108,
    "start_time": "2021-07-31T13:25:53.946Z"
   },
   {
    "duration": 71,
    "start_time": "2021-07-31T13:26:09.218Z"
   },
   {
    "duration": 26,
    "start_time": "2021-07-31T13:26:25.462Z"
   },
   {
    "duration": 110,
    "start_time": "2021-07-31T13:36:03.781Z"
   },
   {
    "duration": 101,
    "start_time": "2021-07-31T13:36:06.139Z"
   },
   {
    "duration": 345,
    "start_time": "2021-07-31T13:36:19.451Z"
   },
   {
    "duration": 303,
    "start_time": "2021-07-31T13:39:28.484Z"
   },
   {
    "duration": 74,
    "start_time": "2021-07-31T13:41:39.752Z"
   },
   {
    "duration": 72,
    "start_time": "2021-07-31T13:44:44.405Z"
   },
   {
    "duration": 95,
    "start_time": "2021-07-31T13:44:57.135Z"
   },
   {
    "duration": 71,
    "start_time": "2021-07-31T13:45:09.669Z"
   },
   {
    "duration": 73,
    "start_time": "2021-07-31T13:50:10.064Z"
   },
   {
    "duration": 28,
    "start_time": "2021-07-31T13:50:17.666Z"
   },
   {
    "duration": 110,
    "start_time": "2021-07-31T13:50:23.678Z"
   },
   {
    "duration": 68,
    "start_time": "2021-07-31T13:50:26.430Z"
   },
   {
    "duration": 289,
    "start_time": "2021-07-31T13:53:22.386Z"
   },
   {
    "duration": 74,
    "start_time": "2021-07-31T13:53:40.412Z"
   },
   {
    "duration": 31,
    "start_time": "2021-07-31T13:57:34.194Z"
   },
   {
    "duration": 51,
    "start_time": "2021-07-31T14:07:31.409Z"
   },
   {
    "duration": 11,
    "start_time": "2021-07-31T14:07:48.471Z"
   },
   {
    "duration": 11,
    "start_time": "2021-07-31T14:07:56.084Z"
   },
   {
    "duration": 13,
    "start_time": "2021-07-31T14:08:18.860Z"
   },
   {
    "duration": 30,
    "start_time": "2021-07-31T14:08:45.981Z"
   },
   {
    "duration": 36,
    "start_time": "2021-07-31T14:09:00.365Z"
   },
   {
    "duration": 315,
    "start_time": "2021-07-31T14:09:31.685Z"
   },
   {
    "duration": 328,
    "start_time": "2021-07-31T14:10:06.438Z"
   },
   {
    "duration": 11,
    "start_time": "2021-07-31T14:10:21.285Z"
   },
   {
    "duration": 11,
    "start_time": "2021-07-31T14:10:28.958Z"
   },
   {
    "duration": 294,
    "start_time": "2021-07-31T14:16:47.179Z"
   },
   {
    "duration": 110,
    "start_time": "2021-07-31T14:16:55.978Z"
   },
   {
    "duration": 71,
    "start_time": "2021-07-31T14:16:56.863Z"
   },
   {
    "duration": 26,
    "start_time": "2021-07-31T14:16:58.718Z"
   },
   {
    "duration": 13,
    "start_time": "2021-07-31T14:17:01.211Z"
   },
   {
    "duration": 23,
    "start_time": "2021-07-31T14:17:26.799Z"
   },
   {
    "duration": 23,
    "start_time": "2021-07-31T14:17:50.095Z"
   },
   {
    "duration": 32,
    "start_time": "2021-07-31T14:18:23.795Z"
   },
   {
    "duration": 31,
    "start_time": "2021-07-31T14:18:53.328Z"
   },
   {
    "duration": 76,
    "start_time": "2021-07-31T14:19:13.075Z"
   },
   {
    "duration": 29,
    "start_time": "2021-07-31T14:20:07.828Z"
   },
   {
    "duration": 73,
    "start_time": "2021-07-31T14:24:28.583Z"
   },
   {
    "duration": 469,
    "start_time": "2021-07-31T14:24:58.548Z"
   },
   {
    "duration": 92,
    "start_time": "2021-07-31T14:25:23.069Z"
   },
   {
    "duration": 105,
    "start_time": "2021-07-31T14:27:18.240Z"
   },
   {
    "duration": 73,
    "start_time": "2021-07-31T14:27:18.889Z"
   },
   {
    "duration": 26,
    "start_time": "2021-07-31T14:27:19.754Z"
   },
   {
    "duration": 82,
    "start_time": "2021-07-31T14:27:20.797Z"
   },
   {
    "duration": -344259,
    "start_time": "2021-07-31T15:17:27.501Z"
   },
   {
    "duration": 46,
    "start_time": "2021-07-31T15:14:25.403Z"
   },
   {
    "duration": 74,
    "start_time": "2021-07-31T15:15:10.143Z"
   },
   {
    "duration": 2471,
    "start_time": "2021-07-31T15:15:38.552Z"
   },
   {
    "duration": 708,
    "start_time": "2021-08-01T08:54:35.284Z"
   },
   {
    "duration": 44,
    "start_time": "2021-08-01T08:54:45.328Z"
   },
   {
    "duration": 20,
    "start_time": "2021-08-01T08:54:49.124Z"
   },
   {
    "duration": 66,
    "start_time": "2021-08-01T08:54:51.784Z"
   },
   {
    "duration": 1735,
    "start_time": "2021-08-01T08:54:55.424Z"
   },
   {
    "duration": 78,
    "start_time": "2021-08-01T08:55:28.575Z"
   },
   {
    "duration": 44,
    "start_time": "2021-08-01T08:55:29.704Z"
   },
   {
    "duration": 17,
    "start_time": "2021-08-01T08:55:30.616Z"
   },
   {
    "duration": 54,
    "start_time": "2021-08-01T08:55:31.644Z"
   },
   {
    "duration": 6,
    "start_time": "2021-08-01T08:55:32.940Z"
   },
   {
    "duration": 5,
    "start_time": "2021-08-01T08:56:05.268Z"
   },
   {
    "duration": 3435,
    "start_time": "2021-08-01T09:07:41.178Z"
   },
   {
    "duration": 334,
    "start_time": "2021-08-01T11:46:26.209Z"
   },
   {
    "duration": 282,
    "start_time": "2021-08-01T11:50:06.081Z"
   },
   {
    "duration": 273,
    "start_time": "2021-08-01T11:50:48.458Z"
   },
   {
    "duration": 265,
    "start_time": "2021-08-01T11:52:54.886Z"
   },
   {
    "duration": 327,
    "start_time": "2021-08-01T12:03:50.016Z"
   },
   {
    "duration": 280,
    "start_time": "2021-08-01T12:20:59.812Z"
   },
   {
    "duration": 276,
    "start_time": "2021-08-01T12:21:50.699Z"
   },
   {
    "duration": 279,
    "start_time": "2021-08-01T12:21:54.763Z"
   },
   {
    "duration": 882,
    "start_time": "2021-08-01T12:22:05.734Z"
   },
   {
    "duration": 67,
    "start_time": "2021-08-01T12:22:06.974Z"
   },
   {
    "duration": 36,
    "start_time": "2021-08-01T12:22:07.946Z"
   },
   {
    "duration": 83,
    "start_time": "2021-08-01T12:22:11.027Z"
   },
   {
    "duration": 9,
    "start_time": "2021-08-01T12:22:19.103Z"
   },
   {
    "duration": 317,
    "start_time": "2021-08-01T12:22:52.017Z"
   },
   {
    "duration": 8,
    "start_time": "2021-08-01T12:23:30.177Z"
   },
   {
    "duration": 4,
    "start_time": "2021-08-01T12:29:42.534Z"
   },
   {
    "duration": 4781,
    "start_time": "2021-08-01T12:33:00.128Z"
   },
   {
    "duration": 323,
    "start_time": "2021-08-01T13:47:51.891Z"
   },
   {
    "duration": 125,
    "start_time": "2021-08-01T14:14:44.891Z"
   },
   {
    "duration": 67,
    "start_time": "2021-08-01T14:14:45.859Z"
   },
   {
    "duration": 27,
    "start_time": "2021-08-01T14:14:46.623Z"
   },
   {
    "duration": 82,
    "start_time": "2021-08-01T14:14:47.387Z"
   },
   {
    "duration": 8,
    "start_time": "2021-08-01T14:14:48.523Z"
   },
   {
    "duration": 7,
    "start_time": "2021-08-01T14:15:24.711Z"
   },
   {
    "duration": 7,
    "start_time": "2021-08-01T14:15:29.747Z"
   },
   {
    "duration": 304,
    "start_time": "2021-08-01T14:34:18.981Z"
   },
   {
    "duration": 109,
    "start_time": "2021-08-01T14:34:27.026Z"
   },
   {
    "duration": 69,
    "start_time": "2021-08-01T14:34:29.246Z"
   },
   {
    "duration": 27,
    "start_time": "2021-08-01T14:34:30.898Z"
   },
   {
    "duration": 82,
    "start_time": "2021-08-01T14:34:32.747Z"
   },
   {
    "duration": 276,
    "start_time": "2021-08-01T14:34:34.690Z"
   },
   {
    "duration": 104,
    "start_time": "2021-08-01T14:35:55.051Z"
   },
   {
    "duration": 65,
    "start_time": "2021-08-01T14:35:57.011Z"
   },
   {
    "duration": 26,
    "start_time": "2021-08-01T14:35:58.119Z"
   },
   {
    "duration": 82,
    "start_time": "2021-08-01T14:35:59.107Z"
   },
   {
    "duration": 5355,
    "start_time": "2021-08-01T14:36:00.723Z"
   },
   {
    "duration": 5274,
    "start_time": "2021-08-01T14:37:50.215Z"
   },
   {
    "duration": 5303,
    "start_time": "2021-08-01T14:38:09.475Z"
   },
   {
    "duration": 15492,
    "start_time": "2021-08-01T15:14:57.393Z"
   },
   {
    "duration": 106,
    "start_time": "2021-08-01T15:19:28.869Z"
   },
   {
    "duration": 67,
    "start_time": "2021-08-01T15:19:29.801Z"
   },
   {
    "duration": 25,
    "start_time": "2021-08-01T15:19:30.533Z"
   },
   {
    "duration": 81,
    "start_time": "2021-08-01T15:19:31.297Z"
   },
   {
    "duration": 12278,
    "start_time": "2021-08-01T15:19:33.008Z"
   },
   {
    "duration": 104,
    "start_time": "2021-08-01T15:22:54.190Z"
   },
   {
    "duration": 66,
    "start_time": "2021-08-01T15:22:54.750Z"
   },
   {
    "duration": 29,
    "start_time": "2021-08-01T15:22:55.382Z"
   },
   {
    "duration": 86,
    "start_time": "2021-08-01T15:22:56.037Z"
   },
   {
    "duration": 5435,
    "start_time": "2021-08-01T15:22:56.818Z"
   },
   {
    "duration": 5364,
    "start_time": "2021-08-01T15:24:25.206Z"
   },
   {
    "duration": 1007,
    "start_time": "2021-08-01T15:25:42.802Z"
   },
   {
    "duration": 114,
    "start_time": "2021-08-01T15:25:59.978Z"
   },
   {
    "duration": 75,
    "start_time": "2021-08-01T15:26:00.968Z"
   },
   {
    "duration": 27,
    "start_time": "2021-08-01T15:26:01.662Z"
   },
   {
    "duration": 85,
    "start_time": "2021-08-01T15:26:02.462Z"
   },
   {
    "duration": 6897,
    "start_time": "2021-08-01T15:26:04.810Z"
   },
   {
    "duration": 101,
    "start_time": "2021-08-01T15:26:39.462Z"
   },
   {
    "duration": 75,
    "start_time": "2021-08-01T15:26:40.306Z"
   },
   {
    "duration": 26,
    "start_time": "2021-08-01T15:26:40.966Z"
   },
   {
    "duration": 136,
    "start_time": "2021-08-01T15:26:41.658Z"
   },
   {
    "duration": 5706,
    "start_time": "2021-08-01T15:26:42.418Z"
   },
   {
    "duration": 61,
    "start_time": "2021-08-01T15:35:12.994Z"
   },
   {
    "duration": 104,
    "start_time": "2021-08-01T15:35:19.364Z"
   },
   {
    "duration": 66,
    "start_time": "2021-08-01T15:35:20.220Z"
   },
   {
    "duration": 26,
    "start_time": "2021-08-01T15:35:20.924Z"
   },
   {
    "duration": 84,
    "start_time": "2021-08-01T15:35:21.748Z"
   },
   {
    "duration": 9554,
    "start_time": "2021-08-01T15:35:22.880Z"
   },
   {
    "duration": 13047,
    "start_time": "2021-08-01T15:37:54.955Z"
   },
   {
    "duration": 103,
    "start_time": "2021-08-01T15:38:29.828Z"
   },
   {
    "duration": 71,
    "start_time": "2021-08-01T15:38:30.665Z"
   },
   {
    "duration": 27,
    "start_time": "2021-08-01T15:38:31.340Z"
   },
   {
    "duration": 83,
    "start_time": "2021-08-01T15:38:32.053Z"
   },
   {
    "duration": 7208,
    "start_time": "2021-08-01T15:38:32.805Z"
   },
   {
    "duration": 105,
    "start_time": "2021-08-01T15:41:06.281Z"
   },
   {
    "duration": 98,
    "start_time": "2021-08-01T15:41:15.825Z"
   },
   {
    "duration": 101,
    "start_time": "2021-08-01T15:42:00.917Z"
   },
   {
    "duration": 68,
    "start_time": "2021-08-01T15:42:01.941Z"
   },
   {
    "duration": 37,
    "start_time": "2021-08-01T15:42:02.822Z"
   },
   {
    "duration": 86,
    "start_time": "2021-08-01T15:42:03.781Z"
   },
   {
    "duration": 92,
    "start_time": "2021-08-01T15:42:05.341Z"
   },
   {
    "duration": 4635,
    "start_time": "2021-08-01T15:45:06.371Z"
   },
   {
    "duration": 117,
    "start_time": "2021-08-01T15:47:26.286Z"
   },
   {
    "duration": 66,
    "start_time": "2021-08-01T15:47:27.646Z"
   },
   {
    "duration": 26,
    "start_time": "2021-08-01T15:47:28.462Z"
   },
   {
    "duration": 85,
    "start_time": "2021-08-01T15:47:29.286Z"
   },
   {
    "duration": 4363,
    "start_time": "2021-08-01T15:47:30.113Z"
   },
   {
    "duration": 4353,
    "start_time": "2021-08-01T15:47:47.574Z"
   },
   {
    "duration": 4562,
    "start_time": "2021-08-01T15:48:35.734Z"
   },
   {
    "duration": 4360,
    "start_time": "2021-08-01T15:49:17.644Z"
   },
   {
    "duration": 100,
    "start_time": "2021-08-01T15:49:36.562Z"
   },
   {
    "duration": 68,
    "start_time": "2021-08-01T15:49:37.690Z"
   },
   {
    "duration": 26,
    "start_time": "2021-08-01T15:49:38.401Z"
   },
   {
    "duration": 81,
    "start_time": "2021-08-01T15:49:39.174Z"
   },
   {
    "duration": 4450,
    "start_time": "2021-08-01T15:49:39.937Z"
   },
   {
    "duration": 4470,
    "start_time": "2021-08-01T15:49:54.866Z"
   },
   {
    "duration": 105,
    "start_time": "2021-08-01T15:50:59.578Z"
   },
   {
    "duration": 68,
    "start_time": "2021-08-01T15:51:00.451Z"
   },
   {
    "duration": 26,
    "start_time": "2021-08-01T15:51:01.085Z"
   },
   {
    "duration": 81,
    "start_time": "2021-08-01T15:51:01.966Z"
   },
   {
    "duration": 7529,
    "start_time": "2021-08-01T15:51:02.594Z"
   },
   {
    "duration": 4872,
    "start_time": "2021-08-01T15:58:50.207Z"
   },
   {
    "duration": 104,
    "start_time": "2021-08-01T15:59:16.715Z"
   },
   {
    "duration": 69,
    "start_time": "2021-08-01T15:59:17.575Z"
   },
   {
    "duration": 27,
    "start_time": "2021-08-01T15:59:18.235Z"
   },
   {
    "duration": 76,
    "start_time": "2021-08-01T15:59:19.155Z"
   },
   {
    "duration": 4383,
    "start_time": "2021-08-01T15:59:19.939Z"
   },
   {
    "duration": 110,
    "start_time": "2021-08-01T16:04:04.491Z"
   },
   {
    "duration": 69,
    "start_time": "2021-08-01T16:04:05.292Z"
   },
   {
    "duration": 29,
    "start_time": "2021-08-01T16:04:05.932Z"
   },
   {
    "duration": 79,
    "start_time": "2021-08-01T16:04:06.624Z"
   },
   {
    "duration": 304,
    "start_time": "2021-08-01T16:04:07.372Z"
   },
   {
    "duration": 5376,
    "start_time": "2021-08-01T16:04:43.156Z"
   },
   {
    "duration": 12171,
    "start_time": "2021-08-01T16:06:18.584Z"
   },
   {
    "duration": 5376,
    "start_time": "2021-08-01T16:07:02.817Z"
   },
   {
    "duration": 18,
    "start_time": "2021-08-01T16:55:49.772Z"
   },
   {
    "duration": 15,
    "start_time": "2021-08-01T16:56:59.648Z"
   },
   {
    "duration": 18,
    "start_time": "2021-08-01T16:57:15.676Z"
   },
   {
    "duration": 19,
    "start_time": "2021-08-01T16:58:09.120Z"
   },
   {
    "duration": 23,
    "start_time": "2021-08-01T16:58:41.936Z"
   },
   {
    "duration": 126,
    "start_time": "2021-08-01T17:09:33.778Z"
   },
   {
    "duration": 66,
    "start_time": "2021-08-01T17:09:34.402Z"
   },
   {
    "duration": 27,
    "start_time": "2021-08-01T17:09:34.941Z"
   },
   {
    "duration": 83,
    "start_time": "2021-08-01T17:09:35.767Z"
   },
   {
    "duration": 5488,
    "start_time": "2021-08-01T17:09:37.574Z"
   },
   {
    "duration": 21,
    "start_time": "2021-08-01T17:09:43.065Z"
   },
   {
    "duration": 11,
    "start_time": "2021-08-01T17:10:07.761Z"
   },
   {
    "duration": 281,
    "start_time": "2021-08-01T17:13:12.167Z"
   },
   {
    "duration": 269,
    "start_time": "2021-08-01T17:14:21.238Z"
   },
   {
    "duration": 108,
    "start_time": "2021-08-01T17:14:42.878Z"
   },
   {
    "duration": 67,
    "start_time": "2021-08-01T17:14:43.802Z"
   },
   {
    "duration": 25,
    "start_time": "2021-08-01T17:14:44.670Z"
   },
   {
    "duration": 82,
    "start_time": "2021-08-01T17:14:45.344Z"
   },
   {
    "duration": 5452,
    "start_time": "2021-08-01T17:14:46.218Z"
   },
   {
    "duration": 292,
    "start_time": "2021-08-01T17:14:51.673Z"
   },
   {
    "duration": 22,
    "start_time": "2021-08-01T17:16:15.198Z"
   },
   {
    "duration": 21,
    "start_time": "2021-08-01T17:16:41.038Z"
   },
   {
    "duration": 20,
    "start_time": "2021-08-01T17:17:00.946Z"
   },
   {
    "duration": 19,
    "start_time": "2021-08-01T17:17:19.975Z"
   },
   {
    "duration": 144,
    "start_time": "2021-08-01T17:17:27.139Z"
   },
   {
    "duration": 70,
    "start_time": "2021-08-01T17:17:28.018Z"
   },
   {
    "duration": 25,
    "start_time": "2021-08-01T17:17:28.764Z"
   },
   {
    "duration": 79,
    "start_time": "2021-08-01T17:17:29.650Z"
   },
   {
    "duration": 5345,
    "start_time": "2021-08-01T17:17:30.823Z"
   },
   {
    "duration": 26,
    "start_time": "2021-08-01T17:17:36.172Z"
   },
   {
    "duration": 38,
    "start_time": "2021-08-01T17:49:05.939Z"
   },
   {
    "duration": 106,
    "start_time": "2021-08-01T18:05:09.614Z"
   },
   {
    "duration": 75,
    "start_time": "2021-08-01T18:05:10.734Z"
   },
   {
    "duration": 28,
    "start_time": "2021-08-01T18:05:11.481Z"
   },
   {
    "duration": 82,
    "start_time": "2021-08-01T18:05:12.306Z"
   },
   {
    "duration": 5403,
    "start_time": "2021-08-01T18:05:13.821Z"
   },
   {
    "duration": 47,
    "start_time": "2021-08-01T18:05:19.227Z"
   },
   {
    "duration": 5314,
    "start_time": "2021-08-01T18:05:36.322Z"
   },
   {
    "duration": 44,
    "start_time": "2021-08-01T18:05:41.639Z"
   },
   {
    "duration": 10,
    "start_time": "2021-08-01T18:27:23.090Z"
   },
   {
    "duration": 14,
    "start_time": "2021-08-01T18:27:25.397Z"
   },
   {
    "duration": 304,
    "start_time": "2021-08-01T18:27:32.868Z"
   },
   {
    "duration": 17,
    "start_time": "2021-08-01T18:28:19.713Z"
   },
   {
    "duration": 10,
    "start_time": "2021-08-01T18:28:21.782Z"
   },
   {
    "duration": 14,
    "start_time": "2021-08-01T18:28:22.598Z"
   },
   {
    "duration": 24,
    "start_time": "2021-08-01T18:28:23.466Z"
   },
   {
    "duration": 16,
    "start_time": "2021-08-01T18:28:39.634Z"
   },
   {
    "duration": 5387,
    "start_time": "2021-08-01T19:00:33.540Z"
   },
   {
    "duration": 5610,
    "start_time": "2021-08-01T19:01:34.139Z"
   },
   {
    "duration": 107,
    "start_time": "2021-08-01T19:04:42.432Z"
   },
   {
    "duration": 68,
    "start_time": "2021-08-01T19:04:43.376Z"
   },
   {
    "duration": 27,
    "start_time": "2021-08-01T19:04:44.107Z"
   },
   {
    "duration": 84,
    "start_time": "2021-08-01T19:04:44.856Z"
   },
   {
    "duration": 6303,
    "start_time": "2021-08-01T19:04:45.744Z"
   },
   {
    "duration": 16,
    "start_time": "2021-08-01T19:21:16.826Z"
   },
   {
    "duration": 10,
    "start_time": "2021-08-01T19:24:17.250Z"
   },
   {
    "duration": 9,
    "start_time": "2021-08-01T19:24:42.870Z"
   },
   {
    "duration": 9,
    "start_time": "2021-08-01T19:24:50.158Z"
   },
   {
    "duration": 10,
    "start_time": "2021-08-01T19:25:24.535Z"
   },
   {
    "duration": 12,
    "start_time": "2021-08-01T19:25:30.498Z"
   },
   {
    "duration": 34,
    "start_time": "2021-08-01T19:27:34.143Z"
   },
   {
    "duration": 24,
    "start_time": "2021-08-01T19:28:40.475Z"
   },
   {
    "duration": 19,
    "start_time": "2021-08-01T19:30:23.903Z"
   },
   {
    "duration": 41,
    "start_time": "2021-08-01T19:35:40.744Z"
   },
   {
    "duration": 22,
    "start_time": "2021-08-01T19:36:47.780Z"
   },
   {
    "duration": 24,
    "start_time": "2021-08-01T19:36:57.666Z"
   },
   {
    "duration": 23,
    "start_time": "2021-08-01T19:37:20.840Z"
   },
   {
    "duration": 23,
    "start_time": "2021-08-01T19:37:27.268Z"
   },
   {
    "duration": 28,
    "start_time": "2021-08-01T19:38:18.172Z"
   },
   {
    "duration": 33,
    "start_time": "2021-08-01T19:38:35.648Z"
   },
   {
    "duration": 31,
    "start_time": "2021-08-01T19:45:33.681Z"
   },
   {
    "duration": 32,
    "start_time": "2021-08-01T19:46:47.645Z"
   },
   {
    "duration": 42,
    "start_time": "2021-08-01T19:47:39.205Z"
   },
   {
    "duration": 301,
    "start_time": "2021-08-01T19:52:00.382Z"
   },
   {
    "duration": 305,
    "start_time": "2021-08-01T19:52:25.958Z"
   },
   {
    "duration": 110,
    "start_time": "2021-08-01T19:52:41.478Z"
   },
   {
    "duration": 69,
    "start_time": "2021-08-01T19:52:42.321Z"
   },
   {
    "duration": 28,
    "start_time": "2021-08-01T19:52:43.037Z"
   },
   {
    "duration": 79,
    "start_time": "2021-08-01T19:52:43.794Z"
   },
   {
    "duration": 5569,
    "start_time": "2021-08-01T19:52:44.545Z"
   },
   {
    "duration": 61,
    "start_time": "2021-08-01T19:52:50.118Z"
   },
   {
    "duration": 332,
    "start_time": "2021-08-01T19:52:50.182Z"
   },
   {
    "duration": 103,
    "start_time": "2021-08-01T19:55:35.698Z"
   },
   {
    "duration": 68,
    "start_time": "2021-08-01T19:55:36.610Z"
   },
   {
    "duration": 27,
    "start_time": "2021-08-01T19:55:37.394Z"
   },
   {
    "duration": 81,
    "start_time": "2021-08-01T19:55:38.190Z"
   },
   {
    "duration": 5492,
    "start_time": "2021-08-01T19:55:39.190Z"
   },
   {
    "duration": 47,
    "start_time": "2021-08-01T19:55:44.686Z"
   },
   {
    "duration": 25,
    "start_time": "2021-08-01T19:55:44.757Z"
   },
   {
    "duration": 15,
    "start_time": "2021-08-01T19:55:47.302Z"
   },
   {
    "duration": 23,
    "start_time": "2021-08-01T19:55:48.998Z"
   },
   {
    "duration": 15,
    "start_time": "2021-08-01T19:55:55.198Z"
   },
   {
    "duration": 41,
    "start_time": "2021-08-01T20:00:58.771Z"
   },
   {
    "duration": 41,
    "start_time": "2021-08-01T20:03:48.832Z"
   },
   {
    "duration": 38,
    "start_time": "2021-08-01T20:05:06.797Z"
   },
   {
    "duration": 48,
    "start_time": "2021-08-01T20:05:36.557Z"
   },
   {
    "duration": 51,
    "start_time": "2021-08-01T20:05:57.080Z"
   },
   {
    "duration": 49,
    "start_time": "2021-08-01T20:06:12.620Z"
   },
   {
    "duration": 33,
    "start_time": "2021-08-01T20:06:20.596Z"
   },
   {
    "duration": 50,
    "start_time": "2021-08-01T20:42:19.957Z"
   },
   {
    "duration": 47,
    "start_time": "2021-08-01T20:42:54.169Z"
   },
   {
    "duration": 51,
    "start_time": "2021-08-01T20:44:09.486Z"
   },
   {
    "duration": 51,
    "start_time": "2021-08-01T20:44:28.498Z"
   },
   {
    "duration": 54,
    "start_time": "2021-08-01T20:49:20.375Z"
   },
   {
    "duration": 54,
    "start_time": "2021-08-01T20:56:24.175Z"
   },
   {
    "duration": 334,
    "start_time": "2021-08-01T20:59:53.392Z"
   },
   {
    "duration": 107,
    "start_time": "2021-08-01T21:00:13.464Z"
   },
   {
    "duration": 348,
    "start_time": "2021-08-01T21:00:38.364Z"
   },
   {
    "duration": 120,
    "start_time": "2021-08-01T21:00:43.896Z"
   },
   {
    "duration": 107,
    "start_time": "2021-08-01T21:05:43.229Z"
   },
   {
    "duration": 37,
    "start_time": "2021-08-01T21:05:49.423Z"
   },
   {
    "duration": 27,
    "start_time": "2021-08-01T21:05:51.889Z"
   },
   {
    "duration": 79,
    "start_time": "2021-08-01T21:05:52.781Z"
   },
   {
    "duration": 5477,
    "start_time": "2021-08-01T21:05:55.273Z"
   },
   {
    "duration": 68,
    "start_time": "2021-08-01T21:06:00.756Z"
   },
   {
    "duration": 51,
    "start_time": "2021-08-01T21:08:16.079Z"
   },
   {
    "duration": 13,
    "start_time": "2021-08-01T21:12:41.326Z"
   },
   {
    "duration": 15,
    "start_time": "2021-08-01T21:14:17.254Z"
   },
   {
    "duration": 328,
    "start_time": "2021-08-01T21:15:02.187Z"
   },
   {
    "duration": 51,
    "start_time": "2021-08-01T21:15:33.935Z"
   },
   {
    "duration": 110,
    "start_time": "2021-08-01T21:17:10.381Z"
   },
   {
    "duration": 340,
    "start_time": "2021-08-01T21:17:52.723Z"
   },
   {
    "duration": 106,
    "start_time": "2021-08-01T21:18:14.746Z"
   },
   {
    "duration": 117,
    "start_time": "2021-08-01T21:20:15.423Z"
   },
   {
    "duration": 121,
    "start_time": "2021-08-01T21:23:24.424Z"
   },
   {
    "duration": 42,
    "start_time": "2021-08-01T21:23:25.396Z"
   },
   {
    "duration": 102,
    "start_time": "2021-08-01T21:39:36.356Z"
   },
   {
    "duration": 40,
    "start_time": "2021-08-01T21:39:39.773Z"
   },
   {
    "duration": 26,
    "start_time": "2021-08-01T21:39:48.066Z"
   },
   {
    "duration": 79,
    "start_time": "2021-08-01T21:39:52.703Z"
   },
   {
    "duration": 5249,
    "start_time": "2021-08-01T21:39:55.861Z"
   },
   {
    "duration": 86,
    "start_time": "2021-08-01T21:40:01.115Z"
   },
   {
    "duration": 55,
    "start_time": "2021-08-01T21:40:39.381Z"
   },
   {
    "duration": 14,
    "start_time": "2021-08-01T21:41:10.786Z"
   },
   {
    "duration": 14,
    "start_time": "2021-08-01T21:41:42.773Z"
   },
   {
    "duration": 22,
    "start_time": "2021-08-01T21:41:47.580Z"
   },
   {
    "duration": 22,
    "start_time": "2021-08-01T21:42:27.305Z"
   },
   {
    "duration": 27,
    "start_time": "2021-08-01T21:43:45.386Z"
   },
   {
    "duration": 284,
    "start_time": "2021-08-01T21:44:19.588Z"
   },
   {
    "duration": 16,
    "start_time": "2021-08-01T21:44:53.254Z"
   },
   {
    "duration": 17,
    "start_time": "2021-08-01T21:45:06.314Z"
   },
   {
    "duration": 17,
    "start_time": "2021-08-01T21:45:13.143Z"
   },
   {
    "duration": 15,
    "start_time": "2021-08-01T21:45:41.183Z"
   },
   {
    "duration": 14,
    "start_time": "2021-08-01T21:48:01.406Z"
   },
   {
    "duration": 471,
    "start_time": "2021-08-01T21:56:59.333Z"
   },
   {
    "duration": 529,
    "start_time": "2021-08-01T21:57:34.437Z"
   },
   {
    "duration": 17,
    "start_time": "2021-08-01T21:57:47.356Z"
   },
   {
    "duration": 51,
    "start_time": "2021-08-01T22:03:00.918Z"
   },
   {
    "duration": 14,
    "start_time": "2021-08-01T22:03:07.341Z"
   },
   {
    "duration": 14,
    "start_time": "2021-08-01T22:03:10.914Z"
   },
   {
    "duration": 300,
    "start_time": "2021-08-01T22:03:31.253Z"
   },
   {
    "duration": 301,
    "start_time": "2021-08-01T22:04:08.326Z"
   },
   {
    "duration": 24,
    "start_time": "2021-08-01T22:04:55.635Z"
   },
   {
    "duration": 368,
    "start_time": "2021-08-01T22:13:18.836Z"
   },
   {
    "duration": 1261,
    "start_time": "2021-08-01T22:14:15.938Z"
   },
   {
    "duration": 17,
    "start_time": "2021-08-01T22:14:27.535Z"
   },
   {
    "duration": 15,
    "start_time": "2021-08-01T22:14:29.890Z"
   },
   {
    "duration": 1337,
    "start_time": "2021-08-01T22:14:33.623Z"
   },
   {
    "duration": 104,
    "start_time": "2021-08-01T22:15:27.400Z"
   },
   {
    "duration": 1389,
    "start_time": "2021-08-01T22:19:54.215Z"
   },
   {
    "duration": 107,
    "start_time": "2021-08-01T22:20:06.312Z"
   },
   {
    "duration": 47,
    "start_time": "2021-08-01T22:20:07.140Z"
   },
   {
    "duration": 25,
    "start_time": "2021-08-01T22:20:07.800Z"
   },
   {
    "duration": 81,
    "start_time": "2021-08-01T22:20:08.535Z"
   },
   {
    "duration": 5475,
    "start_time": "2021-08-01T22:20:09.459Z"
   },
   {
    "duration": 71,
    "start_time": "2021-08-01T22:20:14.938Z"
   },
   {
    "duration": 15,
    "start_time": "2021-08-01T22:20:16.072Z"
   },
   {
    "duration": 15,
    "start_time": "2021-08-01T22:20:19.788Z"
   },
   {
    "duration": 17,
    "start_time": "2021-08-01T22:20:22.794Z"
   },
   {
    "duration": 295,
    "start_time": "2021-08-01T22:21:17.440Z"
   },
   {
    "duration": 1118,
    "start_time": "2021-08-01T22:22:39.970Z"
   },
   {
    "duration": 302,
    "start_time": "2021-08-01T22:22:50.100Z"
   },
   {
    "duration": 108,
    "start_time": "2021-08-01T22:23:01.817Z"
   },
   {
    "duration": 42,
    "start_time": "2021-08-01T22:23:02.680Z"
   },
   {
    "duration": 27,
    "start_time": "2021-08-01T22:23:03.353Z"
   },
   {
    "duration": 83,
    "start_time": "2021-08-01T22:23:04.082Z"
   },
   {
    "duration": 5363,
    "start_time": "2021-08-01T22:23:04.813Z"
   },
   {
    "duration": 78,
    "start_time": "2021-08-01T22:23:10.179Z"
   },
   {
    "duration": 15,
    "start_time": "2021-08-01T22:23:10.260Z"
   },
   {
    "duration": 14,
    "start_time": "2021-08-01T22:23:10.278Z"
   },
   {
    "duration": 20,
    "start_time": "2021-08-01T22:23:10.294Z"
   },
   {
    "duration": 62,
    "start_time": "2021-08-01T22:23:10.317Z"
   },
   {
    "duration": 286,
    "start_time": "2021-08-01T22:24:16.740Z"
   },
   {
    "duration": 104,
    "start_time": "2021-08-01T22:24:44.864Z"
   },
   {
    "duration": 36,
    "start_time": "2021-08-01T22:24:49.722Z"
   },
   {
    "duration": 26,
    "start_time": "2021-08-01T22:24:54.906Z"
   },
   {
    "duration": 81,
    "start_time": "2021-08-01T22:24:58.425Z"
   },
   {
    "duration": 5415,
    "start_time": "2021-08-01T22:25:01.437Z"
   },
   {
    "duration": 63,
    "start_time": "2021-08-01T22:25:13.626Z"
   },
   {
    "duration": 15,
    "start_time": "2021-08-01T22:25:21.689Z"
   },
   {
    "duration": 14,
    "start_time": "2021-08-01T22:25:28.187Z"
   },
   {
    "duration": 23,
    "start_time": "2021-08-01T22:25:31.117Z"
   },
   {
    "duration": 328,
    "start_time": "2021-08-01T22:26:22.505Z"
   },
   {
    "duration": 103,
    "start_time": "2021-08-01T22:26:45.919Z"
   },
   {
    "duration": 37,
    "start_time": "2021-08-01T22:26:52.952Z"
   },
   {
    "duration": 25,
    "start_time": "2021-08-01T22:26:54.805Z"
   },
   {
    "duration": 129,
    "start_time": "2021-08-01T22:26:55.777Z"
   },
   {
    "duration": 5284,
    "start_time": "2021-08-01T22:26:56.673Z"
   },
   {
    "duration": 64,
    "start_time": "2021-08-01T22:27:01.961Z"
   },
   {
    "duration": 35,
    "start_time": "2021-08-01T22:27:02.028Z"
   },
   {
    "duration": 14,
    "start_time": "2021-08-01T22:27:02.065Z"
   },
   {
    "duration": 1330,
    "start_time": "2021-08-01T22:27:02.081Z"
   },
   {
    "duration": -344505,
    "start_time": "2021-08-01T22:32:47.918Z"
   },
   {
    "duration": 25,
    "start_time": "2021-08-01T22:28:46.337Z"
   },
   {
    "duration": 297,
    "start_time": "2021-08-01T22:30:31.666Z"
   },
   {
    "duration": 3047,
    "start_time": "2021-08-01T22:30:59.390Z"
   },
   {
    "duration": 102,
    "start_time": "2021-08-01T22:31:32.742Z"
   },
   {
    "duration": 37,
    "start_time": "2021-08-01T22:31:36.962Z"
   },
   {
    "duration": 25,
    "start_time": "2021-08-01T22:31:39.730Z"
   },
   {
    "duration": 78,
    "start_time": "2021-08-01T22:31:42.546Z"
   },
   {
    "duration": 5295,
    "start_time": "2021-08-01T22:31:44.822Z"
   },
   {
    "duration": 80,
    "start_time": "2021-08-01T22:31:50.120Z"
   },
   {
    "duration": 13,
    "start_time": "2021-08-01T22:31:50.203Z"
   },
   {
    "duration": 14,
    "start_time": "2021-08-01T22:31:51.544Z"
   },
   {
    "duration": 365,
    "start_time": "2021-08-01T22:31:53.652Z"
   },
   {
    "duration": 323,
    "start_time": "2021-08-01T22:32:32.291Z"
   },
   {
    "duration": 104,
    "start_time": "2021-08-01T22:32:49.790Z"
   },
   {
    "duration": 38,
    "start_time": "2021-08-01T22:32:53.278Z"
   },
   {
    "duration": 26,
    "start_time": "2021-08-01T22:32:55.266Z"
   },
   {
    "duration": 113,
    "start_time": "2021-08-01T22:32:57.046Z"
   },
   {
    "duration": 5329,
    "start_time": "2021-08-01T22:32:58.870Z"
   },
   {
    "duration": 79,
    "start_time": "2021-08-01T22:33:04.203Z"
   },
   {
    "duration": 14,
    "start_time": "2021-08-01T22:33:04.285Z"
   },
   {
    "duration": 14,
    "start_time": "2021-08-01T22:33:04.858Z"
   },
   {
    "duration": 334,
    "start_time": "2021-08-01T22:33:06.646Z"
   },
   {
    "duration": 454,
    "start_time": "2021-08-01T22:33:34.166Z"
   },
   {
    "duration": 1547,
    "start_time": "2021-08-01T22:34:10.390Z"
   },
   {
    "duration": 104,
    "start_time": "2021-08-01T22:34:25.069Z"
   },
   {
    "duration": 40,
    "start_time": "2021-08-01T22:34:29.294Z"
   },
   {
    "duration": 27,
    "start_time": "2021-08-01T22:34:30.874Z"
   },
   {
    "duration": 78,
    "start_time": "2021-08-01T22:34:31.914Z"
   },
   {
    "duration": 5321,
    "start_time": "2021-08-01T22:34:33.278Z"
   },
   {
    "duration": 94,
    "start_time": "2021-08-01T22:34:38.602Z"
   },
   {
    "duration": 15,
    "start_time": "2021-08-01T22:34:38.699Z"
   },
   {
    "duration": 19,
    "start_time": "2021-08-01T22:34:38.716Z"
   },
   {
    "duration": 317,
    "start_time": "2021-08-01T22:34:40.155Z"
   },
   {
    "duration": 1447,
    "start_time": "2021-08-01T22:36:37.293Z"
   },
   {
    "duration": 387,
    "start_time": "2021-08-01T22:37:40.647Z"
   },
   {
    "duration": 1557,
    "start_time": "2021-08-01T22:38:01.495Z"
   },
   {
    "duration": 324,
    "start_time": "2021-08-01T22:39:35.447Z"
   },
   {
    "duration": 14,
    "start_time": "2021-08-01T22:40:04.719Z"
   },
   {
    "duration": 14,
    "start_time": "2021-08-01T22:40:26.399Z"
   },
   {
    "duration": 103,
    "start_time": "2021-08-01T22:40:55.845Z"
   },
   {
    "duration": 38,
    "start_time": "2021-08-01T22:40:57.381Z"
   },
   {
    "duration": 27,
    "start_time": "2021-08-01T22:40:58.126Z"
   },
   {
    "duration": 81,
    "start_time": "2021-08-01T22:40:59.000Z"
   },
   {
    "duration": 6009,
    "start_time": "2021-08-01T22:41:00.022Z"
   },
   {
    "duration": 78,
    "start_time": "2021-08-01T22:41:06.035Z"
   },
   {
    "duration": 39,
    "start_time": "2021-08-01T22:41:06.116Z"
   },
   {
    "duration": 15,
    "start_time": "2021-08-01T22:41:08.981Z"
   },
   {
    "duration": 23,
    "start_time": "2021-08-01T22:41:15.353Z"
   },
   {
    "duration": 23,
    "start_time": "2021-08-01T22:41:32.197Z"
   },
   {
    "duration": 22,
    "start_time": "2021-08-01T22:43:11.951Z"
   },
   {
    "duration": 13,
    "start_time": "2021-08-01T22:43:15.215Z"
   },
   {
    "duration": 14,
    "start_time": "2021-08-01T22:44:13.326Z"
   },
   {
    "duration": 352,
    "start_time": "2021-08-01T22:47:44.117Z"
   },
   {
    "duration": 24,
    "start_time": "2021-08-01T22:47:59.314Z"
   },
   {
    "duration": 24,
    "start_time": "2021-08-01T22:48:20.318Z"
   },
   {
    "duration": 301,
    "start_time": "2021-08-01T22:48:49.513Z"
   },
   {
    "duration": 22,
    "start_time": "2021-08-01T22:48:58.671Z"
   },
   {
    "duration": 319,
    "start_time": "2021-08-01T22:49:10.437Z"
   },
   {
    "duration": 23,
    "start_time": "2021-08-01T22:49:24.502Z"
   },
   {
    "duration": 291,
    "start_time": "2021-08-01T22:49:41.634Z"
   },
   {
    "duration": 23,
    "start_time": "2021-08-01T22:49:51.929Z"
   },
   {
    "duration": 15,
    "start_time": "2021-08-01T22:50:29.061Z"
   },
   {
    "duration": 18,
    "start_time": "2021-08-01T22:50:50.440Z"
   },
   {
    "duration": 18,
    "start_time": "2021-08-01T22:51:41.333Z"
   },
   {
    "duration": 22,
    "start_time": "2021-08-01T22:52:22.403Z"
   },
   {
    "duration": 24,
    "start_time": "2021-08-01T22:53:34.224Z"
   },
   {
    "duration": 52,
    "start_time": "2021-08-01T22:56:40.570Z"
   },
   {
    "duration": 51,
    "start_time": "2021-08-01T22:58:10.725Z"
   },
   {
    "duration": 55,
    "start_time": "2021-08-01T22:58:47.074Z"
   },
   {
    "duration": 34,
    "start_time": "2021-08-01T22:58:51.362Z"
   },
   {
    "duration": 114,
    "start_time": "2021-08-01T22:58:56.254Z"
   },
   {
    "duration": 5333,
    "start_time": "2021-08-01T22:59:00.681Z"
   },
   {
    "duration": 53,
    "start_time": "2021-08-01T22:59:11.109Z"
   },
   {
    "duration": 15,
    "start_time": "2021-08-01T22:59:17.552Z"
   },
   {
    "duration": 14,
    "start_time": "2021-08-01T22:59:20.264Z"
   },
   {
    "duration": 24,
    "start_time": "2021-08-01T22:59:26.184Z"
   },
   {
    "duration": 15,
    "start_time": "2021-08-01T22:59:33.474Z"
   },
   {
    "duration": 105,
    "start_time": "2021-08-01T23:06:49.049Z"
   },
   {
    "duration": 40,
    "start_time": "2021-08-01T23:06:51.789Z"
   },
   {
    "duration": 26,
    "start_time": "2021-08-01T23:06:53.015Z"
   },
   {
    "duration": 80,
    "start_time": "2021-08-01T23:06:53.811Z"
   },
   {
    "duration": 5245,
    "start_time": "2021-08-01T23:06:55.101Z"
   },
   {
    "duration": 68,
    "start_time": "2021-08-01T23:07:00.358Z"
   },
   {
    "duration": 30,
    "start_time": "2021-08-01T23:07:00.429Z"
   },
   {
    "duration": 19,
    "start_time": "2021-08-01T23:07:00.461Z"
   },
   {
    "duration": 18,
    "start_time": "2021-08-01T23:07:03.895Z"
   },
   {
    "duration": 23,
    "start_time": "2021-08-01T23:07:40.652Z"
   },
   {
    "duration": 22,
    "start_time": "2021-08-01T23:08:45.536Z"
   },
   {
    "duration": 23,
    "start_time": "2021-08-01T23:09:59.182Z"
   },
   {
    "duration": 6971,
    "start_time": "2021-08-01T23:10:14.309Z"
   },
   {
    "duration": 101,
    "start_time": "2021-08-01T23:10:42.742Z"
   },
   {
    "duration": 40,
    "start_time": "2021-08-01T23:10:44.037Z"
   },
   {
    "duration": 28,
    "start_time": "2021-08-01T23:10:44.752Z"
   },
   {
    "duration": 81,
    "start_time": "2021-08-01T23:10:45.480Z"
   },
   {
    "duration": 5352,
    "start_time": "2021-08-01T23:10:46.250Z"
   },
   {
    "duration": 81,
    "start_time": "2021-08-01T23:10:51.606Z"
   },
   {
    "duration": 15,
    "start_time": "2021-08-01T23:10:51.690Z"
   },
   {
    "duration": 13,
    "start_time": "2021-08-01T23:10:51.707Z"
   },
   {
    "duration": 7174,
    "start_time": "2021-08-01T23:10:51.723Z"
   },
   {
    "duration": -344492,
    "start_time": "2021-08-01T23:16:43.391Z"
   },
   {
    "duration": 23,
    "start_time": "2021-08-01T23:11:25.662Z"
   },
   {
    "duration": 54,
    "start_time": "2021-08-01T23:11:58.289Z"
   },
   {
    "duration": 33,
    "start_time": "2021-08-01T23:13:28.542Z"
   },
   {
    "duration": 32,
    "start_time": "2021-08-01T23:13:43.455Z"
   },
   {
    "duration": 14,
    "start_time": "2021-08-01T23:15:52.781Z"
   },
   {
    "duration": 31,
    "start_time": "2021-08-01T23:27:19.455Z"
   },
   {
    "duration": 34,
    "start_time": "2021-08-01T23:27:29.354Z"
   },
   {
    "duration": 31,
    "start_time": "2021-08-01T23:29:48.931Z"
   },
   {
    "duration": 103,
    "start_time": "2021-08-01T23:36:26.605Z"
   },
   {
    "duration": 38,
    "start_time": "2021-08-01T23:36:29.037Z"
   },
   {
    "duration": 26,
    "start_time": "2021-08-01T23:36:30.430Z"
   },
   {
    "duration": 86,
    "start_time": "2021-08-01T23:36:32.316Z"
   },
   {
    "duration": 5308,
    "start_time": "2021-08-01T23:36:33.793Z"
   },
   {
    "duration": 74,
    "start_time": "2021-08-01T23:36:39.104Z"
   },
   {
    "duration": 14,
    "start_time": "2021-08-01T23:36:39.181Z"
   },
   {
    "duration": 14,
    "start_time": "2021-08-01T23:36:40.989Z"
   },
   {
    "duration": 41,
    "start_time": "2021-08-01T23:36:43.021Z"
   },
   {
    "duration": 16,
    "start_time": "2021-08-01T23:36:44.741Z"
   },
   {
    "duration": 108,
    "start_time": "2021-08-01T23:39:02.636Z"
   },
   {
    "duration": 43,
    "start_time": "2021-08-01T23:39:04.801Z"
   },
   {
    "duration": 25,
    "start_time": "2021-08-01T23:39:06.717Z"
   },
   {
    "duration": 77,
    "start_time": "2021-08-01T23:39:08.549Z"
   },
   {
    "duration": 5208,
    "start_time": "2021-08-01T23:39:10.225Z"
   },
   {
    "duration": 78,
    "start_time": "2021-08-01T23:39:15.436Z"
   },
   {
    "duration": 16,
    "start_time": "2021-08-01T23:39:17.115Z"
   },
   {
    "duration": 14,
    "start_time": "2021-08-01T23:39:19.042Z"
   },
   {
    "duration": 42,
    "start_time": "2021-08-01T23:39:20.997Z"
   },
   {
    "duration": 14,
    "start_time": "2021-08-01T23:39:22.431Z"
   },
   {
    "duration": 588,
    "start_time": "2021-08-02T20:22:05.835Z"
   },
   {
    "duration": 28,
    "start_time": "2021-08-02T20:22:06.425Z"
   },
   {
    "duration": 15,
    "start_time": "2021-08-02T20:22:06.455Z"
   },
   {
    "duration": 61,
    "start_time": "2021-08-02T20:22:06.472Z"
   },
   {
    "duration": 3913,
    "start_time": "2021-08-02T20:22:06.534Z"
   },
   {
    "duration": 48,
    "start_time": "2021-08-02T20:22:10.449Z"
   },
   {
    "duration": 13,
    "start_time": "2021-08-02T20:22:10.498Z"
   },
   {
    "duration": 8,
    "start_time": "2021-08-02T20:22:10.513Z"
   },
   {
    "duration": 24,
    "start_time": "2021-08-02T20:22:10.523Z"
   },
   {
    "duration": 9,
    "start_time": "2021-08-02T20:22:10.548Z"
   },
   {
    "duration": 692,
    "start_time": "2021-08-03T09:50:43.301Z"
   },
   {
    "duration": 62,
    "start_time": "2021-08-03T09:51:22.728Z"
   },
   {
    "duration": 79,
    "start_time": "2021-08-03T10:02:51.310Z"
   },
   {
    "duration": 40,
    "start_time": "2021-08-03T10:28:49.968Z"
   },
   {
    "duration": 15,
    "start_time": "2021-08-03T10:29:09.416Z"
   },
   {
    "duration": 34,
    "start_time": "2021-08-03T10:30:27.294Z"
   },
   {
    "duration": 34,
    "start_time": "2021-08-03T10:30:53.104Z"
   },
   {
    "duration": 24,
    "start_time": "2021-08-03T11:07:58.555Z"
   },
   {
    "duration": 25,
    "start_time": "2021-08-03T11:11:20.945Z"
   },
   {
    "duration": 31,
    "start_time": "2021-08-03T11:11:29.945Z"
   },
   {
    "duration": 19,
    "start_time": "2021-08-03T11:20:47.136Z"
   },
   {
    "duration": 19,
    "start_time": "2021-08-03T11:29:09.576Z"
   },
   {
    "duration": 8,
    "start_time": "2021-08-03T11:31:23.488Z"
   },
   {
    "duration": 15,
    "start_time": "2021-08-03T11:32:57.145Z"
   },
   {
    "duration": 72,
    "start_time": "2021-08-03T11:35:03.197Z"
   },
   {
    "duration": 11,
    "start_time": "2021-08-03T11:38:35.788Z"
   },
   {
    "duration": 10,
    "start_time": "2021-08-03T11:38:49.358Z"
   },
   {
    "duration": 19,
    "start_time": "2021-08-03T11:39:35.293Z"
   },
   {
    "duration": 12,
    "start_time": "2021-08-03T11:39:48.746Z"
   },
   {
    "duration": 79,
    "start_time": "2021-08-03T11:40:08.434Z"
   },
   {
    "duration": 26,
    "start_time": "2021-08-03T11:40:09.650Z"
   },
   {
    "duration": 17,
    "start_time": "2021-08-03T11:40:11.178Z"
   },
   {
    "duration": 8,
    "start_time": "2021-08-03T11:40:38.077Z"
   },
   {
    "duration": 56,
    "start_time": "2021-08-03T11:43:01.370Z"
   },
   {
    "duration": 27,
    "start_time": "2021-08-03T11:43:13.886Z"
   },
   {
    "duration": 8,
    "start_time": "2021-08-03T11:48:04.803Z"
   },
   {
    "duration": 15,
    "start_time": "2021-08-03T11:48:21.827Z"
   },
   {
    "duration": 4470,
    "start_time": "2021-08-03T12:08:23.093Z"
   },
   {
    "duration": 719,
    "start_time": "2021-08-03T12:09:19.036Z"
   },
   {
    "duration": 81,
    "start_time": "2021-08-03T12:09:30.929Z"
   },
   {
    "duration": 28,
    "start_time": "2021-08-03T12:09:31.739Z"
   },
   {
    "duration": 17,
    "start_time": "2021-08-03T12:09:32.378Z"
   },
   {
    "duration": 27,
    "start_time": "2021-08-03T12:09:33.139Z"
   },
   {
    "duration": 6527,
    "start_time": "2021-08-03T12:09:35.315Z"
   },
   {
    "duration": 4710,
    "start_time": "2021-08-03T12:09:57.613Z"
   },
   {
    "duration": 47,
    "start_time": "2021-08-03T12:22:48.389Z"
   },
   {
    "duration": 61,
    "start_time": "2021-08-03T12:23:14.641Z"
   },
   {
    "duration": 48,
    "start_time": "2021-08-03T12:31:33.254Z"
   },
   {
    "duration": 49,
    "start_time": "2021-08-03T12:34:49.007Z"
   },
   {
    "duration": 42,
    "start_time": "2021-08-03T12:35:15.238Z"
   },
   {
    "duration": 60,
    "start_time": "2021-08-03T12:35:46.126Z"
   },
   {
    "duration": 47,
    "start_time": "2021-08-03T12:36:23.683Z"
   },
   {
    "duration": 8,
    "start_time": "2021-08-03T12:43:06.976Z"
   },
   {
    "duration": 11,
    "start_time": "2021-08-03T12:43:19.360Z"
   },
   {
    "duration": 15,
    "start_time": "2021-08-03T12:55:57.767Z"
   },
   {
    "duration": 12,
    "start_time": "2021-08-03T13:05:44.060Z"
   },
   {
    "duration": 29,
    "start_time": "2021-08-03T13:06:01.908Z"
   },
   {
    "duration": 269,
    "start_time": "2021-08-03T13:26:51.876Z"
   },
   {
    "duration": 39,
    "start_time": "2021-08-03T13:27:03.119Z"
   },
   {
    "duration": 92,
    "start_time": "2021-08-03T13:41:55.662Z"
   },
   {
    "duration": 102,
    "start_time": "2021-08-03T13:42:14.461Z"
   },
   {
    "duration": 95,
    "start_time": "2021-08-03T13:43:47.726Z"
   },
   {
    "duration": 33,
    "start_time": "2021-08-03T14:05:10.170Z"
   },
   {
    "duration": 297,
    "start_time": "2021-08-03T14:05:25.977Z"
   },
   {
    "duration": 38,
    "start_time": "2021-08-03T14:05:34.925Z"
   },
   {
    "duration": 44,
    "start_time": "2021-08-03T14:05:53.313Z"
   },
   {
    "duration": 33,
    "start_time": "2021-08-03T14:21:28.612Z"
   },
   {
    "duration": 32,
    "start_time": "2021-08-03T14:21:56.820Z"
   },
   {
    "duration": 739,
    "start_time": "2021-08-03T14:22:25.312Z"
   },
   {
    "duration": 662,
    "start_time": "2021-08-03T14:22:37.557Z"
   },
   {
    "duration": 31,
    "start_time": "2021-08-03T14:22:56.912Z"
   },
   {
    "duration": 94,
    "start_time": "2021-08-03T14:29:19.608Z"
   },
   {
    "duration": 89,
    "start_time": "2021-08-03T15:04:26.731Z"
   },
   {
    "duration": 17,
    "start_time": "2021-08-03T15:04:33.075Z"
   },
   {
    "duration": 94,
    "start_time": "2021-08-03T15:04:47.763Z"
   },
   {
    "duration": 17,
    "start_time": "2021-08-03T15:04:51.679Z"
   },
   {
    "duration": 17,
    "start_time": "2021-08-03T15:11:35.530Z"
   },
   {
    "duration": 18,
    "start_time": "2021-08-03T15:11:41.182Z"
   },
   {
    "duration": 14,
    "start_time": "2021-08-03T15:13:50.984Z"
   },
   {
    "duration": 26,
    "start_time": "2021-08-03T15:15:02.941Z"
   },
   {
    "duration": 17,
    "start_time": "2021-08-03T15:15:42.397Z"
   },
   {
    "duration": 20,
    "start_time": "2021-08-03T15:16:24.149Z"
   },
   {
    "duration": 19,
    "start_time": "2021-08-03T15:16:48.457Z"
   },
   {
    "duration": 18,
    "start_time": "2021-08-03T15:17:36.233Z"
   },
   {
    "duration": 18,
    "start_time": "2021-08-03T15:19:21.009Z"
   },
   {
    "duration": 16,
    "start_time": "2021-08-03T15:19:56.214Z"
   },
   {
    "duration": 93,
    "start_time": "2021-08-03T15:20:11.509Z"
   },
   {
    "duration": 17,
    "start_time": "2021-08-03T15:20:14.485Z"
   },
   {
    "duration": 16,
    "start_time": "2021-08-03T15:20:37.403Z"
   },
   {
    "duration": 90,
    "start_time": "2021-08-03T15:20:44.587Z"
   },
   {
    "duration": 15,
    "start_time": "2021-08-03T15:20:46.576Z"
   },
   {
    "duration": 99,
    "start_time": "2021-08-03T15:23:12.918Z"
   },
   {
    "duration": -346809,
    "start_time": "2021-08-03T15:29:14.763Z"
   },
   {
    "duration": 6276,
    "start_time": "2021-08-03T15:23:48.290Z"
   },
   {
    "duration": 17,
    "start_time": "2021-08-03T15:24:19.910Z"
   },
   {
    "duration": 17,
    "start_time": "2021-08-03T15:25:24.086Z"
   },
   {
    "duration": 16,
    "start_time": "2021-08-03T15:25:46.751Z"
   },
   {
    "duration": 89,
    "start_time": "2021-08-03T15:25:52.743Z"
   },
   {
    "duration": 14,
    "start_time": "2021-08-03T15:25:54.967Z"
   },
   {
    "duration": 89,
    "start_time": "2021-08-03T15:27:03.949Z"
   },
   {
    "duration": 16,
    "start_time": "2021-08-03T15:27:07.718Z"
   },
   {
    "duration": 18,
    "start_time": "2021-08-03T15:28:36.755Z"
   },
   {
    "duration": 14,
    "start_time": "2021-08-03T15:30:29.559Z"
   },
   {
    "duration": 19,
    "start_time": "2021-08-03T15:31:25.871Z"
   },
   {
    "duration": 18,
    "start_time": "2021-08-03T15:32:00.419Z"
   },
   {
    "duration": 17,
    "start_time": "2021-08-03T15:32:47.488Z"
   },
   {
    "duration": 17,
    "start_time": "2021-08-03T15:33:08.776Z"
   },
   {
    "duration": 89,
    "start_time": "2021-08-03T15:33:26.736Z"
   },
   {
    "duration": 17,
    "start_time": "2021-08-03T15:33:28.108Z"
   },
   {
    "duration": 18,
    "start_time": "2021-08-03T15:33:48.628Z"
   },
   {
    "duration": -346801,
    "start_time": "2021-08-03T15:41:45.307Z"
   },
   {
    "duration": 90,
    "start_time": "2021-08-03T15:36:02.540Z"
   },
   {
    "duration": 6414,
    "start_time": "2021-08-03T15:36:04.666Z"
   },
   {
    "duration": 19,
    "start_time": "2021-08-03T15:36:41.624Z"
   },
   {
    "duration": 95,
    "start_time": "2021-08-03T15:36:51.512Z"
   },
   {
    "duration": 16,
    "start_time": "2021-08-03T15:36:54.266Z"
   },
   {
    "duration": 6,
    "start_time": "2021-08-03T15:37:07.234Z"
   },
   {
    "duration": 7,
    "start_time": "2021-08-03T15:38:12.595Z"
   },
   {
    "duration": 72,
    "start_time": "2021-08-03T15:39:48.088Z"
   },
   {
    "duration": 84,
    "start_time": "2021-08-03T15:41:23.763Z"
   },
   {
    "duration": 18,
    "start_time": "2021-08-03T15:41:35.402Z"
   },
   {
    "duration": 14,
    "start_time": "2021-08-03T15:45:54.976Z"
   },
   {
    "duration": 19,
    "start_time": "2021-08-03T16:00:02.304Z"
   },
   {
    "duration": 63,
    "start_time": "2021-08-03T16:00:20.240Z"
   },
   {
    "duration": 87,
    "start_time": "2021-08-03T16:00:35.024Z"
   },
   {
    "duration": 58,
    "start_time": "2021-08-03T16:00:37.664Z"
   },
   {
    "duration": 103,
    "start_time": "2021-08-03T16:02:30.364Z"
   },
   {
    "duration": 62,
    "start_time": "2021-08-03T16:08:54.518Z"
   },
   {
    "duration": 69,
    "start_time": "2021-08-03T16:09:14.401Z"
   },
   {
    "duration": 81,
    "start_time": "2021-08-03T16:11:19.458Z"
   },
   {
    "duration": 74,
    "start_time": "2021-08-03T16:11:25.150Z"
   },
   {
    "duration": 65,
    "start_time": "2021-08-03T16:18:56.590Z"
   },
   {
    "duration": 65,
    "start_time": "2021-08-03T16:19:04.785Z"
   },
   {
    "duration": 67,
    "start_time": "2021-08-03T16:19:56.167Z"
   },
   {
    "duration": 76,
    "start_time": "2021-08-03T16:20:29.619Z"
   },
   {
    "duration": 11,
    "start_time": "2021-08-03T16:20:51.915Z"
   },
   {
    "duration": 85,
    "start_time": "2021-08-03T16:20:57.503Z"
   },
   {
    "duration": 10,
    "start_time": "2021-08-03T16:20:59.563Z"
   },
   {
    "duration": 62,
    "start_time": "2021-08-03T16:22:32.307Z"
   },
   {
    "duration": 84,
    "start_time": "2021-08-03T16:23:00.740Z"
   },
   {
    "duration": 63,
    "start_time": "2021-08-03T16:23:02.651Z"
   },
   {
    "duration": 74,
    "start_time": "2021-08-03T16:28:24.113Z"
   },
   {
    "duration": 73,
    "start_time": "2021-08-03T16:36:24.476Z"
   },
   {
    "duration": 123,
    "start_time": "2021-08-03T16:43:30.400Z"
   },
   {
    "duration": 107,
    "start_time": "2021-08-03T16:44:12.521Z"
   },
   {
    "duration": 103,
    "start_time": "2021-08-03T16:46:11.268Z"
   },
   {
    "duration": 17,
    "start_time": "2021-08-03T16:46:17.207Z"
   },
   {
    "duration": 90,
    "start_time": "2021-08-03T16:58:44.933Z"
   },
   {
    "duration": 98,
    "start_time": "2021-08-03T16:58:47.470Z"
   },
   {
    "duration": 100,
    "start_time": "2021-08-03T17:00:08.046Z"
   },
   {
    "duration": 108,
    "start_time": "2021-08-03T17:00:44.374Z"
   },
   {
    "duration": 106,
    "start_time": "2021-08-03T17:01:14.178Z"
   },
   {
    "duration": 109,
    "start_time": "2021-08-03T17:01:44.888Z"
   },
   {
    "duration": 113,
    "start_time": "2021-08-03T17:02:00.270Z"
   },
   {
    "duration": 18,
    "start_time": "2021-08-03T17:02:16.042Z"
   },
   {
    "duration": 104,
    "start_time": "2021-08-03T17:21:00.821Z"
   },
   {
    "duration": 109,
    "start_time": "2021-08-03T17:21:57.476Z"
   },
   {
    "duration": 156,
    "start_time": "2021-08-03T17:23:29.251Z"
   },
   {
    "duration": 124,
    "start_time": "2021-08-03T17:25:02.534Z"
   },
   {
    "duration": 87,
    "start_time": "2021-08-03T17:26:02.730Z"
   },
   {
    "duration": 99,
    "start_time": "2021-08-03T17:26:05.394Z"
   },
   {
    "duration": 16,
    "start_time": "2021-08-03T17:26:08.658Z"
   },
   {
    "duration": 33,
    "start_time": "2021-08-03T17:26:12.718Z"
   },
   {
    "duration": 277,
    "start_time": "2021-08-03T17:36:18.652Z"
   },
   {
    "duration": 52,
    "start_time": "2021-08-03T17:36:44.682Z"
   },
   {
    "duration": 17,
    "start_time": "2021-08-03T17:36:49.366Z"
   },
   {
    "duration": 11,
    "start_time": "2021-08-03T17:40:55.486Z"
   },
   {
    "duration": 25,
    "start_time": "2021-08-03T17:44:21.825Z"
   },
   {
    "duration": 22,
    "start_time": "2021-08-03T17:58:26.698Z"
   },
   {
    "duration": 25,
    "start_time": "2021-08-03T17:59:00.739Z"
   },
   {
    "duration": 22,
    "start_time": "2021-08-03T17:59:14.280Z"
   },
   {
    "duration": 22,
    "start_time": "2021-08-03T17:59:36.411Z"
   },
   {
    "duration": 21,
    "start_time": "2021-08-03T18:00:33.736Z"
   },
   {
    "duration": 23,
    "start_time": "2021-08-03T18:01:59.872Z"
   },
   {
    "duration": 23,
    "start_time": "2021-08-03T18:02:18.362Z"
   },
   {
    "duration": 27,
    "start_time": "2021-08-03T18:03:07.048Z"
   },
   {
    "duration": 27,
    "start_time": "2021-08-03T18:06:14.328Z"
   },
   {
    "duration": 26,
    "start_time": "2021-08-03T18:07:17.045Z"
   },
   {
    "duration": 27,
    "start_time": "2021-08-03T18:07:47.851Z"
   },
   {
    "duration": 32,
    "start_time": "2021-08-03T18:08:34.409Z"
   },
   {
    "duration": 80,
    "start_time": "2021-08-03T18:25:36.249Z"
   },
   {
    "duration": 98,
    "start_time": "2021-08-03T18:25:39.828Z"
   },
   {
    "duration": 16,
    "start_time": "2021-08-03T18:25:42.124Z"
   },
   {
    "duration": 32,
    "start_time": "2021-08-03T18:25:44.444Z"
   },
   {
    "duration": 3875,
    "start_time": "2021-08-03T18:25:47.305Z"
   },
   {
    "duration": 54,
    "start_time": "2021-08-03T18:25:55.180Z"
   },
   {
    "duration": 11,
    "start_time": "2021-08-03T18:26:12.202Z"
   },
   {
    "duration": 12,
    "start_time": "2021-08-03T18:26:14.688Z"
   },
   {
    "duration": 35,
    "start_time": "2021-08-03T18:26:17.564Z"
   },
   {
    "duration": 11,
    "start_time": "2021-08-03T18:26:25.396Z"
   },
   {
    "duration": 623,
    "start_time": "2021-08-04T08:19:46.204Z"
   },
   {
    "duration": 112,
    "start_time": "2021-08-04T08:19:46.830Z"
   },
   {
    "duration": 16,
    "start_time": "2021-08-04T08:19:46.943Z"
   },
   {
    "duration": 46,
    "start_time": "2021-08-04T08:19:46.961Z"
   },
   {
    "duration": 3855,
    "start_time": "2021-08-04T08:19:47.009Z"
   },
   {
    "duration": 61,
    "start_time": "2021-08-04T08:19:50.866Z"
   },
   {
    "duration": 13,
    "start_time": "2021-08-04T08:19:50.929Z"
   },
   {
    "duration": 15,
    "start_time": "2021-08-04T08:19:50.944Z"
   },
   {
    "duration": 48,
    "start_time": "2021-08-04T08:19:50.960Z"
   },
   {
    "duration": 10,
    "start_time": "2021-08-04T08:19:51.009Z"
   },
   {
    "duration": 3,
    "start_time": "2021-08-04T08:19:51.021Z"
   },
   {
    "duration": 110,
    "start_time": "2021-08-04T08:22:41.246Z"
   },
   {
    "duration": 104,
    "start_time": "2021-08-04T08:23:00.601Z"
   },
   {
    "duration": 950,
    "start_time": "2021-08-04T18:10:32.779Z"
   },
   {
    "duration": 123,
    "start_time": "2021-08-04T18:21:52.593Z"
   },
   {
    "duration": 124,
    "start_time": "2021-08-04T18:22:58.766Z"
   },
   {
    "duration": 138,
    "start_time": "2021-08-04T18:24:28.429Z"
   },
   {
    "duration": 124,
    "start_time": "2021-08-04T18:25:49.728Z"
   },
   {
    "duration": 3251,
    "start_time": "2021-08-04T18:34:19.543Z"
   },
   {
    "duration": 115,
    "start_time": "2021-08-04T18:35:29.953Z"
   },
   {
    "duration": 122,
    "start_time": "2021-08-04T18:36:19.449Z"
   },
   {
    "duration": 185,
    "start_time": "2021-08-04T18:36:55.977Z"
   },
   {
    "duration": 122,
    "start_time": "2021-08-04T18:40:41.813Z"
   },
   {
    "duration": 174,
    "start_time": "2021-08-04T19:02:02.876Z"
   },
   {
    "duration": 171,
    "start_time": "2021-08-04T19:09:06.584Z"
   },
   {
    "duration": 126,
    "start_time": "2021-08-04T19:09:20.780Z"
   },
   {
    "duration": 179,
    "start_time": "2021-08-04T19:09:35.061Z"
   },
   {
    "duration": 29,
    "start_time": "2021-08-04T19:10:18.103Z"
   },
   {
    "duration": 27,
    "start_time": "2021-08-04T19:12:49.805Z"
   },
   {
    "duration": 126,
    "start_time": "2021-08-04T19:12:59.101Z"
   },
   {
    "duration": 275,
    "start_time": "2021-08-04T19:13:04.473Z"
   },
   {
    "duration": 28,
    "start_time": "2021-08-04T19:13:08.897Z"
   },
   {
    "duration": 960,
    "start_time": "2021-08-04T19:19:44.546Z"
   },
   {
    "duration": 26,
    "start_time": "2021-08-04T19:19:58.274Z"
   },
   {
    "duration": 862,
    "start_time": "2021-08-04T19:20:02.542Z"
   },
   {
    "duration": 51,
    "start_time": "2021-08-04T19:20:27.582Z"
   },
   {
    "duration": 58,
    "start_time": "2021-08-04T19:26:40.139Z"
   },
   {
    "duration": 63,
    "start_time": "2021-08-04T19:34:19.584Z"
   },
   {
    "duration": 128,
    "start_time": "2021-08-04T19:34:32.052Z"
   },
   {
    "duration": 182,
    "start_time": "2021-08-04T19:34:34.156Z"
   },
   {
    "duration": 31,
    "start_time": "2021-08-04T19:34:35.804Z"
   },
   {
    "duration": 59,
    "start_time": "2021-08-04T19:34:37.533Z"
   },
   {
    "duration": 62,
    "start_time": "2021-08-04T19:35:45.140Z"
   },
   {
    "duration": 51,
    "start_time": "2021-08-04T19:36:26.124Z"
   },
   {
    "duration": 128,
    "start_time": "2021-08-04T19:36:49.056Z"
   },
   {
    "duration": 174,
    "start_time": "2021-08-04T19:36:50.909Z"
   },
   {
    "duration": 28,
    "start_time": "2021-08-04T19:36:52.972Z"
   },
   {
    "duration": 51,
    "start_time": "2021-08-04T19:36:55.772Z"
   },
   {
    "duration": 123,
    "start_time": "2021-08-04T19:44:21.129Z"
   },
   {
    "duration": 42,
    "start_time": "2021-08-04T19:44:32.434Z"
   },
   {
    "duration": 73,
    "start_time": "2021-08-04T19:50:41.375Z"
   },
   {
    "duration": 128,
    "start_time": "2021-08-04T19:50:51.719Z"
   },
   {
    "duration": 172,
    "start_time": "2021-08-04T19:50:57.031Z"
   },
   {
    "duration": 26,
    "start_time": "2021-08-04T19:51:00.623Z"
   },
   {
    "duration": 54,
    "start_time": "2021-08-04T19:51:05.495Z"
   },
   {
    "duration": 54,
    "start_time": "2021-08-04T19:51:38.283Z"
   },
   {
    "duration": 50,
    "start_time": "2021-08-04T19:51:54.147Z"
   },
   {
    "duration": 35,
    "start_time": "2021-08-04T19:52:08.655Z"
   },
   {
    "duration": 53,
    "start_time": "2021-08-04T19:52:17.375Z"
   },
   {
    "duration": 78,
    "start_time": "2021-08-04T19:53:50.131Z"
   },
   {
    "duration": 127,
    "start_time": "2021-08-04T19:56:40.777Z"
   },
   {
    "duration": 126,
    "start_time": "2021-08-04T20:02:57.908Z"
   },
   {
    "duration": 122,
    "start_time": "2021-08-04T20:03:33.317Z"
   },
   {
    "duration": 174,
    "start_time": "2021-08-04T20:03:42.917Z"
   },
   {
    "duration": 29,
    "start_time": "2021-08-04T20:03:55.344Z"
   },
   {
    "duration": 132,
    "start_time": "2021-08-04T20:04:09.373Z"
   },
   {
    "duration": 5547,
    "start_time": "2021-08-04T20:04:44.622Z"
   },
   {
    "duration": 5532,
    "start_time": "2021-08-04T20:05:55.937Z"
   },
   {
    "duration": 6599,
    "start_time": "2021-08-04T20:08:11.413Z"
   },
   {
    "duration": 141,
    "start_time": "2021-08-04T20:08:56.094Z"
   },
   {
    "duration": 259,
    "start_time": "2021-08-04T20:09:00.514Z"
   },
   {
    "duration": 38,
    "start_time": "2021-08-04T20:09:08.809Z"
   },
   {
    "duration": 163,
    "start_time": "2021-08-04T20:09:11.769Z"
   },
   {
    "duration": 5922,
    "start_time": "2021-08-04T20:09:16.327Z"
   },
   {
    "duration": 5884,
    "start_time": "2021-08-04T20:13:00.151Z"
   },
   {
    "duration": 5165,
    "start_time": "2021-08-04T20:14:57.819Z"
   },
   {
    "duration": 6246,
    "start_time": "2021-08-04T20:15:20.043Z"
   },
   {
    "duration": 5724,
    "start_time": "2021-08-04T20:15:55.747Z"
   },
   {
    "duration": 183,
    "start_time": "2021-08-04T20:16:32.898Z"
   },
   {
    "duration": 250,
    "start_time": "2021-08-04T20:16:35.787Z"
   },
   {
    "duration": 38,
    "start_time": "2021-08-04T20:16:37.812Z"
   },
   {
    "duration": 127,
    "start_time": "2021-08-04T20:16:40.611Z"
   },
   {
    "duration": 6281,
    "start_time": "2021-08-04T20:16:42.427Z"
   },
   {
    "duration": 148,
    "start_time": "2021-08-04T20:16:48.712Z"
   },
   {
    "duration": 133,
    "start_time": "2021-08-04T20:28:57.753Z"
   },
   {
    "duration": 170,
    "start_time": "2021-08-04T20:29:02.797Z"
   },
   {
    "duration": 27,
    "start_time": "2021-08-04T20:29:10.392Z"
   },
   {
    "duration": 123,
    "start_time": "2021-08-04T20:29:15.955Z"
   },
   {
    "duration": 5723,
    "start_time": "2021-08-04T20:29:22.690Z"
   },
   {
    "duration": 142,
    "start_time": "2021-08-04T20:29:28.416Z"
   },
   {
    "duration": 28,
    "start_time": "2021-08-04T20:29:34.796Z"
   },
   {
    "duration": 17,
    "start_time": "2021-08-04T20:29:39.354Z"
   },
   {
    "duration": 18,
    "start_time": "2021-08-04T20:29:41.940Z"
   },
   {
    "duration": 17,
    "start_time": "2021-08-04T20:29:51.292Z"
   },
   {
    "duration": 131,
    "start_time": "2021-08-04T20:33:18.025Z"
   },
   {
    "duration": 6295,
    "start_time": "2021-08-04T20:47:33.445Z"
   },
   {
    "duration": 181,
    "start_time": "2021-08-04T20:53:33.277Z"
   },
   {
    "duration": 251,
    "start_time": "2021-08-04T20:53:42.148Z"
   },
   {
    "duration": 41,
    "start_time": "2021-08-04T20:53:54.216Z"
   },
   {
    "duration": 177,
    "start_time": "2021-08-04T20:54:12.440Z"
   },
   {
    "duration": 247,
    "start_time": "2021-08-04T20:54:14.311Z"
   },
   {
    "duration": 38,
    "start_time": "2021-08-04T20:54:15.632Z"
   },
   {
    "duration": 186,
    "start_time": "2021-08-04T20:54:16.952Z"
   },
   {
    "duration": 5847,
    "start_time": "2021-08-04T20:54:18.365Z"
   },
   {
    "duration": 147,
    "start_time": "2021-08-04T20:54:24.216Z"
   },
   {
    "duration": 26,
    "start_time": "2021-08-04T20:54:24.365Z"
   },
   {
    "duration": 18,
    "start_time": "2021-08-04T20:54:24.395Z"
   },
   {
    "duration": 19,
    "start_time": "2021-08-04T20:54:26.340Z"
   },
   {
    "duration": 17,
    "start_time": "2021-08-04T20:54:27.536Z"
   },
   {
    "duration": 3,
    "start_time": "2021-08-04T20:54:32.656Z"
   },
   {
    "duration": 894,
    "start_time": "2021-08-05T11:54:28.915Z"
   },
   {
    "duration": 191,
    "start_time": "2021-08-05T11:54:29.812Z"
   },
   {
    "duration": 28,
    "start_time": "2021-08-05T11:54:30.007Z"
   },
   {
    "duration": 157,
    "start_time": "2021-08-05T11:54:30.038Z"
   },
   {
    "duration": 5693,
    "start_time": "2021-08-05T11:54:30.198Z"
   },
   {
    "duration": 128,
    "start_time": "2021-08-05T11:54:35.894Z"
   },
   {
    "duration": 28,
    "start_time": "2021-08-05T11:54:36.025Z"
   },
   {
    "duration": 37,
    "start_time": "2021-08-05T11:54:36.057Z"
   },
   {
    "duration": 14,
    "start_time": "2021-08-05T11:54:36.097Z"
   },
   {
    "duration": 16,
    "start_time": "2021-08-05T11:54:36.114Z"
   },
   {
    "duration": 4,
    "start_time": "2021-08-05T11:54:36.133Z"
   },
   {
    "duration": 770,
    "start_time": "2022-02-08T19:27:33.778Z"
   },
   {
    "duration": 131,
    "start_time": "2022-02-08T19:27:34.551Z"
   },
   {
    "duration": 28,
    "start_time": "2022-02-08T19:27:34.684Z"
   },
   {
    "duration": 112,
    "start_time": "2022-02-08T19:27:34.715Z"
   },
   {
    "duration": 4286,
    "start_time": "2022-02-08T19:27:34.829Z"
   },
   {
    "duration": 95,
    "start_time": "2022-02-08T19:27:39.118Z"
   },
   {
    "duration": 26,
    "start_time": "2022-02-08T19:27:39.215Z"
   },
   {
    "duration": 11,
    "start_time": "2022-02-08T19:27:39.244Z"
   },
   {
    "duration": 43,
    "start_time": "2022-02-08T19:27:39.258Z"
   },
   {
    "duration": 14,
    "start_time": "2022-02-08T19:27:39.303Z"
   },
   {
    "duration": 3,
    "start_time": "2022-02-08T19:27:39.319Z"
   },
   {
    "duration": 683,
    "start_time": "2022-02-08T20:31:25.859Z"
   },
   {
    "duration": 133,
    "start_time": "2022-02-08T20:31:26.544Z"
   },
   {
    "duration": 28,
    "start_time": "2022-02-08T20:31:26.679Z"
   },
   {
    "duration": 102,
    "start_time": "2022-02-08T20:31:26.709Z"
   },
   {
    "duration": 4224,
    "start_time": "2022-02-08T20:31:26.813Z"
   },
   {
    "duration": 95,
    "start_time": "2022-02-08T20:31:31.039Z"
   },
   {
    "duration": 21,
    "start_time": "2022-02-08T20:31:31.136Z"
   },
   {
    "duration": 11,
    "start_time": "2022-02-08T20:31:31.160Z"
   },
   {
    "duration": 13,
    "start_time": "2022-02-08T20:31:31.197Z"
   },
   {
    "duration": 13,
    "start_time": "2022-02-08T20:31:31.212Z"
   },
   {
    "duration": 3,
    "start_time": "2022-02-08T20:39:24.963Z"
   },
   {
    "duration": 56,
    "start_time": "2022-02-08T20:39:30.456Z"
   },
   {
    "duration": 13,
    "start_time": "2022-02-08T20:39:33.003Z"
   },
   {
    "duration": 5,
    "start_time": "2022-02-08T20:39:37.671Z"
   },
   {
    "duration": 25,
    "start_time": "2022-02-08T20:39:51.716Z"
   },
   {
    "duration": 14,
    "start_time": "2022-02-08T20:40:11.064Z"
   },
   {
    "duration": 24,
    "start_time": "2022-02-08T20:41:01.784Z"
   },
   {
    "duration": 12,
    "start_time": "2022-02-08T20:42:17.400Z"
   },
   {
    "duration": 609,
    "start_time": "2022-02-08T20:44:49.324Z"
   },
   {
    "duration": 56,
    "start_time": "2022-02-08T20:44:49.935Z"
   },
   {
    "duration": 13,
    "start_time": "2022-02-08T20:44:49.994Z"
   },
   {
    "duration": 10,
    "start_time": "2022-02-08T20:44:50.010Z"
   },
   {
    "duration": 18,
    "start_time": "2022-02-08T20:44:50.022Z"
   },
   {
    "duration": 11,
    "start_time": "2022-02-08T20:44:50.042Z"
   },
   {
    "duration": 45,
    "start_time": "2022-02-08T20:44:50.055Z"
   },
   {
    "duration": 12,
    "start_time": "2022-02-08T20:44:50.103Z"
   },
   {
    "duration": 34,
    "start_time": "2022-02-08T20:44:50.117Z"
   },
   {
    "duration": 166,
    "start_time": "2022-02-08T20:44:50.154Z"
   },
   {
    "duration": 21,
    "start_time": "2022-02-08T20:44:50.322Z"
   },
   {
    "duration": 121,
    "start_time": "2022-02-08T20:44:50.346Z"
   },
   {
    "duration": 4257,
    "start_time": "2022-02-08T20:44:50.469Z"
   },
   {
    "duration": 98,
    "start_time": "2022-02-08T20:44:54.729Z"
   },
   {
    "duration": 20,
    "start_time": "2022-02-08T20:44:54.829Z"
   },
   {
    "duration": 14,
    "start_time": "2022-02-08T20:44:54.851Z"
   },
   {
    "duration": 40,
    "start_time": "2022-02-08T20:44:54.867Z"
   },
   {
    "duration": 12,
    "start_time": "2022-02-08T20:44:54.909Z"
   },
   {
    "duration": 5,
    "start_time": "2022-02-08T20:47:47.900Z"
   },
   {
    "duration": 10,
    "start_time": "2022-02-08T20:47:49.097Z"
   },
   {
    "duration": 7,
    "start_time": "2022-02-08T20:47:50.757Z"
   },
   {
    "duration": 15,
    "start_time": "2022-02-08T20:48:13.504Z"
   },
   {
    "duration": 8,
    "start_time": "2022-02-08T20:49:02.530Z"
   },
   {
    "duration": 15,
    "start_time": "2022-02-08T20:52:56.985Z"
   },
   {
    "duration": 34,
    "start_time": "2022-02-08T20:53:19.449Z"
   },
   {
    "duration": 627,
    "start_time": "2022-02-08T20:53:28.983Z"
   },
   {
    "duration": 53,
    "start_time": "2022-02-08T20:53:29.611Z"
   },
   {
    "duration": 11,
    "start_time": "2022-02-08T20:53:29.666Z"
   },
   {
    "duration": 20,
    "start_time": "2022-02-08T20:53:29.679Z"
   },
   {
    "duration": 16,
    "start_time": "2022-02-08T20:53:29.701Z"
   },
   {
    "duration": 12,
    "start_time": "2022-02-08T20:53:29.719Z"
   },
   {
    "duration": 17,
    "start_time": "2022-02-08T20:53:29.733Z"
   },
   {
    "duration": 65,
    "start_time": "2022-02-08T20:53:29.754Z"
   },
   {
    "duration": 6,
    "start_time": "2022-02-08T20:53:29.822Z"
   },
   {
    "duration": 8,
    "start_time": "2022-02-08T20:53:29.830Z"
   },
   {
    "duration": 9,
    "start_time": "2022-02-08T20:53:29.840Z"
   },
   {
    "duration": 51,
    "start_time": "2022-02-08T20:53:29.851Z"
   },
   {
    "duration": 10,
    "start_time": "2022-02-08T20:53:29.904Z"
   },
   {
    "duration": 135,
    "start_time": "2022-02-08T20:53:29.916Z"
   },
   {
    "duration": 18,
    "start_time": "2022-02-08T20:53:30.053Z"
   },
   {
    "duration": 131,
    "start_time": "2022-02-08T20:53:30.073Z"
   },
   {
    "duration": 4742,
    "start_time": "2022-02-08T20:53:30.206Z"
   },
   {
    "duration": 99,
    "start_time": "2022-02-08T20:53:34.950Z"
   },
   {
    "duration": 20,
    "start_time": "2022-02-08T20:53:35.051Z"
   },
   {
    "duration": 35,
    "start_time": "2022-02-08T20:53:35.073Z"
   },
   {
    "duration": 18,
    "start_time": "2022-02-08T20:53:35.110Z"
   },
   {
    "duration": 12,
    "start_time": "2022-02-08T20:53:35.130Z"
   },
   {
    "duration": 4,
    "start_time": "2022-02-08T20:55:34.265Z"
   },
   {
    "duration": 56,
    "start_time": "2022-02-08T20:55:36.021Z"
   },
   {
    "duration": 12,
    "start_time": "2022-02-08T20:55:36.188Z"
   },
   {
    "duration": 4,
    "start_time": "2022-02-08T20:55:36.491Z"
   },
   {
    "duration": 14,
    "start_time": "2022-02-08T20:55:36.594Z"
   },
   {
    "duration": 16,
    "start_time": "2022-02-08T20:55:36.805Z"
   },
   {
    "duration": 25,
    "start_time": "2022-02-08T20:55:37.007Z"
   },
   {
    "duration": 54,
    "start_time": "2022-02-08T20:55:37.227Z"
   },
   {
    "duration": 5,
    "start_time": "2022-02-08T20:55:38.391Z"
   },
   {
    "duration": 8,
    "start_time": "2022-02-08T20:55:38.675Z"
   },
   {
    "duration": 7,
    "start_time": "2022-02-08T20:55:38.971Z"
   },
   {
    "duration": 12,
    "start_time": "2022-02-08T20:55:39.495Z"
   },
   {
    "duration": 11,
    "start_time": "2022-02-08T20:55:39.899Z"
   },
   {
    "duration": 101,
    "start_time": "2022-02-08T20:55:41.820Z"
   },
   {
    "duration": 17,
    "start_time": "2022-02-08T20:55:45.875Z"
   },
   {
    "duration": 94,
    "start_time": "2022-02-08T20:55:48.159Z"
   },
   {
    "duration": 4476,
    "start_time": "2022-02-08T20:55:50.551Z"
   },
   {
    "duration": 103,
    "start_time": "2022-02-08T20:55:55.030Z"
   },
   {
    "duration": 22,
    "start_time": "2022-02-08T20:55:55.135Z"
   },
   {
    "duration": 13,
    "start_time": "2022-02-08T20:55:55.324Z"
   },
   {
    "duration": 12,
    "start_time": "2022-02-08T20:55:57.931Z"
   },
   {
    "duration": 12,
    "start_time": "2022-02-08T20:55:59.840Z"
   },
   {
    "duration": 714,
    "start_time": "2022-02-08T20:56:07.187Z"
   },
   {
    "duration": 58,
    "start_time": "2022-02-08T20:56:07.903Z"
   },
   {
    "duration": 13,
    "start_time": "2022-02-08T20:56:07.963Z"
   },
   {
    "duration": 24,
    "start_time": "2022-02-08T20:56:07.979Z"
   },
   {
    "duration": 25,
    "start_time": "2022-02-08T20:56:08.005Z"
   },
   {
    "duration": 18,
    "start_time": "2022-02-08T20:56:08.032Z"
   },
   {
    "duration": 54,
    "start_time": "2022-02-08T20:56:08.052Z"
   },
   {
    "duration": 34,
    "start_time": "2022-02-08T20:56:08.110Z"
   },
   {
    "duration": 5,
    "start_time": "2022-02-08T20:56:08.147Z"
   },
   {
    "duration": 45,
    "start_time": "2022-02-08T20:56:08.154Z"
   },
   {
    "duration": 11,
    "start_time": "2022-02-08T20:56:08.202Z"
   },
   {
    "duration": 24,
    "start_time": "2022-02-08T20:56:08.215Z"
   },
   {
    "duration": 17,
    "start_time": "2022-02-08T20:56:08.241Z"
   },
   {
    "duration": 125,
    "start_time": "2022-02-08T20:56:08.260Z"
   },
   {
    "duration": 16,
    "start_time": "2022-02-08T20:56:08.388Z"
   },
   {
    "duration": 127,
    "start_time": "2022-02-08T20:56:08.406Z"
   },
   {
    "duration": 4781,
    "start_time": "2022-02-08T20:56:08.535Z"
   },
   {
    "duration": 97,
    "start_time": "2022-02-08T20:56:13.318Z"
   },
   {
    "duration": 21,
    "start_time": "2022-02-08T20:56:13.417Z"
   },
   {
    "duration": 12,
    "start_time": "2022-02-08T20:56:13.440Z"
   },
   {
    "duration": 49,
    "start_time": "2022-02-08T20:56:13.454Z"
   },
   {
    "duration": 12,
    "start_time": "2022-02-08T20:56:13.505Z"
   },
   {
    "duration": 6,
    "start_time": "2022-02-08T20:58:19.444Z"
   },
   {
    "duration": 5,
    "start_time": "2022-02-08T20:58:21.852Z"
   },
   {
    "duration": 635,
    "start_time": "2022-02-08T21:00:43.673Z"
   },
   {
    "duration": 55,
    "start_time": "2022-02-08T21:00:44.310Z"
   },
   {
    "duration": 13,
    "start_time": "2022-02-08T21:00:44.367Z"
   },
   {
    "duration": 19,
    "start_time": "2022-02-08T21:00:44.382Z"
   },
   {
    "duration": 17,
    "start_time": "2022-02-08T21:00:44.403Z"
   },
   {
    "duration": 11,
    "start_time": "2022-02-08T21:00:44.422Z"
   },
   {
    "duration": 18,
    "start_time": "2022-02-08T21:00:44.434Z"
   },
   {
    "duration": 73,
    "start_time": "2022-02-08T21:00:44.455Z"
   },
   {
    "duration": 6,
    "start_time": "2022-02-08T21:00:44.531Z"
   },
   {
    "duration": 9,
    "start_time": "2022-02-08T21:00:44.539Z"
   },
   {
    "duration": 6,
    "start_time": "2022-02-08T21:00:44.550Z"
   },
   {
    "duration": 44,
    "start_time": "2022-02-08T21:00:44.559Z"
   },
   {
    "duration": 17,
    "start_time": "2022-02-08T21:00:44.605Z"
   },
   {
    "duration": 19,
    "start_time": "2022-02-08T21:00:44.625Z"
   },
   {
    "duration": 125,
    "start_time": "2022-02-08T21:00:44.646Z"
   },
   {
    "duration": 405,
    "start_time": "2022-02-08T21:00:44.773Z"
   },
   {
    "duration": -3679,
    "start_time": "2022-02-08T21:00:48.858Z"
   },
   {
    "duration": -3686,
    "start_time": "2022-02-08T21:00:48.866Z"
   },
   {
    "duration": -3688,
    "start_time": "2022-02-08T21:00:48.870Z"
   },
   {
    "duration": -3690,
    "start_time": "2022-02-08T21:00:48.873Z"
   },
   {
    "duration": -3692,
    "start_time": "2022-02-08T21:00:48.876Z"
   },
   {
    "duration": -3705,
    "start_time": "2022-02-08T21:00:48.891Z"
   },
   {
    "duration": -3712,
    "start_time": "2022-02-08T21:00:48.899Z"
   },
   {
    "duration": 13,
    "start_time": "2022-02-08T21:04:02.407Z"
   },
   {
    "duration": 6,
    "start_time": "2022-02-08T21:04:06.238Z"
   },
   {
    "duration": 13,
    "start_time": "2022-02-08T21:04:06.598Z"
   },
   {
    "duration": 72,
    "start_time": "2022-02-08T21:05:34.842Z"
   },
   {
    "duration": 72,
    "start_time": "2022-02-08T21:05:46.842Z"
   },
   {
    "duration": 67,
    "start_time": "2022-02-08T21:06:05.191Z"
   },
   {
    "duration": 61,
    "start_time": "2022-02-08T21:06:15.663Z"
   },
   {
    "duration": 4,
    "start_time": "2022-02-08T21:11:41.808Z"
   },
   {
    "duration": 8,
    "start_time": "2022-02-08T21:11:43.329Z"
   },
   {
    "duration": 10,
    "start_time": "2022-02-08T21:11:44.123Z"
   },
   {
    "duration": 8,
    "start_time": "2022-02-08T21:11:50.780Z"
   },
   {
    "duration": 66,
    "start_time": "2022-02-08T21:11:53.080Z"
   },
   {
    "duration": 6,
    "start_time": "2022-02-08T21:12:03.192Z"
   },
   {
    "duration": 8,
    "start_time": "2022-02-08T21:12:04.454Z"
   },
   {
    "duration": 12,
    "start_time": "2022-02-08T21:12:04.465Z"
   },
   {
    "duration": 42,
    "start_time": "2022-02-08T21:12:22.964Z"
   },
   {
    "duration": 6,
    "start_time": "2022-02-08T21:28:51.355Z"
   },
   {
    "duration": 13,
    "start_time": "2022-02-08T21:28:52.975Z"
   },
   {
    "duration": 8,
    "start_time": "2022-02-08T21:30:34.524Z"
   },
   {
    "duration": 19,
    "start_time": "2022-02-08T21:32:15.276Z"
   },
   {
    "duration": 7,
    "start_time": "2022-02-08T21:32:15.756Z"
   },
   {
    "duration": 7,
    "start_time": "2022-02-08T21:33:57.196Z"
   },
   {
    "duration": 13,
    "start_time": "2022-02-08T21:34:04.548Z"
   },
   {
    "duration": 10,
    "start_time": "2022-02-08T21:34:11.092Z"
   },
   {
    "duration": 8,
    "start_time": "2022-02-08T21:34:19.284Z"
   },
   {
    "duration": 674,
    "start_time": "2022-02-08T21:34:42.667Z"
   },
   {
    "duration": 55,
    "start_time": "2022-02-08T21:34:43.343Z"
   },
   {
    "duration": 12,
    "start_time": "2022-02-08T21:34:43.400Z"
   },
   {
    "duration": 14,
    "start_time": "2022-02-08T21:34:43.414Z"
   },
   {
    "duration": 25,
    "start_time": "2022-02-08T21:34:43.430Z"
   },
   {
    "duration": 11,
    "start_time": "2022-02-08T21:34:43.456Z"
   },
   {
    "duration": 38,
    "start_time": "2022-02-08T21:34:43.469Z"
   },
   {
    "duration": 34,
    "start_time": "2022-02-08T21:34:43.510Z"
   },
   {
    "duration": 4,
    "start_time": "2022-02-08T21:34:43.546Z"
   },
   {
    "duration": 8,
    "start_time": "2022-02-08T21:34:43.552Z"
   },
   {
    "duration": 38,
    "start_time": "2022-02-08T21:34:43.562Z"
   },
   {
    "duration": 4,
    "start_time": "2022-02-08T21:34:43.602Z"
   },
   {
    "duration": 12,
    "start_time": "2022-02-08T21:34:43.608Z"
   },
   {
    "duration": 3,
    "start_time": "2022-02-08T21:34:43.622Z"
   },
   {
    "duration": 9,
    "start_time": "2022-02-08T21:34:43.627Z"
   },
   {
    "duration": 9,
    "start_time": "2022-02-08T21:34:43.638Z"
   },
   {
    "duration": 110,
    "start_time": "2022-02-08T21:34:43.649Z"
   },
   {
    "duration": 4,
    "start_time": "2022-02-08T21:34:43.761Z"
   },
   {
    "duration": 7,
    "start_time": "2022-02-08T21:34:43.767Z"
   },
   {
    "duration": 7,
    "start_time": "2022-02-08T21:34:43.799Z"
   },
   {
    "duration": 40,
    "start_time": "2022-02-08T21:34:43.808Z"
   },
   {
    "duration": 5,
    "start_time": "2022-02-08T21:34:43.850Z"
   },
   {
    "duration": 52,
    "start_time": "2022-02-08T21:34:43.858Z"
   },
   {
    "duration": 19,
    "start_time": "2022-02-08T21:34:43.913Z"
   },
   {
    "duration": 12,
    "start_time": "2022-02-08T21:34:43.934Z"
   },
   {
    "duration": 52,
    "start_time": "2022-02-08T21:34:43.948Z"
   },
   {
    "duration": 8,
    "start_time": "2022-02-08T21:34:44.002Z"
   },
   {
    "duration": 9,
    "start_time": "2022-02-08T21:34:44.013Z"
   },
   {
    "duration": 90,
    "start_time": "2022-02-08T21:34:44.025Z"
   },
   {
    "duration": 4413,
    "start_time": "2022-02-08T21:34:44.117Z"
   },
   {
    "duration": 95,
    "start_time": "2022-02-08T21:34:48.532Z"
   },
   {
    "duration": 20,
    "start_time": "2022-02-08T21:34:48.629Z"
   },
   {
    "duration": 12,
    "start_time": "2022-02-08T21:34:48.650Z"
   },
   {
    "duration": 46,
    "start_time": "2022-02-08T21:34:48.663Z"
   },
   {
    "duration": 12,
    "start_time": "2022-02-08T21:34:48.710Z"
   },
   {
    "duration": 82,
    "start_time": "2022-02-08T21:37:04.661Z"
   },
   {
    "duration": 632,
    "start_time": "2022-02-08T21:40:24.760Z"
   },
   {
    "duration": 54,
    "start_time": "2022-02-08T21:40:25.394Z"
   },
   {
    "duration": 11,
    "start_time": "2022-02-08T21:40:25.451Z"
   },
   {
    "duration": 12,
    "start_time": "2022-02-08T21:40:25.464Z"
   },
   {
    "duration": 16,
    "start_time": "2022-02-08T21:40:25.500Z"
   },
   {
    "duration": 12,
    "start_time": "2022-02-08T21:40:25.518Z"
   },
   {
    "duration": 19,
    "start_time": "2022-02-08T21:40:25.532Z"
   },
   {
    "duration": 77,
    "start_time": "2022-02-08T21:40:25.554Z"
   },
   {
    "duration": 6,
    "start_time": "2022-02-08T21:40:25.644Z"
   },
   {
    "duration": 14,
    "start_time": "2022-02-08T21:40:25.653Z"
   },
   {
    "duration": 8,
    "start_time": "2022-02-08T21:40:25.669Z"
   },
   {
    "duration": 4,
    "start_time": "2022-02-08T21:40:25.699Z"
   },
   {
    "duration": 12,
    "start_time": "2022-02-08T21:40:25.706Z"
   },
   {
    "duration": 4,
    "start_time": "2022-02-08T21:40:25.721Z"
   },
   {
    "duration": 11,
    "start_time": "2022-02-08T21:40:25.727Z"
   },
   {
    "duration": 16,
    "start_time": "2022-02-08T21:40:25.740Z"
   },
   {
    "duration": 109,
    "start_time": "2022-02-08T21:40:25.758Z"
   },
   {
    "duration": 4,
    "start_time": "2022-02-08T21:40:25.869Z"
   },
   {
    "duration": 6,
    "start_time": "2022-02-08T21:40:25.898Z"
   },
   {
    "duration": 9,
    "start_time": "2022-02-08T21:40:25.906Z"
   },
   {
    "duration": 82,
    "start_time": "2022-02-08T21:40:25.916Z"
   },
   {
    "duration": 7,
    "start_time": "2022-02-08T21:40:26.001Z"
   },
   {
    "duration": 18,
    "start_time": "2022-02-08T21:40:26.012Z"
   },
   {
    "duration": 13,
    "start_time": "2022-02-08T21:40:26.032Z"
   },
   {
    "duration": 20,
    "start_time": "2022-02-08T21:40:26.047Z"
   },
   {
    "duration": 47,
    "start_time": "2022-02-08T21:40:26.069Z"
   },
   {
    "duration": 7,
    "start_time": "2022-02-08T21:40:26.118Z"
   },
   {
    "duration": 73,
    "start_time": "2022-02-08T21:40:26.127Z"
   },
   {
    "duration": 5182,
    "start_time": "2022-02-08T21:40:26.203Z"
   },
   {
    "duration": 140,
    "start_time": "2022-02-08T21:40:31.399Z"
   },
   {
    "duration": 24,
    "start_time": "2022-02-08T21:40:31.542Z"
   },
   {
    "duration": 35,
    "start_time": "2022-02-08T21:40:31.568Z"
   },
   {
    "duration": 31,
    "start_time": "2022-02-08T21:40:31.605Z"
   },
   {
    "duration": 19,
    "start_time": "2022-02-08T21:40:31.638Z"
   },
   {
    "duration": 3131,
    "start_time": "2022-02-08T21:42:22.124Z"
   },
   {
    "duration": 661,
    "start_time": "2022-02-08T21:43:23.184Z"
   },
   {
    "duration": 16,
    "start_time": "2022-02-08T21:44:53.640Z"
   },
   {
    "duration": 36,
    "start_time": "2022-02-08T21:45:03.360Z"
   },
   {
    "duration": 8,
    "start_time": "2022-02-08T21:47:31.272Z"
   },
   {
    "duration": 13,
    "start_time": "2022-02-08T21:47:31.745Z"
   },
   {
    "duration": 22,
    "start_time": "2022-02-08T21:47:45.944Z"
   },
   {
    "duration": 8,
    "start_time": "2022-02-08T21:47:59.872Z"
   },
   {
    "duration": 21,
    "start_time": "2022-02-08T21:49:35.160Z"
   },
   {
    "duration": 6,
    "start_time": "2022-02-08T21:49:52.632Z"
   },
   {
    "duration": 11,
    "start_time": "2022-02-08T21:51:06.205Z"
   },
   {
    "duration": 32,
    "start_time": "2022-02-08T21:51:19.712Z"
   },
   {
    "duration": 11,
    "start_time": "2022-02-08T21:52:18.997Z"
   },
   {
    "duration": 14,
    "start_time": "2022-02-08T21:52:45.277Z"
   },
   {
    "duration": 18,
    "start_time": "2022-02-08T21:53:18.949Z"
   },
   {
    "duration": 20,
    "start_time": "2022-02-08T21:53:44.913Z"
   },
   {
    "duration": 10,
    "start_time": "2022-02-08T21:55:06.361Z"
   },
   {
    "duration": 7,
    "start_time": "2022-02-08T21:55:36.745Z"
   },
   {
    "duration": 10,
    "start_time": "2022-02-08T21:56:44.509Z"
   },
   {
    "duration": 7,
    "start_time": "2022-02-08T21:57:45.709Z"
   },
   {
    "duration": 13,
    "start_time": "2022-02-08T21:59:51.193Z"
   },
   {
    "duration": 620,
    "start_time": "2022-02-08T22:00:22.364Z"
   },
   {
    "duration": 55,
    "start_time": "2022-02-08T22:00:22.986Z"
   },
   {
    "duration": 12,
    "start_time": "2022-02-08T22:00:23.044Z"
   },
   {
    "duration": 11,
    "start_time": "2022-02-08T22:00:23.058Z"
   },
   {
    "duration": 31,
    "start_time": "2022-02-08T22:00:23.071Z"
   },
   {
    "duration": 11,
    "start_time": "2022-02-08T22:00:23.103Z"
   },
   {
    "duration": 21,
    "start_time": "2022-02-08T22:00:23.116Z"
   },
   {
    "duration": 33,
    "start_time": "2022-02-08T22:00:23.139Z"
   },
   {
    "duration": 5,
    "start_time": "2022-02-08T22:00:23.199Z"
   },
   {
    "duration": 8,
    "start_time": "2022-02-08T22:00:23.205Z"
   },
   {
    "duration": 5,
    "start_time": "2022-02-08T22:00:23.215Z"
   },
   {
    "duration": 8,
    "start_time": "2022-02-08T22:00:23.222Z"
   },
   {
    "duration": 12,
    "start_time": "2022-02-08T22:00:23.231Z"
   },
   {
    "duration": 11,
    "start_time": "2022-02-08T22:00:23.245Z"
   },
   {
    "duration": 25,
    "start_time": "2022-02-08T22:00:23.258Z"
   },
   {
    "duration": 20,
    "start_time": "2022-02-08T22:00:23.285Z"
   },
   {
    "duration": 73,
    "start_time": "2022-02-08T22:00:23.307Z"
   },
   {
    "duration": 18,
    "start_time": "2022-02-08T22:00:23.382Z"
   },
   {
    "duration": 25,
    "start_time": "2022-02-08T22:00:23.402Z"
   },
   {
    "duration": 22,
    "start_time": "2022-02-08T22:00:23.429Z"
   },
   {
    "duration": 55,
    "start_time": "2022-02-08T22:00:23.453Z"
   },
   {
    "duration": 4,
    "start_time": "2022-02-08T22:00:23.510Z"
   },
   {
    "duration": 26,
    "start_time": "2022-02-08T22:00:23.517Z"
   },
   {
    "duration": 21,
    "start_time": "2022-02-08T22:00:23.546Z"
   },
   {
    "duration": 20,
    "start_time": "2022-02-08T22:00:23.569Z"
   },
   {
    "duration": 43,
    "start_time": "2022-02-08T22:00:23.591Z"
   },
   {
    "duration": 6,
    "start_time": "2022-02-08T22:00:23.636Z"
   },
   {
    "duration": 36,
    "start_time": "2022-02-08T22:00:23.644Z"
   },
   {
    "duration": 3723,
    "start_time": "2022-02-08T22:00:23.682Z"
   },
   {
    "duration": 676,
    "start_time": "2022-02-08T22:00:27.407Z"
   },
   {
    "duration": 17,
    "start_time": "2022-02-08T22:00:28.084Z"
   },
   {
    "duration": 29,
    "start_time": "2022-02-08T22:00:28.103Z"
   },
   {
    "duration": 6,
    "start_time": "2022-02-08T22:00:28.134Z"
   },
   {
    "duration": 14,
    "start_time": "2022-02-08T22:00:28.141Z"
   },
   {
    "duration": 6,
    "start_time": "2022-02-08T22:00:28.157Z"
   },
   {
    "duration": 39,
    "start_time": "2022-02-08T22:00:28.165Z"
   },
   {
    "duration": 7,
    "start_time": "2022-02-08T22:00:28.206Z"
   },
   {
    "duration": 14,
    "start_time": "2022-02-08T22:00:28.215Z"
   },
   {
    "duration": 17,
    "start_time": "2022-02-08T22:00:28.231Z"
   },
   {
    "duration": 7,
    "start_time": "2022-02-08T22:00:28.249Z"
   },
   {
    "duration": 52,
    "start_time": "2022-02-08T22:00:28.258Z"
   },
   {
    "duration": 28,
    "start_time": "2022-02-08T22:00:28.312Z"
   },
   {
    "duration": 25,
    "start_time": "2022-02-08T22:00:28.342Z"
   },
   {
    "duration": 39,
    "start_time": "2022-02-08T22:00:28.369Z"
   },
   {
    "duration": 13,
    "start_time": "2022-02-08T22:00:28.410Z"
   },
   {
    "duration": 13,
    "start_time": "2022-02-08T22:00:28.425Z"
   },
   {
    "duration": 14,
    "start_time": "2022-02-08T22:01:07.091Z"
   },
   {
    "duration": 13,
    "start_time": "2022-02-08T22:01:15.065Z"
   },
   {
    "duration": 6,
    "start_time": "2022-02-08T22:02:49.014Z"
   },
   {
    "duration": 17,
    "start_time": "2022-02-08T22:04:38.816Z"
   },
   {
    "duration": 17,
    "start_time": "2022-02-08T22:05:53.160Z"
   },
   {
    "duration": 3097,
    "start_time": "2022-02-08T22:06:49.052Z"
   },
   {
    "duration": 6,
    "start_time": "2022-02-08T22:13:09.237Z"
   },
   {
    "duration": 8,
    "start_time": "2022-02-08T22:13:20.521Z"
   },
   {
    "duration": 9,
    "start_time": "2022-02-08T22:14:18.565Z"
   },
   {
    "duration": 8,
    "start_time": "2022-02-08T22:15:27.801Z"
   },
   {
    "duration": 11,
    "start_time": "2022-02-08T22:18:54.082Z"
   },
   {
    "duration": 11,
    "start_time": "2022-02-08T22:19:41.426Z"
   },
   {
    "duration": 7,
    "start_time": "2022-02-08T22:20:17.714Z"
   },
   {
    "duration": 8,
    "start_time": "2022-02-08T22:22:10.310Z"
   },
   {
    "duration": 8,
    "start_time": "2022-02-08T22:23:10.634Z"
   },
   {
    "duration": 11,
    "start_time": "2022-02-08T22:27:19.034Z"
   },
   {
    "duration": 8,
    "start_time": "2022-02-08T22:28:07.043Z"
   },
   {
    "duration": 7,
    "start_time": "2022-02-08T22:30:14.262Z"
   },
   {
    "duration": 7,
    "start_time": "2022-02-08T22:30:49.979Z"
   },
   {
    "duration": 608,
    "start_time": "2022-02-08T22:34:40.826Z"
   },
   {
    "duration": 53,
    "start_time": "2022-02-08T22:34:41.436Z"
   },
   {
    "duration": 13,
    "start_time": "2022-02-08T22:34:41.491Z"
   },
   {
    "duration": 9,
    "start_time": "2022-02-08T22:34:41.506Z"
   },
   {
    "duration": 15,
    "start_time": "2022-02-08T22:34:41.518Z"
   },
   {
    "duration": 11,
    "start_time": "2022-02-08T22:34:41.535Z"
   },
   {
    "duration": 52,
    "start_time": "2022-02-08T22:34:41.548Z"
   },
   {
    "duration": 34,
    "start_time": "2022-02-08T22:34:41.603Z"
   },
   {
    "duration": 5,
    "start_time": "2022-02-08T22:34:41.639Z"
   },
   {
    "duration": 8,
    "start_time": "2022-02-08T22:34:41.645Z"
   },
   {
    "duration": 5,
    "start_time": "2022-02-08T22:34:41.655Z"
   },
   {
    "duration": 6,
    "start_time": "2022-02-08T22:34:41.661Z"
   },
   {
    "duration": 36,
    "start_time": "2022-02-08T22:34:41.668Z"
   },
   {
    "duration": 3,
    "start_time": "2022-02-08T22:34:41.707Z"
   },
   {
    "duration": 11,
    "start_time": "2022-02-08T22:34:41.712Z"
   },
   {
    "duration": 9,
    "start_time": "2022-02-08T22:34:41.725Z"
   },
   {
    "duration": 97,
    "start_time": "2022-02-08T22:34:41.736Z"
   },
   {
    "duration": 4,
    "start_time": "2022-02-08T22:34:41.835Z"
   },
   {
    "duration": 13,
    "start_time": "2022-02-08T22:34:41.841Z"
   },
   {
    "duration": 23,
    "start_time": "2022-02-08T22:34:41.856Z"
   },
   {
    "duration": 47,
    "start_time": "2022-02-08T22:34:41.880Z"
   },
   {
    "duration": 4,
    "start_time": "2022-02-08T22:34:41.929Z"
   },
   {
    "duration": 31,
    "start_time": "2022-02-08T22:34:41.937Z"
   },
   {
    "duration": 14,
    "start_time": "2022-02-08T22:34:41.970Z"
   },
   {
    "duration": 13,
    "start_time": "2022-02-08T22:34:41.986Z"
   },
   {
    "duration": 43,
    "start_time": "2022-02-08T22:34:42.001Z"
   },
   {
    "duration": 7,
    "start_time": "2022-02-08T22:34:42.046Z"
   },
   {
    "duration": 48,
    "start_time": "2022-02-08T22:34:42.055Z"
   },
   {
    "duration": 3518,
    "start_time": "2022-02-08T22:34:42.105Z"
   },
   {
    "duration": 666,
    "start_time": "2022-02-08T22:34:45.625Z"
   },
   {
    "duration": 16,
    "start_time": "2022-02-08T22:34:46.299Z"
   },
   {
    "duration": 29,
    "start_time": "2022-02-08T22:34:46.317Z"
   },
   {
    "duration": 30,
    "start_time": "2022-02-08T22:34:46.347Z"
   },
   {
    "duration": 11,
    "start_time": "2022-02-08T22:34:46.379Z"
   },
   {
    "duration": 25,
    "start_time": "2022-02-08T22:34:46.391Z"
   },
   {
    "duration": 16,
    "start_time": "2022-02-08T22:34:46.418Z"
   },
   {
    "duration": 20,
    "start_time": "2022-02-08T22:34:46.436Z"
   },
   {
    "duration": 15,
    "start_time": "2022-02-08T22:34:46.458Z"
   },
   {
    "duration": 20,
    "start_time": "2022-02-08T22:34:46.475Z"
   },
   {
    "duration": 23,
    "start_time": "2022-02-08T22:34:46.497Z"
   },
   {
    "duration": 9,
    "start_time": "2022-02-08T22:34:46.522Z"
   },
   {
    "duration": 10,
    "start_time": "2022-02-08T22:34:46.533Z"
   },
   {
    "duration": 27,
    "start_time": "2022-02-08T22:34:46.545Z"
   },
   {
    "duration": 26,
    "start_time": "2022-02-08T22:34:46.574Z"
   },
   {
    "duration": 14,
    "start_time": "2022-02-08T22:34:46.602Z"
   },
   {
    "duration": 7,
    "start_time": "2022-02-08T22:34:46.618Z"
   },
   {
    "duration": 9,
    "start_time": "2022-02-08T22:34:46.627Z"
   },
   {
    "duration": 7,
    "start_time": "2022-02-08T22:34:46.638Z"
   },
   {
    "duration": 7,
    "start_time": "2022-02-08T22:34:46.647Z"
   },
   {
    "duration": 45,
    "start_time": "2022-02-08T22:34:46.656Z"
   },
   {
    "duration": 9,
    "start_time": "2022-02-08T22:34:46.703Z"
   },
   {
    "duration": 7,
    "start_time": "2022-02-08T22:34:46.714Z"
   },
   {
    "duration": 8,
    "start_time": "2022-02-08T22:34:46.722Z"
   },
   {
    "duration": 9,
    "start_time": "2022-02-08T22:34:46.732Z"
   },
   {
    "duration": 7,
    "start_time": "2022-02-08T22:34:46.743Z"
   },
   {
    "duration": 9,
    "start_time": "2022-02-08T22:34:46.751Z"
   },
   {
    "duration": 1013,
    "start_time": "2022-02-20T18:38:28.759Z"
   },
   {
    "duration": 84,
    "start_time": "2022-02-20T18:38:29.776Z"
   },
   {
    "duration": 20,
    "start_time": "2022-02-20T18:38:29.864Z"
   },
   {
    "duration": 18,
    "start_time": "2022-02-20T18:38:29.888Z"
   },
   {
    "duration": 49,
    "start_time": "2022-02-20T18:38:29.909Z"
   },
   {
    "duration": 14,
    "start_time": "2022-02-20T18:38:29.960Z"
   },
   {
    "duration": 33,
    "start_time": "2022-02-20T18:38:29.977Z"
   },
   {
    "duration": 79,
    "start_time": "2022-02-20T18:38:30.015Z"
   },
   {
    "duration": 7,
    "start_time": "2022-02-20T18:38:30.097Z"
   },
   {
    "duration": 45,
    "start_time": "2022-02-20T18:38:30.106Z"
   },
   {
    "duration": 7,
    "start_time": "2022-02-20T18:38:30.153Z"
   },
   {
    "duration": 34,
    "start_time": "2022-02-20T18:38:30.163Z"
   },
   {
    "duration": 23,
    "start_time": "2022-02-20T18:38:30.200Z"
   },
   {
    "duration": 16,
    "start_time": "2022-02-20T18:38:30.226Z"
   },
   {
    "duration": 22,
    "start_time": "2022-02-20T18:38:30.245Z"
   },
   {
    "duration": 28,
    "start_time": "2022-02-20T18:38:30.270Z"
   },
   {
    "duration": 107,
    "start_time": "2022-02-20T18:38:30.300Z"
   },
   {
    "duration": 5,
    "start_time": "2022-02-20T18:38:30.410Z"
   },
   {
    "duration": 30,
    "start_time": "2022-02-20T18:38:30.417Z"
   },
   {
    "duration": 19,
    "start_time": "2022-02-20T18:38:30.450Z"
   },
   {
    "duration": 61,
    "start_time": "2022-02-20T18:38:30.472Z"
   },
   {
    "duration": 17,
    "start_time": "2022-02-20T18:38:30.536Z"
   },
   {
    "duration": 30,
    "start_time": "2022-02-20T18:38:30.560Z"
   },
   {
    "duration": 20,
    "start_time": "2022-02-20T18:38:30.595Z"
   },
   {
    "duration": 40,
    "start_time": "2022-02-20T18:38:30.618Z"
   },
   {
    "duration": 36,
    "start_time": "2022-02-20T18:38:30.661Z"
   },
   {
    "duration": 11,
    "start_time": "2022-02-20T18:38:30.701Z"
   },
   {
    "duration": 103,
    "start_time": "2022-02-20T18:38:30.715Z"
   },
   {
    "duration": 6152,
    "start_time": "2022-02-20T18:38:30.821Z"
   },
   {
    "duration": 1284,
    "start_time": "2022-02-20T18:38:36.977Z"
   },
   {
    "duration": 20,
    "start_time": "2022-02-20T18:38:38.264Z"
   },
   {
    "duration": 30,
    "start_time": "2022-02-20T18:38:38.287Z"
   },
   {
    "duration": 51,
    "start_time": "2022-02-20T18:38:38.321Z"
   },
   {
    "duration": 16,
    "start_time": "2022-02-20T18:38:38.375Z"
   },
   {
    "duration": 55,
    "start_time": "2022-02-20T18:38:38.395Z"
   },
   {
    "duration": 10,
    "start_time": "2022-02-20T18:38:38.453Z"
   },
   {
    "duration": 32,
    "start_time": "2022-02-20T18:38:38.466Z"
   },
   {
    "duration": 11,
    "start_time": "2022-02-20T18:38:38.502Z"
   },
   {
    "duration": 54,
    "start_time": "2022-02-20T18:38:38.516Z"
   },
   {
    "duration": 25,
    "start_time": "2022-02-20T18:38:38.574Z"
   },
   {
    "duration": 51,
    "start_time": "2022-02-20T18:38:38.602Z"
   },
   {
    "duration": 11,
    "start_time": "2022-02-20T18:38:38.656Z"
   },
   {
    "duration": 31,
    "start_time": "2022-02-20T18:38:38.671Z"
   },
   {
    "duration": 66,
    "start_time": "2022-02-20T18:38:38.706Z"
   },
   {
    "duration": 26,
    "start_time": "2022-02-20T18:38:38.775Z"
   },
   {
    "duration": 47,
    "start_time": "2022-02-20T18:38:38.804Z"
   },
   {
    "duration": 19,
    "start_time": "2022-02-20T18:38:38.854Z"
   },
   {
    "duration": 11,
    "start_time": "2022-02-20T18:38:38.876Z"
   },
   {
    "duration": 10,
    "start_time": "2022-02-20T18:38:38.890Z"
   },
   {
    "duration": 52,
    "start_time": "2022-02-20T18:38:38.904Z"
   },
   {
    "duration": 16,
    "start_time": "2022-02-20T18:38:38.959Z"
   },
   {
    "duration": 14,
    "start_time": "2022-02-20T18:38:38.978Z"
   },
   {
    "duration": 53,
    "start_time": "2022-02-20T18:38:38.997Z"
   },
   {
    "duration": 13,
    "start_time": "2022-02-20T18:38:39.053Z"
   },
   {
    "duration": 16,
    "start_time": "2022-02-20T18:38:39.069Z"
   },
   {
    "duration": 16,
    "start_time": "2022-02-20T18:38:39.088Z"
   }
  ],
  "kernelspec": {
   "display_name": "Python 3",
   "language": "python",
   "name": "python3"
  },
  "language_info": {
   "codemirror_mode": {
    "name": "ipython",
    "version": 3
   },
   "file_extension": ".py",
   "mimetype": "text/x-python",
   "name": "python",
   "nbconvert_exporter": "python",
   "pygments_lexer": "ipython3",
   "version": "3.7.8"
  },
  "toc": {
   "base_numbering": 1,
   "nav_menu": {},
   "number_sections": true,
   "sideBar": true,
   "skip_h1_title": true,
   "title_cell": "Table of Contents",
   "title_sidebar": "Contents",
   "toc_cell": false,
   "toc_position": {},
   "toc_section_display": true,
   "toc_window_display": false
  }
 },
 "nbformat": 4,
 "nbformat_minor": 2
}
